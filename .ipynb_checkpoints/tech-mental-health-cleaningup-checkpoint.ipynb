{
 "cells": [
  {
   "cell_type": "markdown",
   "metadata": {
    "toc": true
   },
   "source": [
    "<h1>Table of Contents<span class=\"tocSkip\"></span></h1>\n",
    "<div class=\"toc\"><ul class=\"toc-item\"><li><span><a href=\"#Importing-libraries,-data-and-functions-with-initial-look-at-data\" data-toc-modified-id=\"Importing-libraries,-data-and-functions-with-initial-look-at-data-1\"><span class=\"toc-item-num\">1&nbsp;&nbsp;</span>Importing libraries, data and functions with initial look at data</a></span><ul class=\"toc-item\"><li><span><a href=\"#A-large-number-of-null-values\" data-toc-modified-id=\"A-large-number-of-null-values-1.1\"><span class=\"toc-item-num\">1.1&nbsp;&nbsp;</span>A large number of null values</a></span></li><li><span><a href=\"#Some-helper-functions\" data-toc-modified-id=\"Some-helper-functions-1.2\"><span class=\"toc-item-num\">1.2&nbsp;&nbsp;</span>Some helper functions</a></span></li></ul></li><li><span><a href=\"#Initial-exploration-and-key-questions\" data-toc-modified-id=\"Initial-exploration-and-key-questions-2\"><span class=\"toc-item-num\">2&nbsp;&nbsp;</span>Initial exploration and key questions</a></span><ul class=\"toc-item\"><li><span><a href=\"#How-many-people-surveyed-are-diagnosed-with-a-mental-health-condition?\" data-toc-modified-id=\"How-many-people-surveyed-are-diagnosed-with-a-mental-health-condition?-2.1\"><span class=\"toc-item-num\">2.1&nbsp;&nbsp;</span>How many people surveyed are diagnosed with a mental health condition?</a></span></li><li><span><a href=\"#To-do-charts:\" data-toc-modified-id=\"To-do-charts:-2.2\"><span class=\"toc-item-num\">2.2&nbsp;&nbsp;</span>To do charts:</a></span></li><li><span><a href=\"#Distribution-of-age,-around-30s-is-common\" data-toc-modified-id=\"Distribution-of-age,-around-30s-is-common-2.3\"><span class=\"toc-item-num\">2.3&nbsp;&nbsp;</span>Distribution of age, around 30s is common</a></span></li><li><span><a href=\"#To-do:-Fix-title\" data-toc-modified-id=\"To-do:-Fix-title-2.4\"><span class=\"toc-item-num\">2.4&nbsp;&nbsp;</span>To do: Fix title</a></span></li><li><span><a href=\"#More-people-than-not-have-sought-treatment-for-a-mental-health-issue-from-a-professional\" data-toc-modified-id=\"More-people-than-not-have-sought-treatment-for-a-mental-health-issue-from-a-professional-2.5\"><span class=\"toc-item-num\">2.5&nbsp;&nbsp;</span>More people than not have sought treatment for a mental health issue from a professional</a></span></li><li><span><a href=\"#Strongly,-most-people-would-not-bring-up-a-mental-health-issue-to-a-potential-employer\" data-toc-modified-id=\"Strongly,-most-people-would-not-bring-up-a-mental-health-issue-to-a-potential-employer-2.6\"><span class=\"toc-item-num\">2.6&nbsp;&nbsp;</span>Strongly, most people would not bring up a mental health issue to a potential employer</a></span></li><li><span><a href=\"#Target-variable---would-it-hurt-your-career-to-be-known-as-mentally-ill?\" data-toc-modified-id=\"Target-variable---would-it-hurt-your-career-to-be-known-as-mentally-ill?-2.7\"><span class=\"toc-item-num\">2.7&nbsp;&nbsp;</span>Target variable - would it hurt your career to be known as mentally ill?</a></span></li><li><span><a href=\"#HOT-TAKE:-&quot;Maybe&quot;-feeling-able-to-disclose-mental-health-issues-if-you-wish-is-not-good-enough-(--variable-later-is-renamed-&quot;hurt_career&quot;)\" data-toc-modified-id=\"HOT-TAKE:-&quot;Maybe&quot;-feeling-able-to-disclose-mental-health-issues-if-you-wish-is-not-good-enough-(--variable-later-is-renamed-&quot;hurt_career&quot;)-2.8\"><span class=\"toc-item-num\">2.8&nbsp;&nbsp;</span>HOT TAKE: \"Maybe\" feeling able to disclose mental health issues if you wish is not good enough (- variable later is renamed \"hurt_career\")</a></span></li><li><span><a href=\"#Comparing-the-answers-of-the-diagnosed-and-not-regarding-the-target\" data-toc-modified-id=\"Comparing-the-answers-of-the-diagnosed-and-not-regarding-the-target-2.9\"><span class=\"toc-item-num\">2.9&nbsp;&nbsp;</span>Comparing the answers of the diagnosed and not regarding the target</a></span></li><li><span><a href=\"#Answer:-Less-certitude-among-the-neurotypical\" data-toc-modified-id=\"Answer:-Less-certitude-among-the-neurotypical-2.10\"><span class=\"toc-item-num\">2.10&nbsp;&nbsp;</span>Answer: Less certitude among the neurotypical</a></span></li></ul></li><li><span><a href=\"#Feature-engineering,-starting-with-renaming-columns\" data-toc-modified-id=\"Feature-engineering,-starting-with-renaming-columns-3\"><span class=\"toc-item-num\">3&nbsp;&nbsp;</span>Feature engineering, starting with renaming columns</a></span><ul class=\"toc-item\"><li><span><a href=\"#TO-DO:-More-plots-here-with-simpler-variable-names\" data-toc-modified-id=\"TO-DO:-More-plots-here-with-simpler-variable-names-3.1\"><span class=\"toc-item-num\">3.1&nbsp;&nbsp;</span>TO DO: More plots here with simpler variable names</a></span></li><li><span><a href=\"#Comparing-employer-perception-of-mental-vs.-physical-health:\" data-toc-modified-id=\"Comparing-employer-perception-of-mental-vs.-physical-health:-3.2\"><span class=\"toc-item-num\">3.2&nbsp;&nbsp;</span>Comparing employer perception of mental vs. physical health:</a></span></li><li><span><a href=\"#With-several-columns,-the-self-employed-variable-being-1-has-a-link-to-NaN,-so-dropping-it-and-then-the-column\" data-toc-modified-id=\"With-several-columns,-the-self-employed-variable-being-1-has-a-link-to-NaN,-so-dropping-it-and-then-the-column-3.3\"><span class=\"toc-item-num\">3.3&nbsp;&nbsp;</span>With several columns, the self employed variable being 1 has a link to NaN, so dropping it and then the column</a></span></li><li><span><a href=\"#Limiting-dataset-to-only-employees-of-tech-companies\" data-toc-modified-id=\"Limiting-dataset-to-only-employees-of-tech-companies-3.4\"><span class=\"toc-item-num\">3.4&nbsp;&nbsp;</span>Limiting dataset to only employees of tech companies</a></span></li><li><span><a href=\"#Dropping-rows-with->-50%-NaN-and-imputing-where-reasonable\" data-toc-modified-id=\"Dropping-rows-with->-50%-NaN-and-imputing-where-reasonable-3.5\"><span class=\"toc-item-num\">3.5&nbsp;&nbsp;</span>Dropping rows with &gt; 50% NaN and imputing where reasonable</a></span></li><li><span><a href=\"#Dropping-columns--PROBABLY-too-many-and-this-is-why-poor-performance:\" data-toc-modified-id=\"Dropping-columns--PROBABLY-too-many-and-this-is-why-poor-performance:-3.6\"><span class=\"toc-item-num\">3.6&nbsp;&nbsp;</span>Dropping columns- PROBABLY too many and this is why poor performance:</a></span></li><li><span><a href=\"#TO-DO:-List-index-out-of-range-on-First-profile-report?\" data-toc-modified-id=\"TO-DO:-List-index-out-of-range-on-First-profile-report?-3.7\"><span class=\"toc-item-num\">3.7&nbsp;&nbsp;</span>TO DO: List index out of range on First profile report?</a></span></li><li><span><a href=\"#Removing-one-of-the-variables-rows-of-NaN-with-95-NaN(shared-by-several-others,-likely-linked)\" data-toc-modified-id=\"Removing-one-of-the-variables-rows-of-NaN-with-95-NaN(shared-by-several-others,-likely-linked)-3.8\"><span class=\"toc-item-num\">3.8&nbsp;&nbsp;</span>Removing one of the variables rows of NaN with 95 NaN(shared by several others, likely linked)</a></span></li><li><span><a href=\"#Comparing-with-another-from-that-set\" data-toc-modified-id=\"Comparing-with-another-from-that-set-3.9\"><span class=\"toc-item-num\">3.9&nbsp;&nbsp;</span>Comparing with another from that set</a></span></li><li><span><a href=\"#Filling-na-with-most-common\" data-toc-modified-id=\"Filling-na-with-most-common-3.10\"><span class=\"toc-item-num\">3.10&nbsp;&nbsp;</span>Filling na with most common</a></span></li><li><span><a href=\"#Examining-gender,-lots-of-values\" data-toc-modified-id=\"Examining-gender,-lots-of-values-3.11\"><span class=\"toc-item-num\">3.11&nbsp;&nbsp;</span>Examining gender, lots of values</a></span></li><li><span><a href=\"#Engineering-gender-to-more-specific-categories\" data-toc-modified-id=\"Engineering-gender-to-more-specific-categories-3.12\"><span class=\"toc-item-num\">3.12&nbsp;&nbsp;</span>Engineering gender to more specific categories</a></span></li><li><span><a href=\"#To-do:-charts-around-gender\" data-toc-modified-id=\"To-do:-charts-around-gender-3.13\"><span class=\"toc-item-num\">3.13&nbsp;&nbsp;</span>To do: charts around gender</a></span></li></ul></li><li><span><a href=\"#Processing-columns-around-mental-health-conditions-of-respondents\" data-toc-modified-id=\"Processing-columns-around-mental-health-conditions-of-respondents-4\"><span class=\"toc-item-num\">4&nbsp;&nbsp;</span>Processing columns around mental health conditions of respondents</a></span><ul class=\"toc-item\"><li><span><a href=\"#To-do:-charts\" data-toc-modified-id=\"To-do:-charts-4.1\"><span class=\"toc-item-num\">4.1&nbsp;&nbsp;</span>To do: charts</a></span></li><li><span><a href=\"#The-splits-are-by-|-so-splitting-on-|,-turning-into-a-list,-refining-and-turning-into-a-series,-also-splits-inside-spilt-on-(-but-that's-not-implemented-yet\" data-toc-modified-id=\"The-splits-are-by-|-so-splitting-on-|,-turning-into-a-list,-refining-and-turning-into-a-series,-also-splits-inside-spilt-on-(-but-that's-not-implemented-yet-4.2\"><span class=\"toc-item-num\">4.2&nbsp;&nbsp;</span>The splits are by | so splitting on |, turning into a list, refining and turning into a series, also splits inside spilt on ( but that's not implemented yet</a></span></li><li><span><a href=\"#Function-for-creating-binary-columns-off-of-presence-of-disorder\" data-toc-modified-id=\"Function-for-creating-binary-columns-off-of-presence-of-disorder-4.3\"><span class=\"toc-item-num\">4.3&nbsp;&nbsp;</span>Function for creating binary columns off of presence of disorder</a></span></li><li><span><a href=\"#Repeating-the-key-steps-for-mh_conditions_2\" data-toc-modified-id=\"Repeating-the-key-steps-for-mh_conditions_2-4.4\"><span class=\"toc-item-num\">4.4&nbsp;&nbsp;</span>Repeating the key steps for mh_conditions_2</a></span></li><li><span><a href=\"#Dropping-the-base-mental-health-condition-columns\" data-toc-modified-id=\"Dropping-the-base-mental-health-condition-columns-4.5\"><span class=\"toc-item-num\">4.5&nbsp;&nbsp;</span>Dropping the base mental health condition columns</a></span></li><li><span><a href=\"#End-report\" data-toc-modified-id=\"End-report-4.6\"><span class=\"toc-item-num\">4.6&nbsp;&nbsp;</span>End report</a></span></li></ul></li><li><span><a href=\"#Segmenting-out-non-disorder-derived-columns-and-working-towards-encoding-categories\" data-toc-modified-id=\"Segmenting-out-non-disorder-derived-columns-and-working-towards-encoding-categories-5\"><span class=\"toc-item-num\">5&nbsp;&nbsp;</span>Segmenting out non-disorder derived columns and working towards encoding categories</a></span><ul class=\"toc-item\"><li><span><a href=\"#To-do---where-does-this-become-only-1-valued?-Either-way,-it's-only-1s,-dropping\" data-toc-modified-id=\"To-do---where-does-this-become-only-1-valued?-Either-way,-it's-only-1s,-dropping-5.1\"><span class=\"toc-item-num\">5.1&nbsp;&nbsp;</span>To do - where does this become only 1 valued? Either way, it's only 1s, dropping</a></span></li><li><span><a href=\"#To-do---move-this\" data-toc-modified-id=\"To-do---move-this-5.2\"><span class=\"toc-item-num\">5.2&nbsp;&nbsp;</span>To do - move this</a></span></li><li><span><a href=\"#Current-column-status\" data-toc-modified-id=\"Current-column-status-5.3\"><span class=\"toc-item-num\">5.3&nbsp;&nbsp;</span>Current column status</a></span></li><li><span><a href=\"#dropping-age-for-now---will-bin-into-categories-later\" data-toc-modified-id=\"dropping-age-for-now---will-bin-into-categories-later-5.4\"><span class=\"toc-item-num\">5.4&nbsp;&nbsp;</span>dropping age for now - will bin into categories later</a></span></li><li><span><a href=\"#Finally,-mapping-target-variable.-Past-experience-is-weighted-the-same-for-yes-and-no-as-present-perceptions.\" data-toc-modified-id=\"Finally,-mapping-target-variable.-Past-experience-is-weighted-the-same-for-yes-and-no-as-present-perceptions.-5.5\"><span class=\"toc-item-num\">5.5&nbsp;&nbsp;</span>Finally, mapping target variable. Past experience is weighted the same for yes and no as present perceptions.</a></span></li><li><span><a href=\"#Mapped-to-0-=-Maybe,-1-=-Yes,-2-=-No\" data-toc-modified-id=\"Mapped-to-0-=-Maybe,-1-=-Yes,-2-=-No-5.6\"><span class=\"toc-item-num\">5.6&nbsp;&nbsp;</span>Mapped to 0 = Maybe, 1 = Yes, 2 = No</a></span></li></ul></li><li><span><a href=\"#Choosing-a-categorical-encoder-via.-pipeline\" data-toc-modified-id=\"Choosing-a-categorical-encoder-via.-pipeline-6\"><span class=\"toc-item-num\">6&nbsp;&nbsp;</span>Choosing a categorical encoder via. pipeline</a></span><ul class=\"toc-item\"><li><span><a href=\"#Profile-Report-before-encoding\" data-toc-modified-id=\"Profile-Report-before-encoding-6.1\"><span class=\"toc-item-num\">6.1&nbsp;&nbsp;</span>Profile Report before encoding</a></span></li><li><span><a href=\"#deleting-all-0-only-columns\" data-toc-modified-id=\"deleting-all-0-only-columns-6.2\"><span class=\"toc-item-num\">6.2&nbsp;&nbsp;</span>deleting all 0 only columns</a></span></li><li><span><a href=\"#Profile-report-after-sweep-based-on-last\" data-toc-modified-id=\"Profile-report-after-sweep-based-on-last-6.3\"><span class=\"toc-item-num\">6.3&nbsp;&nbsp;</span>Profile report after sweep based on last</a></span></li><li><span><a href=\"#Should-deal-with-rare-variables-and-rare-values\" data-toc-modified-id=\"Should-deal-with-rare-variables-and-rare-values-6.4\"><span class=\"toc-item-num\">6.4&nbsp;&nbsp;</span>Should deal with rare variables and rare values</a></span></li><li><span><a href=\"#Not-sure-if-I-should-drop-these,-they-don't-seem-to-contribute-much-information-though,-maybe-return-to-engineerin-the-base-mh-condition-variable\" data-toc-modified-id=\"Not-sure-if-I-should-drop-these,-they-don't-seem-to-contribute-much-information-though,-maybe-return-to-engineerin-the-base-mh-condition-variable-6.5\"><span class=\"toc-item-num\">6.5&nbsp;&nbsp;</span>Not sure if I should drop these, they don't seem to contribute much information though, maybe return to engineerin the base mh condition variable</a></span></li><li><span><a href=\"#Picking-an-encoder-through-pipeline---this-needs-work,-currently-no-multiple-clf-support-and-can-error-out,-does-show-that-BaseNE,-Binary-Hashing,-James-Stine,-One-Hot,-Polynomial-and-Target-work-about-as-well\" data-toc-modified-id=\"Picking-an-encoder-through-pipeline---this-needs-work,-currently-no-multiple-clf-support-and-can-error-out,-does-show-that-BaseNE,-Binary-Hashing,-James-Stine,-One-Hot,-Polynomial-and-Target-work-about-as-well-6.6\"><span class=\"toc-item-num\">6.6&nbsp;&nbsp;</span>Picking an encoder through pipeline - this needs work, currently no multiple clf support and can error out, does show that BaseNE, Binary Hashing, James Stine, One Hot, Polynomial and Target work about as well</a></span></li><li><span><a href=\"#Chain-LEncoder-->-OHencoder-(used-before-split,-pretty-sure-this-is-data-leakage-inflating-performance?)\" data-toc-modified-id=\"Chain-LEncoder-->-OHencoder-(used-before-split,-pretty-sure-this-is-data-leakage-inflating-performance?)-6.7\"><span class=\"toc-item-num\">6.7&nbsp;&nbsp;</span>Chain LEncoder -&gt; OHencoder (used before split, pretty sure this is data leakage inflating performance?)</a></span></li><li><span><a href=\"#Base-NE-Encoding---currently-not-used-in-favor-of-label--->-one-hot\" data-toc-modified-id=\"Base-NE-Encoding---currently-not-used-in-favor-of-label--->-one-hot-6.8\"><span class=\"toc-item-num\">6.8&nbsp;&nbsp;</span>Base NE Encoding - currently not used in favor of label --&gt; one hot</a></span></li><li><span><a href=\"#Random-forest-embedding--not-much-in-terms-of-results\" data-toc-modified-id=\"Random-forest-embedding--not-much-in-terms-of-results-6.9\"><span class=\"toc-item-num\">6.9&nbsp;&nbsp;</span>Random forest embedding- not much in terms of results</a></span></li><li><span><a href=\"#Train-test-split\" data-toc-modified-id=\"Train-test-split-6.10\"><span class=\"toc-item-num\">6.10&nbsp;&nbsp;</span>Train test split</a></span></li><li><span><a href=\"#Minmax-scaling---currently-using-MaxAbs\" data-toc-modified-id=\"Minmax-scaling---currently-using-MaxAbs-6.11\"><span class=\"toc-item-num\">6.11&nbsp;&nbsp;</span>Minmax scaling - currently using MaxAbs</a></span></li><li><span><a href=\"#MaxAbs-for-sparse-RF-embedding/encoded-one-hots\" data-toc-modified-id=\"MaxAbs-for-sparse-RF-embedding/encoded-one-hots-6.12\"><span class=\"toc-item-num\">6.12&nbsp;&nbsp;</span>MaxAbs for sparse RF embedding/encoded one hots</a></span></li><li><span><a href=\"#Tentative-feature-selection-code,-not-in-use\" data-toc-modified-id=\"Tentative-feature-selection-code,-not-in-use-6.13\"><span class=\"toc-item-num\">6.13&nbsp;&nbsp;</span>Tentative feature selection code, not in use</a></span></li></ul></li><li><span><a href=\"#Modeling-and-visualizing-results\" data-toc-modified-id=\"Modeling-and-visualizing-results-7\"><span class=\"toc-item-num\">7&nbsp;&nbsp;</span>Modeling and visualizing results</a></span><ul class=\"toc-item\"><li><span><a href=\"#TODO:-Write-evaluation-metric-function(s)\" data-toc-modified-id=\"TODO:-Write-evaluation-metric-function(s)-7.1\"><span class=\"toc-item-num\">7.1&nbsp;&nbsp;</span>TODO: Write evaluation metric function(s)</a></span></li><li><span><a href=\"#TO-DO:-Models-list:\" data-toc-modified-id=\"TO-DO:-Models-list:-7.2\"><span class=\"toc-item-num\">7.2&nbsp;&nbsp;</span>TO DO: Models list:</a></span></li><li><span><a href=\"#First-model---one-v.-rest-SVC\" data-toc-modified-id=\"First-model---one-v.-rest-SVC-7.3\"><span class=\"toc-item-num\">7.3&nbsp;&nbsp;</span>First model - one v. rest SVC</a></span></li><li><span><a href=\"#Best-so-far:.67-acc,-.64-f1-for-one-v.-rest-SVC\" data-toc-modified-id=\"Best-so-far:.67-acc,-.64-f1-for-one-v.-rest-SVC-7.4\"><span class=\"toc-item-num\">7.4&nbsp;&nbsp;</span>Best so far:.67 acc, .64 f1 for one v. rest SVC</a></span></li><li><span><a href=\"#Multinomial-NB-performs-very-well-for-a-more-'basic'-model-without-characteristics-like-gradient-boosting,-etc.\" data-toc-modified-id=\"Multinomial-NB-performs-very-well-for-a-more-'basic'-model-without-characteristics-like-gradient-boosting,-etc.-7.5\"><span class=\"toc-item-num\">7.5&nbsp;&nbsp;</span>Multinomial NB performs very well for a more 'basic' model without characteristics like gradient boosting, etc.</a></span></li><li><span><a href=\"#KNN:-Moderate-performance,-a-good-baseline\" data-toc-modified-id=\"KNN:-Moderate-performance,-a-good-baseline-7.6\"><span class=\"toc-item-num\">7.6&nbsp;&nbsp;</span>KNN: Moderate performance, a good baseline</a></span></li><li><span><a href=\"#Linear-SVC\" data-toc-modified-id=\"Linear-SVC-7.7\"><span class=\"toc-item-num\">7.7&nbsp;&nbsp;</span>Linear SVC</a></span></li><li><span><a href=\"#XGboost-as-a-one-v.-rest-performs-well,-shocker!\" data-toc-modified-id=\"XGboost-as-a-one-v.-rest-performs-well,-shocker!-7.8\"><span class=\"toc-item-num\">7.8&nbsp;&nbsp;</span>XGboost as a one v. rest performs well, shocker!</a></span></li></ul></li><li><span><a href=\"#Hyper-opt---comment-out-for-faster-notebook\" data-toc-modified-id=\"Hyper-opt---comment-out-for-faster-notebook-8\"><span class=\"toc-item-num\">8&nbsp;&nbsp;</span>Hyper opt - comment out for faster notebook</a></span><ul class=\"toc-item\"><li><span><a href=\"#Hyper-opt-XGboost-one-v-rest-take-1---these-functions-need-work\" data-toc-modified-id=\"Hyper-opt-XGboost-one-v-rest-take-1---these-functions-need-work-8.1\"><span class=\"toc-item-num\">8.1&nbsp;&nbsp;</span>Hyper opt XGboost one v rest take 1 - these functions need work</a></span></li><li><span><a href=\"#https://gist.github.com/amueller/4387511\" data-toc-modified-id=\"https://gist.github.com/amueller/4387511-8.2\"><span class=\"toc-item-num\">8.2&nbsp;&nbsp;</span><a href=\"https://gist.github.com/amueller/4387511\" target=\"_blank\">https://gist.github.com/amueller/4387511</a></a></span></li><li><span><a href=\"#https://scikit-learn.org/stable/modules/generated/sklearn.kernel_approximation.RBFSampler.html\" data-toc-modified-id=\"https://scikit-learn.org/stable/modules/generated/sklearn.kernel_approximation.RBFSampler.html-8.3\"><span class=\"toc-item-num\">8.3&nbsp;&nbsp;</span><a href=\"https://scikit-learn.org/stable/modules/generated/sklearn.kernel_approximation.RBFSampler.html\" target=\"_blank\">https://scikit-learn.org/stable/modules/generated/sklearn.kernel_approximation.RBFSampler.html</a></a></span></li></ul></li><li><span><a href=\"#Class-imbalance---SMOTE\" data-toc-modified-id=\"Class-imbalance---SMOTE-9\"><span class=\"toc-item-num\">9&nbsp;&nbsp;</span>Class imbalance - SMOTE</a></span><ul class=\"toc-item\"><li><span><a href=\"#To-add:\" data-toc-modified-id=\"To-add:-9.1\"><span class=\"toc-item-num\">9.1&nbsp;&nbsp;</span>To add:</a></span></li><li><span><a href=\"#One-v-Rest-XGBoost-SMOTE\" data-toc-modified-id=\"One-v-Rest-XGBoost-SMOTE-9.2\"><span class=\"toc-item-num\">9.2&nbsp;&nbsp;</span>One v Rest XGBoost SMOTE</a></span></li><li><span><a href=\"#Hyperopt-of-SMOTE-boost---Turn-on-comment-for-faster-notebook\" data-toc-modified-id=\"Hyperopt-of-SMOTE-boost---Turn-on-comment-for-faster-notebook-9.3\"><span class=\"toc-item-num\">9.3&nbsp;&nbsp;</span>Hyperopt of SMOTE boost - Turn on comment for faster notebook</a></span></li><li><span><a href=\"#Tuned-SMOTE-Xgboost-one-v.-rest\" data-toc-modified-id=\"Tuned-SMOTE-Xgboost-one-v.-rest-9.4\"><span class=\"toc-item-num\">9.4&nbsp;&nbsp;</span>Tuned SMOTE Xgboost one v. rest</a></span></li><li><span><a href=\"#.688/.67-accuracy/f1-weighted-off-Label--->-One-Hot-Encoding-with\" data-toc-modified-id=\".688/.67-accuracy/f1-weighted-off-Label--->-One-Hot-Encoding-with-9.5\"><span class=\"toc-item-num\">9.5&nbsp;&nbsp;</span>.688/.67 accuracy/f1 weighted off Label --&gt; One Hot Encoding with</a></span></li><li><span><a href=\"#But-hyperparam-tuning-failed-miserably\" data-toc-modified-id=\"But-hyperparam-tuning-failed-miserably-9.6\"><span class=\"toc-item-num\">9.6&nbsp;&nbsp;</span>But hyperparam tuning failed miserably</a></span></li><li><span><a href=\"#Multinomial-NB-take-2\" data-toc-modified-id=\"Multinomial-NB-take-2-9.7\"><span class=\"toc-item-num\">9.7&nbsp;&nbsp;</span>Multinomial NB take 2</a></span></li><li><span><a href=\"#One-vs.-Rest-MLPClassifier-on-SMOTE\" data-toc-modified-id=\"One-vs.-Rest-MLPClassifier-on-SMOTE-9.8\"><span class=\"toc-item-num\">9.8&nbsp;&nbsp;</span>One vs. Rest MLPClassifier on SMOTE</a></span></li><li><span><a href=\"#MLP-grid-searching:-100-700-iter\" data-toc-modified-id=\"MLP-grid-searching:-100-700-iter-9.9\"><span class=\"toc-item-num\">9.9&nbsp;&nbsp;</span>MLP grid searching: 100-700 iter</a></span></li><li><span><a href=\"#Grid-searched-MLPCLF-on-SMOTE\" data-toc-modified-id=\"Grid-searched-MLPCLF-on-SMOTE-9.10\"><span class=\"toc-item-num\">9.10&nbsp;&nbsp;</span>Grid searched MLPCLF on SMOTE</a></span></li><li><span><a href=\"#Are-we-maxing-out-performance-with-just-tuning?\" data-toc-modified-id=\"Are-we-maxing-out-performance-with-just-tuning?-9.11\"><span class=\"toc-item-num\">9.11&nbsp;&nbsp;</span>Are we maxing out performance with just tuning?</a></span></li></ul></li><li><span><a href=\"#Feature-selection-off-of-SMOTE--SelectFromModel-with-LGBM-(slightly-different-results-on-a-rerun)\" data-toc-modified-id=\"Feature-selection-off-of-SMOTE--SelectFromModel-with-LGBM-(slightly-different-results-on-a-rerun)-10\"><span class=\"toc-item-num\">10&nbsp;&nbsp;</span>Feature selection off of SMOTE- SelectFromModel with LGBM (slightly different results on a rerun)</a></span><ul class=\"toc-item\"><li><span><a href=\"#To-add:-One-v.-Rest-grid-searched-cross-fold-Linear-SVC-and-Multinomal-NB\" data-toc-modified-id=\"To-add:-One-v.-Rest-grid-searched-cross-fold-Linear-SVC-and-Multinomal-NB-10.1\"><span class=\"toc-item-num\">10.1&nbsp;&nbsp;</span>To add: One v. Rest grid searched cross fold Linear SVC and Multinomal NB</a></span></li><li><span><a href=\"#Second-train_test_split-with-selected-features,-non-SMOTE\" data-toc-modified-id=\"Second-train_test_split-with-selected-features,-non-SMOTE-10.2\"><span class=\"toc-item-num\">10.2&nbsp;&nbsp;</span>Second train_test_split with selected features, non-SMOTE</a></span></li><li><span><a href=\"#KNN-performs-much-better-now\" data-toc-modified-id=\"KNN-performs-much-better-now-10.3\"><span class=\"toc-item-num\">10.3&nbsp;&nbsp;</span>KNN performs much better now</a></span></li><li><span><a href=\"#XGBoost-performs-well--.67ish\" data-toc-modified-id=\"XGBoost-performs-well--.67ish-10.4\"><span class=\"toc-item-num\">10.4&nbsp;&nbsp;</span>XGBoost performs well- .67ish</a></span></li><li><span><a href=\"#Hyperopt-of-featured-selected-xgboost\" data-toc-modified-id=\"Hyperopt-of-featured-selected-xgboost-10.5\"><span class=\"toc-item-num\">10.5&nbsp;&nbsp;</span>Hyperopt of featured selected xgboost</a></span></li><li><span><a href=\"#Tuned,-selected-one-v-rest-xgboost,-has-thrown-'no-predicted-samples'-error-during-tuning\" data-toc-modified-id=\"Tuned,-selected-one-v-rest-xgboost,-has-thrown-'no-predicted-samples'-error-during-tuning-10.6\"><span class=\"toc-item-num\">10.6&nbsp;&nbsp;</span>Tuned, selected one v rest xgboost, has thrown 'no predicted samples' error during tuning</a></span></li><li><span><a href=\"#(Original-run-of-hyperopt-hyperparams)\" data-toc-modified-id=\"(Original-run-of-hyperopt-hyperparams)-10.7\"><span class=\"toc-item-num\">10.7&nbsp;&nbsp;</span>(Original run of hyperopt hyperparams)</a></span></li><li><span><a href=\"#Tuned-XGB:-Low-f1-on-minority-class,-but-good-overall\" data-toc-modified-id=\"Tuned-XGB:-Low-f1-on-minority-class,-but-good-overall-10.8\"><span class=\"toc-item-num\">10.8&nbsp;&nbsp;</span>Tuned XGB: Low f1 on minority class, but good overall</a></span></li><li><span><a href=\"#Tuned,-selected-MLPclf:-good,-.66\" data-toc-modified-id=\"Tuned,-selected-MLPclf:-good,-.66-10.9\"><span class=\"toc-item-num\">10.9&nbsp;&nbsp;</span>Tuned, selected MLPclf: good, .66</a></span></li></ul></li><li><span><a href=\"#SMOTE-of-selected-features\" data-toc-modified-id=\"SMOTE-of-selected-features-11\"><span class=\"toc-item-num\">11&nbsp;&nbsp;</span>SMOTE of selected features</a></span><ul class=\"toc-item\"><li><span><a href=\"#Grid-searched-MLP-on-selected-SMOTE:-700-iterations-takes-a-long-time\" data-toc-modified-id=\"Grid-searched-MLP-on-selected-SMOTE:-700-iterations-takes-a-long-time-11.1\"><span class=\"toc-item-num\">11.1&nbsp;&nbsp;</span>Grid searched MLP on selected SMOTE: 700 iterations takes a long time</a></span></li><li><span><a href=\"#Tuned-XGBoost-One-v.-Rest-on-selected-SMOTE-features\" data-toc-modified-id=\"Tuned-XGBoost-One-v.-Rest-on-selected-SMOTE-features-11.2\"><span class=\"toc-item-num\">11.2&nbsp;&nbsp;</span>Tuned XGBoost One v. Rest on selected SMOTE features</a></span></li><li><span><a href=\"#Hyper-opt---comment-out-for-faster-notebook\" data-toc-modified-id=\"Hyper-opt---comment-out-for-faster-notebook-11.3\"><span class=\"toc-item-num\">11.3&nbsp;&nbsp;</span>Hyper opt - comment out for faster notebook</a></span></li><li><span><a href=\"#XGB-off-hyperopt-on-smote-selected-features\" data-toc-modified-id=\"XGB-off-hyperopt-on-smote-selected-features-11.4\"><span class=\"toc-item-num\">11.4&nbsp;&nbsp;</span>XGB off hyperopt on smote selected features</a></span></li><li><span><a href=\"#XGB-Bayesian-optimization\" data-toc-modified-id=\"XGB-Bayesian-optimization-11.5\"><span class=\"toc-item-num\">11.5&nbsp;&nbsp;</span>XGB Bayesian optimization</a></span></li><li><span><a href=\"#XGBayes-one-vs-rest\" data-toc-modified-id=\"XGBayes-one-vs-rest-11.6\"><span class=\"toc-item-num\">11.6&nbsp;&nbsp;</span>XGBayes one vs rest</a></span></li><li><span><a href=\"#XGBoost-accuracy-at-.6769-with-hyperparams:\" data-toc-modified-id=\"XGBoost-accuracy-at-.6769-with-hyperparams:-11.7\"><span class=\"toc-item-num\">11.7&nbsp;&nbsp;</span>XGBoost accuracy at .6769 with hyperparams:</a></span></li><li><span><a href=\"#.6746-f1-for-XGBayes-one-vs-rest\" data-toc-modified-id=\".6746-f1-for-XGBayes-one-vs-rest-11.8\"><span class=\"toc-item-num\">11.8&nbsp;&nbsp;</span>.6746 f1 for XGBayes one vs rest</a></span></li><li><span><a href=\"#Experimenting-with-graphs-and-embeddings,-currently-not-working-material-below:\" data-toc-modified-id=\"Experimenting-with-graphs-and-embeddings,-currently-not-working-material-below:-11.9\"><span class=\"toc-item-num\">11.9&nbsp;&nbsp;</span>Experimenting with graphs and embeddings, currently not working material below:</a></span></li><li><span><a href=\"#Multilearn-neural-network---poor-performance\" data-toc-modified-id=\"Multilearn-neural-network---poor-performance-11.10\"><span class=\"toc-item-num\">11.10&nbsp;&nbsp;</span>Multilearn neural network - poor performance</a></span></li><li><span><a href=\"#Binary-relevance-with-Gaussian-NB---okay-performance\" data-toc-modified-id=\"Binary-relevance-with-Gaussian-NB---okay-performance-11.11\"><span class=\"toc-item-num\">11.11&nbsp;&nbsp;</span>Binary relevance with Gaussian NB - okay performance</a></span></li><li><span><a href=\"#Classifier-Chains---performs-pretty-well\" data-toc-modified-id=\"Classifier-Chains---performs-pretty-well-11.12\"><span class=\"toc-item-num\">11.12&nbsp;&nbsp;</span>Classifier Chains - performs pretty well</a></span></li><li><span><a href=\"#Using-Label-Powerset\" data-toc-modified-id=\"Using-Label-Powerset-11.13\"><span class=\"toc-item-num\">11.13&nbsp;&nbsp;</span>Using Label Powerset</a></span></li><li><span><a href=\"#MLK-nn---error\" data-toc-modified-id=\"MLK-nn---error-11.14\"><span class=\"toc-item-num\">11.14&nbsp;&nbsp;</span>MLK-nn - error</a></span></li><li><span><a href=\"#Binary-relevance-with-SVC---competes-with-XGBoost-on-accuracy\" data-toc-modified-id=\"Binary-relevance-with-SVC---competes-with-XGBoost-on-accuracy-11.15\"><span class=\"toc-item-num\">11.15&nbsp;&nbsp;</span>Binary relevance with SVC - competes with XGBoost on accuracy</a></span></li><li><span><a href=\"#To-do:-Adding-in-grid-search-and-comparison-to-Multinomial\" data-toc-modified-id=\"To-do:-Adding-in-grid-search-and-comparison-to-Multinomial-11.16\"><span class=\"toc-item-num\">11.16&nbsp;&nbsp;</span>To do: Adding in grid search and comparison to Multinomial</a></span></li><li><span><a href=\"#RakelD\" data-toc-modified-id=\"RakelD-11.17\"><span class=\"toc-item-num\">11.17&nbsp;&nbsp;</span>RakelD</a></span></li></ul></li><li><span><a href=\"#To-DO:\" data-toc-modified-id=\"To-DO:-12\"><span class=\"toc-item-num\">12&nbsp;&nbsp;</span>To DO:</a></span></li></ul></div>"
   ]
  },
  {
   "cell_type": "markdown",
   "metadata": {},
   "source": [
    "# Importing libraries, data and functions with initial look at data"
   ]
  },
  {
   "cell_type": "code",
   "execution_count": 1,
   "metadata": {},
   "outputs": [],
   "source": [
    "import numpy as np \n",
    "import pandas as pd \n",
    "import matplotlib.pyplot as plt \n",
    "import seaborn as sns\n",
    "from pandas_profiling import ProfileReport"
   ]
  },
  {
   "cell_type": "code",
   "execution_count": 2,
   "metadata": {},
   "outputs": [
    {
     "name": "stderr",
     "output_type": "stream",
     "text": [
      "/Users/michael/anaconda3/envs/learn-env/lib/python3.6/site-packages/sklearn/utils/deprecation.py:144: FutureWarning: The sklearn.metrics.classification module is  deprecated in version 0.22 and will be removed in version 0.24. The corresponding classes / functions should instead be imported from sklearn.metrics. Anything that cannot be imported from sklearn.metrics is now part of the private API.\n",
      "  warnings.warn(message, FutureWarning)\n"
     ]
    }
   ],
   "source": [
    "from sklearn.metrics import hamming_loss\n",
    "from sklearn.metrics import log_loss\n",
    "from sklearn.metrics import f1_score\n",
    "from sklearn.metrics import accuracy_score\n",
    "from sklearn.metrics import mean_squared_error\n",
    "from sklearn.metrics import confusion_matrix\n",
    "from sklearn.metrics import classification_report\n",
    "from sklearn.model_selection import train_test_split\n",
    "\n",
    "from sklearn import preprocessing\n",
    "from sklearn.pipeline import Pipeline\n",
    "from sklearn.impute import SimpleImputer\n",
    "from sklearn.preprocessing import StandardScaler\n",
    "from sklearn.compose import ColumnTransformer\n",
    "import category_encoders as ce\n",
    "\n",
    "from skmultilearn.problem_transform import BinaryRelevance\n",
    "from sklearn.multiclass import OneVsRestClassifier\n",
    "from sklearn.naive_bayes import MultinomialNB\n",
    "from sklearn.neighbors import KNeighborsClassifier \n",
    "from sklearn.svm import LinearSVC\n",
    "from sklearn.svm import SVC\n",
    "from sklearn.neural_network import MLPClassifier\n",
    "from sklearn.ensemble import RandomForestClassifier\n",
    "\n",
    "from xgboost import XGBClassifier\n",
    "import xgboost as xgb\n",
    "\n",
    "from hyperopt import hp\n",
    "\n",
    "from yellowbrick.classifier import ClassificationReport"
   ]
  },
  {
   "cell_type": "code",
   "execution_count": 3,
   "metadata": {},
   "outputs": [
    {
     "name": "stderr",
     "output_type": "stream",
     "text": [
      "Using TensorFlow backend.\n",
      "/Users/michael/anaconda3/envs/learn-env/lib/python3.6/site-packages/sklearn/externals/six.py:31: FutureWarning: The module is deprecated in version 0.21 and will be removed in version 0.23 since we've dropped support for Python 2.7. Please rely on the official version of six (https://pypi.org/project/six/).\n",
      "  \"(https://pypi.org/project/six/).\", FutureWarning)\n",
      "/Users/michael/anaconda3/envs/learn-env/lib/python3.6/site-packages/sklearn/utils/deprecation.py:144: FutureWarning: The sklearn.neighbors.base module is  deprecated in version 0.22 and will be removed in version 0.24. The corresponding classes / functions should instead be imported from sklearn.neighbors. Anything that cannot be imported from sklearn.neighbors is now part of the private API.\n",
      "  warnings.warn(message, FutureWarning)\n"
     ]
    }
   ],
   "source": [
    "from skmultilearn.adapt import MLkNN\n",
    "from sklearn.model_selection import GridSearchCV\n",
    "from scipy.sparse import csr_matrix, lil_matrix\n",
    "from skmultilearn.problem_transform import LabelPowerset\n",
    "from skmultilearn.problem_transform import ClassifierChain\n",
    "from sklearn.linear_model import LogisticRegression\n",
    "from sklearn.naive_bayes import GaussianNB\n",
    "from skmultilearn.ext import Keras\n",
    "from tensorflow.python.keras.models import Sequential\n",
    "from tensorflow.python.keras.layers import Dense\n",
    "from bayes_opt import BayesianOptimization\n",
    "\n",
    "from sklearn.feature_selection import SelectFromModel\n",
    "from lightgbm import LGBMClassifier\n",
    "from sklearn.model_selection import GridSearchCV\n",
    "from sklearn.metrics import roc_auc_score, roc_curve, auc\n",
    "from hyperopt import fmin, tpe, STATUS_OK, STATUS_FAIL, Trials\n",
    "import warnings\n",
    "from sklearn.model_selection import cross_val_score\n",
    "from imblearn.over_sampling import SMOTE\n",
    "from sklearn.metrics import classification_report\n",
    "# from skmultilearn.embedding import OpenNetworkEmbedder\n",
    "# from skmultilearn.cluster import LabelCooccurrenceGraphBuilder\n",
    "# import openne\n",
    "# from skmultilearn.embedding import EmbeddingClassifier\n",
    "# from sklearn.ensemble import RandomForestRegressor\n",
    "# from skmultilearn.adapt import MLkNN\n",
    "import sklearn.metrics as metrics\n",
    "from skmultilearn.ensemble import RakelD\n",
    "from sklearn.feature_selection import VarianceThreshold"
   ]
  },
  {
   "cell_type": "code",
   "execution_count": 4,
   "metadata": {
    "scrolled": true
   },
   "outputs": [
    {
     "data": {
      "text/html": [
       "<div>\n",
       "<style scoped>\n",
       "    .dataframe tbody tr th:only-of-type {\n",
       "        vertical-align: middle;\n",
       "    }\n",
       "\n",
       "    .dataframe tbody tr th {\n",
       "        vertical-align: top;\n",
       "    }\n",
       "\n",
       "    .dataframe thead th {\n",
       "        text-align: right;\n",
       "    }\n",
       "</style>\n",
       "<table border=\"1\" class=\"dataframe\">\n",
       "  <thead>\n",
       "    <tr style=\"text-align: right;\">\n",
       "      <th></th>\n",
       "      <th>Are you self-employed?</th>\n",
       "      <th>How many employees does your company or organization have?</th>\n",
       "      <th>Is your employer primarily a tech company/organization?</th>\n",
       "      <th>Is your primary role within your company related to tech/IT?</th>\n",
       "      <th>Does your employer provide mental health benefits as part of healthcare coverage?</th>\n",
       "      <th>Do you know the options for mental health care available under your employer-provided coverage?</th>\n",
       "      <th>Has your employer ever formally discussed mental health (for example, as part of a wellness campaign or other official communication)?</th>\n",
       "      <th>Does your employer offer resources to learn more about mental health concerns and options for seeking help?</th>\n",
       "      <th>Is your anonymity protected if you choose to take advantage of mental health or substance abuse treatment resources provided by your employer?</th>\n",
       "      <th>If a mental health issue prompted you to request a medical leave from work, asking for that leave would be:</th>\n",
       "      <th>...</th>\n",
       "      <th>If you have a mental health issue, do you feel that it interferes with your work when being treated effectively?</th>\n",
       "      <th>If you have a mental health issue, do you feel that it interferes with your work when NOT being treated effectively?</th>\n",
       "      <th>What is your age?</th>\n",
       "      <th>What is your gender?</th>\n",
       "      <th>What country do you live in?</th>\n",
       "      <th>What US state or territory do you live in?</th>\n",
       "      <th>What country do you work in?</th>\n",
       "      <th>What US state or territory do you work in?</th>\n",
       "      <th>Which of the following best describes your work position?</th>\n",
       "      <th>Do you work remotely?</th>\n",
       "    </tr>\n",
       "  </thead>\n",
       "  <tbody>\n",
       "    <tr>\n",
       "      <td>0</td>\n",
       "      <td>0</td>\n",
       "      <td>26-100</td>\n",
       "      <td>1.0</td>\n",
       "      <td>NaN</td>\n",
       "      <td>Not eligible for coverage / N/A</td>\n",
       "      <td>NaN</td>\n",
       "      <td>No</td>\n",
       "      <td>No</td>\n",
       "      <td>I don't know</td>\n",
       "      <td>Very easy</td>\n",
       "      <td>...</td>\n",
       "      <td>Not applicable to me</td>\n",
       "      <td>Not applicable to me</td>\n",
       "      <td>39</td>\n",
       "      <td>Male</td>\n",
       "      <td>United Kingdom</td>\n",
       "      <td>NaN</td>\n",
       "      <td>United Kingdom</td>\n",
       "      <td>NaN</td>\n",
       "      <td>Back-end Developer</td>\n",
       "      <td>Sometimes</td>\n",
       "    </tr>\n",
       "    <tr>\n",
       "      <td>1</td>\n",
       "      <td>0</td>\n",
       "      <td>6-25</td>\n",
       "      <td>1.0</td>\n",
       "      <td>NaN</td>\n",
       "      <td>No</td>\n",
       "      <td>Yes</td>\n",
       "      <td>Yes</td>\n",
       "      <td>Yes</td>\n",
       "      <td>Yes</td>\n",
       "      <td>Somewhat easy</td>\n",
       "      <td>...</td>\n",
       "      <td>Rarely</td>\n",
       "      <td>Sometimes</td>\n",
       "      <td>29</td>\n",
       "      <td>male</td>\n",
       "      <td>United States of America</td>\n",
       "      <td>Illinois</td>\n",
       "      <td>United States of America</td>\n",
       "      <td>Illinois</td>\n",
       "      <td>Back-end Developer|Front-end Developer</td>\n",
       "      <td>Never</td>\n",
       "    </tr>\n",
       "    <tr>\n",
       "      <td>2</td>\n",
       "      <td>0</td>\n",
       "      <td>6-25</td>\n",
       "      <td>1.0</td>\n",
       "      <td>NaN</td>\n",
       "      <td>No</td>\n",
       "      <td>NaN</td>\n",
       "      <td>No</td>\n",
       "      <td>No</td>\n",
       "      <td>I don't know</td>\n",
       "      <td>Neither easy nor difficult</td>\n",
       "      <td>...</td>\n",
       "      <td>Not applicable to me</td>\n",
       "      <td>Not applicable to me</td>\n",
       "      <td>38</td>\n",
       "      <td>Male</td>\n",
       "      <td>United Kingdom</td>\n",
       "      <td>NaN</td>\n",
       "      <td>United Kingdom</td>\n",
       "      <td>NaN</td>\n",
       "      <td>Back-end Developer</td>\n",
       "      <td>Always</td>\n",
       "    </tr>\n",
       "    <tr>\n",
       "      <td>3</td>\n",
       "      <td>1</td>\n",
       "      <td>NaN</td>\n",
       "      <td>NaN</td>\n",
       "      <td>NaN</td>\n",
       "      <td>NaN</td>\n",
       "      <td>NaN</td>\n",
       "      <td>NaN</td>\n",
       "      <td>NaN</td>\n",
       "      <td>NaN</td>\n",
       "      <td>NaN</td>\n",
       "      <td>...</td>\n",
       "      <td>Sometimes</td>\n",
       "      <td>Sometimes</td>\n",
       "      <td>43</td>\n",
       "      <td>male</td>\n",
       "      <td>United Kingdom</td>\n",
       "      <td>NaN</td>\n",
       "      <td>United Kingdom</td>\n",
       "      <td>NaN</td>\n",
       "      <td>Supervisor/Team Lead</td>\n",
       "      <td>Sometimes</td>\n",
       "    </tr>\n",
       "    <tr>\n",
       "      <td>4</td>\n",
       "      <td>0</td>\n",
       "      <td>6-25</td>\n",
       "      <td>0.0</td>\n",
       "      <td>1.0</td>\n",
       "      <td>Yes</td>\n",
       "      <td>Yes</td>\n",
       "      <td>No</td>\n",
       "      <td>No</td>\n",
       "      <td>No</td>\n",
       "      <td>Neither easy nor difficult</td>\n",
       "      <td>...</td>\n",
       "      <td>Sometimes</td>\n",
       "      <td>Sometimes</td>\n",
       "      <td>43</td>\n",
       "      <td>Female</td>\n",
       "      <td>United States of America</td>\n",
       "      <td>Illinois</td>\n",
       "      <td>United States of America</td>\n",
       "      <td>Illinois</td>\n",
       "      <td>Executive Leadership|Supervisor/Team Lead|Dev ...</td>\n",
       "      <td>Sometimes</td>\n",
       "    </tr>\n",
       "  </tbody>\n",
       "</table>\n",
       "<p>5 rows × 63 columns</p>\n",
       "</div>"
      ],
      "text/plain": [
       "   Are you self-employed?  \\\n",
       "0                       0   \n",
       "1                       0   \n",
       "2                       0   \n",
       "3                       1   \n",
       "4                       0   \n",
       "\n",
       "  How many employees does your company or organization have?  \\\n",
       "0                                             26-100           \n",
       "1                                               6-25           \n",
       "2                                               6-25           \n",
       "3                                                NaN           \n",
       "4                                               6-25           \n",
       "\n",
       "   Is your employer primarily a tech company/organization?  \\\n",
       "0                                                1.0         \n",
       "1                                                1.0         \n",
       "2                                                1.0         \n",
       "3                                                NaN         \n",
       "4                                                0.0         \n",
       "\n",
       "   Is your primary role within your company related to tech/IT?  \\\n",
       "0                                                NaN              \n",
       "1                                                NaN              \n",
       "2                                                NaN              \n",
       "3                                                NaN              \n",
       "4                                                1.0              \n",
       "\n",
       "  Does your employer provide mental health benefits as part of healthcare coverage?  \\\n",
       "0                    Not eligible for coverage / N/A                                  \n",
       "1                                                 No                                  \n",
       "2                                                 No                                  \n",
       "3                                                NaN                                  \n",
       "4                                                Yes                                  \n",
       "\n",
       "  Do you know the options for mental health care available under your employer-provided coverage?  \\\n",
       "0                                                NaN                                                \n",
       "1                                                Yes                                                \n",
       "2                                                NaN                                                \n",
       "3                                                NaN                                                \n",
       "4                                                Yes                                                \n",
       "\n",
       "  Has your employer ever formally discussed mental health (for example, as part of a wellness campaign or other official communication)?  \\\n",
       "0                                                 No                                                                                       \n",
       "1                                                Yes                                                                                       \n",
       "2                                                 No                                                                                       \n",
       "3                                                NaN                                                                                       \n",
       "4                                                 No                                                                                       \n",
       "\n",
       "  Does your employer offer resources to learn more about mental health concerns and options for seeking help?  \\\n",
       "0                                                 No                                                            \n",
       "1                                                Yes                                                            \n",
       "2                                                 No                                                            \n",
       "3                                                NaN                                                            \n",
       "4                                                 No                                                            \n",
       "\n",
       "  Is your anonymity protected if you choose to take advantage of mental health or substance abuse treatment resources provided by your employer?  \\\n",
       "0                                       I don't know                                                                                               \n",
       "1                                                Yes                                                                                               \n",
       "2                                       I don't know                                                                                               \n",
       "3                                                NaN                                                                                               \n",
       "4                                                 No                                                                                               \n",
       "\n",
       "  If a mental health issue prompted you to request a medical leave from work, asking for that leave would be:  \\\n",
       "0                                          Very easy                                                            \n",
       "1                                      Somewhat easy                                                            \n",
       "2                         Neither easy nor difficult                                                            \n",
       "3                                                NaN                                                            \n",
       "4                         Neither easy nor difficult                                                            \n",
       "\n",
       "   ...  \\\n",
       "0  ...   \n",
       "1  ...   \n",
       "2  ...   \n",
       "3  ...   \n",
       "4  ...   \n",
       "\n",
       "  If you have a mental health issue, do you feel that it interferes with your work when being treated effectively?  \\\n",
       "0                               Not applicable to me                                                                 \n",
       "1                                             Rarely                                                                 \n",
       "2                               Not applicable to me                                                                 \n",
       "3                                          Sometimes                                                                 \n",
       "4                                          Sometimes                                                                 \n",
       "\n",
       "  If you have a mental health issue, do you feel that it interferes with your work when NOT being treated effectively?  \\\n",
       "0                               Not applicable to me                                                                     \n",
       "1                                          Sometimes                                                                     \n",
       "2                               Not applicable to me                                                                     \n",
       "3                                          Sometimes                                                                     \n",
       "4                                          Sometimes                                                                     \n",
       "\n",
       "  What is your age? What is your gender? What country do you live in?  \\\n",
       "0                39                 Male               United Kingdom   \n",
       "1                29                 male     United States of America   \n",
       "2                38                Male                United Kingdom   \n",
       "3                43                 male               United Kingdom   \n",
       "4                43               Female     United States of America   \n",
       "\n",
       "  What US state or territory do you live in?  What country do you work in?  \\\n",
       "0                                        NaN                United Kingdom   \n",
       "1                                   Illinois      United States of America   \n",
       "2                                        NaN                United Kingdom   \n",
       "3                                        NaN                United Kingdom   \n",
       "4                                   Illinois      United States of America   \n",
       "\n",
       "  What US state or territory do you work in?  \\\n",
       "0                                        NaN   \n",
       "1                                   Illinois   \n",
       "2                                        NaN   \n",
       "3                                        NaN   \n",
       "4                                   Illinois   \n",
       "\n",
       "  Which of the following best describes your work position?  \\\n",
       "0                                 Back-end Developer          \n",
       "1             Back-end Developer|Front-end Developer          \n",
       "2                                 Back-end Developer          \n",
       "3                               Supervisor/Team Lead          \n",
       "4  Executive Leadership|Supervisor/Team Lead|Dev ...          \n",
       "\n",
       "  Do you work remotely?  \n",
       "0             Sometimes  \n",
       "1                 Never  \n",
       "2                Always  \n",
       "3             Sometimes  \n",
       "4             Sometimes  \n",
       "\n",
       "[5 rows x 63 columns]"
      ]
     },
     "execution_count": 4,
     "metadata": {},
     "output_type": "execute_result"
    }
   ],
   "source": [
    "df = pd.read_csv('mental-heath-in-tech-2016_20161114.csv')\n",
    "\n",
    "df.head()"
   ]
  },
  {
   "cell_type": "code",
   "execution_count": 5,
   "metadata": {},
   "outputs": [
    {
     "name": "stdout",
     "output_type": "stream",
     "text": [
      "<class 'pandas.core.frame.DataFrame'>\n",
      "RangeIndex: 1433 entries, 0 to 1432\n",
      "Data columns (total 63 columns):\n",
      "Are you self-employed?                                                                                                                                                              1433 non-null int64\n",
      "How many employees does your company or organization have?                                                                                                                          1146 non-null object\n",
      "Is your employer primarily a tech company/organization?                                                                                                                             1146 non-null float64\n",
      "Is your primary role within your company related to tech/IT?                                                                                                                        263 non-null float64\n",
      "Does your employer provide mental health benefits as part of healthcare coverage?                                                                                                   1146 non-null object\n",
      "Do you know the options for mental health care available under your employer-provided coverage?                                                                                     1013 non-null object\n",
      "Has your employer ever formally discussed mental health (for example, as part of a wellness campaign or other official communication)?                                              1146 non-null object\n",
      "Does your employer offer resources to learn more about mental health concerns and options for seeking help?                                                                         1146 non-null object\n",
      "Is your anonymity protected if you choose to take advantage of mental health or substance abuse treatment resources provided by your employer?                                      1146 non-null object\n",
      "If a mental health issue prompted you to request a medical leave from work, asking for that leave would be:                                                                         1146 non-null object\n",
      "Do you think that discussing a mental health disorder with your employer would have negative consequences?                                                                          1146 non-null object\n",
      "Do you think that discussing a physical health issue with your employer would have negative consequences?                                                                           1146 non-null object\n",
      "Would you feel comfortable discussing a mental health disorder with your coworkers?                                                                                                 1146 non-null object\n",
      "Would you feel comfortable discussing a mental health disorder with your direct supervisor(s)?                                                                                      1146 non-null object\n",
      "Do you feel that your employer takes mental health as seriously as physical health?                                                                                                 1146 non-null object\n",
      "Have you heard of or observed negative consequences for co-workers who have been open about mental health issues in your workplace?                                                 1146 non-null object\n",
      "Do you have medical coverage (private insurance or state-provided) which includes treatment of  mental health issues?                                                               287 non-null float64\n",
      "Do you know local or online resources to seek help for a mental health disorder?                                                                                                    287 non-null object\n",
      "If you have been diagnosed or treated for a mental health disorder, do you ever reveal this to clients or business contacts?                                                        287 non-null object\n",
      "If you have revealed a mental health issue to a client or business contact, do you believe this has impacted you negatively?                                                        144 non-null object\n",
      "If you have been diagnosed or treated for a mental health disorder, do you ever reveal this to coworkers or employees?                                                              287 non-null object\n",
      "If you have revealed a mental health issue to a coworker or employee, do you believe this has impacted you negatively?                                                              287 non-null object\n",
      "Do you believe your productivity is ever affected by a mental health issue?                                                                                                         287 non-null object\n",
      "If yes, what percentage of your work time (time performing primary or secondary job functions) is affected by a mental health issue?                                                204 non-null object\n",
      "Do you have previous employers?                                                                                                                                                     1433 non-null int64\n",
      "Have your previous employers provided mental health benefits?                                                                                                                       1264 non-null object\n",
      "Were you aware of the options for mental health care provided by your previous employers?                                                                                           1264 non-null object\n",
      "Did your previous employers ever formally discuss mental health (as part of a wellness campaign or other official communication)?                                                   1264 non-null object\n",
      "Did your previous employers provide resources to learn more about mental health issues and how to seek help?                                                                        1264 non-null object\n",
      "Was your anonymity protected if you chose to take advantage of mental health or substance abuse treatment resources with previous employers?                                        1264 non-null object\n",
      "Do you think that discussing a mental health disorder with previous employers would have negative consequences?                                                                     1264 non-null object\n",
      "Do you think that discussing a physical health issue with previous employers would have negative consequences?                                                                      1264 non-null object\n",
      "Would you have been willing to discuss a mental health issue with your previous co-workers?                                                                                         1264 non-null object\n",
      "Would you have been willing to discuss a mental health issue with your direct supervisor(s)?                                                                                        1264 non-null object\n",
      "Did you feel that your previous employers took mental health as seriously as physical health?                                                                                       1264 non-null object\n",
      "Did you hear of or observe negative consequences for co-workers with mental health issues in your previous workplaces?                                                              1264 non-null object\n",
      "Would you be willing to bring up a physical health issue with a potential employer in an interview?                                                                                 1433 non-null object\n",
      "Why or why not?                                                                                                                                                                     1095 non-null object\n",
      "Would you bring up a mental health issue with a potential employer in an interview?                                                                                                 1433 non-null object\n",
      "Why or why not?.1                                                                                                                                                                   1126 non-null object\n",
      "Do you feel that being identified as a person with a mental health issue would hurt your career?                                                                                    1433 non-null object\n",
      "Do you think that team members/co-workers would view you more negatively if they knew you suffered from a mental health issue?                                                      1433 non-null object\n",
      "How willing would you be to share with friends and family that you have a mental illness?                                                                                           1433 non-null object\n",
      "Have you observed or experienced an unsupportive or badly handled response to a mental health issue in your current or previous workplace?                                          1344 non-null object\n",
      "Have your observations of how another individual who discussed a mental health disorder made you less likely to reveal a mental health issue yourself in your current workplace?    657 non-null object\n",
      "Do you have a family history of mental illness?                                                                                                                                     1433 non-null object\n",
      "Have you had a mental health disorder in the past?                                                                                                                                  1433 non-null object\n",
      "Do you currently have a mental health disorder?                                                                                                                                     1433 non-null object\n",
      "If yes, what condition(s) have you been diagnosed with?                                                                                                                             568 non-null object\n",
      "If maybe, what condition(s) do you believe you have?                                                                                                                                322 non-null object\n",
      "Have you been diagnosed with a mental health condition by a medical professional?                                                                                                   1433 non-null object\n",
      "If so, what condition(s) were you diagnosed with?                                                                                                                                   711 non-null object\n",
      "Have you ever sought treatment for a mental health issue from a mental health professional?                                                                                         1433 non-null int64\n",
      "If you have a mental health issue, do you feel that it interferes with your work when being treated effectively?                                                                    1433 non-null object\n",
      "If you have a mental health issue, do you feel that it interferes with your work when NOT being treated effectively?                                                                1433 non-null object\n",
      "What is your age?                                                                                                                                                                   1433 non-null int64\n",
      "What is your gender?                                                                                                                                                                1430 non-null object\n",
      "What country do you live in?                                                                                                                                                        1433 non-null object\n",
      "What US state or territory do you live in?                                                                                                                                          840 non-null object\n",
      "What country do you work in?                                                                                                                                                        1433 non-null object\n",
      "What US state or territory do you work in?                                                                                                                                          851 non-null object\n",
      "Which of the following best describes your work position?                                                                                                                           1433 non-null object\n",
      "Do you work remotely?                                                                                                                                                               1433 non-null object\n",
      "dtypes: float64(3), int64(4), object(56)\n",
      "memory usage: 705.4+ KB\n"
     ]
    }
   ],
   "source": [
    "df.info()"
   ]
  },
  {
   "cell_type": "markdown",
   "metadata": {},
   "source": [
    "## A large number of null values"
   ]
  },
  {
   "cell_type": "code",
   "execution_count": 6,
   "metadata": {
    "scrolled": true
   },
   "outputs": [
    {
     "data": {
      "text/plain": [
       "<matplotlib.axes._subplots.AxesSubplot at 0x1060d9eb8>"
      ]
     },
     "execution_count": 6,
     "metadata": {},
     "output_type": "execute_result"
    },
    {
     "data": {
      "image/png": "[encoded data removed]",
      "text/plain": [
       "<Figure size 576x396 with 1 Axes>"
      ]
     },
     "metadata": {},
     "output_type": "display_data"
    }
   ],
   "source": [
    "sns.heatmap(df.isnull(), cbar=False)"
   ]
  },
  {
   "cell_type": "markdown",
   "metadata": {},
   "source": [
    "## Some helper functions"
   ]
  },
  {
   "cell_type": "code",
   "execution_count": 7,
   "metadata": {},
   "outputs": [],
   "source": [
    "def check_column(df, col_names, n_unique=10, numeric=False):\n",
    "    \"\"\"Displays info on null values, datatype, unqiue values\n",
    "    and displays .describe()\n",
    "    Args:\n",
    "        df (df): contains the columns\n",
    "        col_name (str): name of the df column to show\n",
    "        n_unique (int): Number of unique values top show.\n",
    "    Return:\n",
    "        fig, ax (Matplotlib Figure and Axes)\n",
    "    \"\"\"\n",
    "    for col_name in col_names:\n",
    "        print('DataType:')\n",
    "        print('\\t',df[col_name].dtypes)\n",
    "        num_nulls = df[col_name].isna().sum()\n",
    "        print(f'Null Values Present = {num_nulls}')\n",
    "        if numeric == True:\n",
    "            display(df[col_name].describe().round(3))\n",
    "        print('\\nValue Counts:')\n",
    "        display(df[col_name].value_counts(n_unique)) \n"
   ]
  },
  {
   "cell_type": "code",
   "execution_count": 8,
   "metadata": {},
   "outputs": [],
   "source": [
    "def find_constants(frame=df):\n",
    "    '''Finds constant numeric features'''\n",
    "    try:\n",
    "        # sets threshold of variance to 0, so that they must be constant\n",
    "        sel = VarianceThreshold(threshold=0)\n",
    "        # finds features\n",
    "        sel.fit(frame)  \n",
    "\n",
    "        # prints out the constant features\n",
    "        print(\n",
    "            len([\n",
    "                x for x in frame.columns\n",
    "                if x not in frame.columns[sel.get_support()]\n",
    "            ]))\n",
    "\n",
    "        [x for x in frame.columns if x not in frame.columns[sel.get_support()]]\n",
    "    except:\n",
    "        print(\"An exception occurred\")"
   ]
  },
  {
   "cell_type": "code",
   "execution_count": 9,
   "metadata": {},
   "outputs": [],
   "source": [
    "def find_outliers_high(col):\n",
    "    \"\"\"Use scipy to calcualte absoliute Z-scores \n",
    "    and return boolean series where True indicates it is an outlier\n",
    "    Args:\n",
    "        col (Series): a series/column from your DataFrame\n",
    "    Returns:\n",
    "        idx_outliers (Series): series of  True/False for each row in col\n",
    "        \n",
    "    Ex:\n",
    "    >> idx_outs = find_outliers(df['bedrooms'])\n",
    "    >> df_clean = df.loc[idx_outs==False]\"\"\"\n",
    "    z = np.abs(stats.zscore(col))\n",
    "    idx_outliers = np.where(z>3,True,False)\n",
    "    return pd.Series(idx_outliers,index=col.index)\n",
    "\n",
    "def find_outliers_low(col):\n",
    "    \"\"\"Use scipy to calcualte absoliute Z-scores \n",
    "    and return boolean series where True indicates it is an outlier\n",
    "    Args:\n",
    "        col (Series): a series/column from your DataFrame\n",
    "    Returns:\n",
    "        idx_outliers (Series): series of  True/False for each row in col\n",
    "        \n",
    "    Ex:\n",
    "    >> idx_outs = find_outliers(df['bedrooms'])\n",
    "    >> df_clean = df.loc[idx_outs==False]\"\"\"\n",
    "    z = np.abs(stats.zscore(col))\n",
    "    idx_outliers = np.where(z < -3,True,False)\n",
    "    return pd.Series(idx_outliers,index=col.index)"
   ]
  },
  {
   "cell_type": "markdown",
   "metadata": {},
   "source": [
    "# Initial exploration and key questions"
   ]
  },
  {
   "cell_type": "code",
   "execution_count": 10,
   "metadata": {},
   "outputs": [
    {
     "name": "stdout",
     "output_type": "stream",
     "text": [
      "DataType:\n",
      "\t int64\n",
      "Null Values Present = 0\n",
      "\n",
      "Value Counts:\n"
     ]
    },
    {
     "data": {
      "text/plain": [
       "0    0.799721\n",
       "1    0.200279\n",
       "Name: Are you self-employed?, dtype: float64"
      ]
     },
     "metadata": {},
     "output_type": "display_data"
    },
    {
     "name": "stdout",
     "output_type": "stream",
     "text": [
      "DataType:\n",
      "\t object\n",
      "Null Values Present = 287\n",
      "\n",
      "Value Counts:\n"
     ]
    },
    {
     "data": {
      "text/plain": [
       "26-100            0.254799\n",
       "More than 1000    0.223386\n",
       "100-500           0.216405\n",
       "6-25              0.183246\n",
       "500-1000          0.069808\n",
       "1-5               0.052356\n",
       "Name: How many employees does your company or organization have?, dtype: float64"
      ]
     },
     "metadata": {},
     "output_type": "display_data"
    },
    {
     "name": "stdout",
     "output_type": "stream",
     "text": [
      "DataType:\n",
      "\t float64\n",
      "Null Values Present = 287\n",
      "\n",
      "Value Counts:\n"
     ]
    },
    {
     "data": {
      "text/plain": [
       "1.0    0.770506\n",
       "0.0    0.229494\n",
       "Name: Is your employer primarily a tech company/organization?, dtype: float64"
      ]
     },
     "metadata": {},
     "output_type": "display_data"
    },
    {
     "name": "stdout",
     "output_type": "stream",
     "text": [
      "DataType:\n",
      "\t float64\n",
      "Null Values Present = 1170\n",
      "\n",
      "Value Counts:\n"
     ]
    },
    {
     "data": {
      "text/plain": [
       "1.0    0.942966\n",
       "0.0    0.057034\n",
       "Name: Is your primary role within your company related to tech/IT?, dtype: float64"
      ]
     },
     "metadata": {},
     "output_type": "display_data"
    },
    {
     "name": "stdout",
     "output_type": "stream",
     "text": [
      "DataType:\n",
      "\t object\n",
      "Null Values Present = 287\n",
      "\n",
      "Value Counts:\n"
     ]
    },
    {
     "data": {
      "text/plain": [
       "Yes                                0.463351\n",
       "I don't know                       0.278360\n",
       "No                                 0.185864\n",
       "Not eligible for coverage / N/A    0.072426\n",
       "Name: Does your employer provide mental health benefits as part of healthcare coverage?, dtype: float64"
      ]
     },
     "metadata": {},
     "output_type": "display_data"
    },
    {
     "name": "stdout",
     "output_type": "stream",
     "text": [
      "DataType:\n",
      "\t object\n",
      "Null Values Present = 420\n",
      "\n",
      "Value Counts:\n"
     ]
    },
    {
     "data": {
      "text/plain": [
       "No               0.349457\n",
       "I am not sure    0.347483\n",
       "Yes              0.303060\n",
       "Name: Do you know the options for mental health care available under your employer-provided coverage?, dtype: float64"
      ]
     },
     "metadata": {},
     "output_type": "display_data"
    },
    {
     "name": "stdout",
     "output_type": "stream",
     "text": [
      "DataType:\n",
      "\t object\n",
      "Null Values Present = 287\n",
      "\n",
      "Value Counts:\n"
     ]
    },
    {
     "data": {
      "text/plain": [
       "No              0.709424\n",
       "Yes             0.200698\n",
       "I don't know    0.089878\n",
       "Name: Has your employer ever formally discussed mental health (for example, as part of a wellness campaign or other official communication)?, dtype: float64"
      ]
     },
     "metadata": {},
     "output_type": "display_data"
    },
    {
     "name": "stdout",
     "output_type": "stream",
     "text": [
      "DataType:\n",
      "\t object\n",
      "Null Values Present = 287\n",
      "\n",
      "Value Counts:\n"
     ]
    },
    {
     "data": {
      "text/plain": [
       "No              0.463351\n",
       "I don't know    0.279232\n",
       "Yes             0.257417\n",
       "Name: Does your employer offer resources to learn more about mental health concerns and options for seeking help?, dtype: float64"
      ]
     },
     "metadata": {},
     "output_type": "display_data"
    },
    {
     "name": "stdout",
     "output_type": "stream",
     "text": [
      "DataType:\n",
      "\t object\n",
      "Null Values Present = 287\n",
      "\n",
      "Value Counts:\n"
     ]
    },
    {
     "data": {
      "text/plain": [
       "I don't know    0.647469\n",
       "Yes             0.279232\n",
       "No              0.073298\n",
       "Name: Is your anonymity protected if you choose to take advantage of mental health or substance abuse treatment resources provided by your employer?, dtype: float64"
      ]
     },
     "metadata": {},
     "output_type": "display_data"
    },
    {
     "name": "stdout",
     "output_type": "stream",
     "text": [
      "DataType:\n",
      "\t object\n",
      "Null Values Present = 287\n",
      "\n",
      "Value Counts:\n"
     ]
    },
    {
     "data": {
      "text/plain": [
       "Somewhat easy                 0.245201\n",
       "Very easy                     0.191972\n",
       "Somewhat difficult            0.173647\n",
       "Neither easy nor difficult    0.155323\n",
       "I don't know                  0.130890\n",
       "Very difficult                0.102967\n",
       "Name: If a mental health issue prompted you to request a medical leave from work, asking for that leave would be:, dtype: float64"
      ]
     },
     "metadata": {},
     "output_type": "display_data"
    },
    {
     "name": "stdout",
     "output_type": "stream",
     "text": [
      "DataType:\n",
      "\t object\n",
      "Null Values Present = 287\n",
      "\n",
      "Value Counts:\n"
     ]
    },
    {
     "data": {
      "text/plain": [
       "Maybe    0.424956\n",
       "No       0.382199\n",
       "Yes      0.192845\n",
       "Name: Do you think that discussing a mental health disorder with your employer would have negative consequences?, dtype: float64"
      ]
     },
     "metadata": {},
     "output_type": "display_data"
    },
    {
     "name": "stdout",
     "output_type": "stream",
     "text": [
      "DataType:\n",
      "\t object\n",
      "Null Values Present = 287\n",
      "\n",
      "Value Counts:\n"
     ]
    },
    {
     "data": {
      "text/plain": [
       "No       0.730366\n",
       "Maybe    0.233857\n",
       "Yes      0.035777\n",
       "Name: Do you think that discussing a physical health issue with your employer would have negative consequences?, dtype: float64"
      ]
     },
     "metadata": {},
     "output_type": "display_data"
    },
    {
     "name": "stdout",
     "output_type": "stream",
     "text": [
      "DataType:\n",
      "\t object\n",
      "Null Values Present = 287\n",
      "\n",
      "Value Counts:\n"
     ]
    },
    {
     "data": {
      "text/plain": [
       "Maybe    0.417976\n",
       "No       0.342059\n",
       "Yes      0.239965\n",
       "Name: Would you feel comfortable discussing a mental health disorder with your coworkers?, dtype: float64"
      ]
     },
     "metadata": {},
     "output_type": "display_data"
    },
    {
     "name": "stdout",
     "output_type": "stream",
     "text": [
      "DataType:\n",
      "\t object\n",
      "Null Values Present = 287\n",
      "\n",
      "Value Counts:\n"
     ]
    },
    {
     "data": {
      "text/plain": [
       "Yes      0.373473\n",
       "Maybe    0.333333\n",
       "No       0.293194\n",
       "Name: Would you feel comfortable discussing a mental health disorder with your direct supervisor(s)?, dtype: float64"
      ]
     },
     "metadata": {},
     "output_type": "display_data"
    },
    {
     "name": "stdout",
     "output_type": "stream",
     "text": [
      "DataType:\n",
      "\t object\n",
      "Null Values Present = 287\n",
      "\n",
      "Value Counts:\n"
     ]
    },
    {
     "data": {
      "text/plain": [
       "I don't know    0.430192\n",
       "Yes             0.305410\n",
       "No              0.264398\n",
       "Name: Do you feel that your employer takes mental health as seriously as physical health?, dtype: float64"
      ]
     },
     "metadata": {},
     "output_type": "display_data"
    },
    {
     "name": "stdout",
     "output_type": "stream",
     "text": [
      "DataType:\n",
      "\t object\n",
      "Null Values Present = 287\n",
      "\n",
      "Value Counts:\n"
     ]
    },
    {
     "data": {
      "text/plain": [
       "No     0.914485\n",
       "Yes    0.085515\n",
       "Name: Have you heard of or observed negative consequences for co-workers who have been open about mental health issues in your workplace?, dtype: float64"
      ]
     },
     "metadata": {},
     "output_type": "display_data"
    },
    {
     "name": "stdout",
     "output_type": "stream",
     "text": [
      "DataType:\n",
      "\t float64\n",
      "Null Values Present = 1146\n",
      "\n",
      "Value Counts:\n"
     ]
    },
    {
     "data": {
      "text/plain": [
       "1.0    0.644599\n",
       "0.0    0.355401\n",
       "Name: Do you have medical coverage (private insurance or state-provided) which includes treatment of  mental health issues?, dtype: float64"
      ]
     },
     "metadata": {},
     "output_type": "display_data"
    },
    {
     "name": "stdout",
     "output_type": "stream",
     "text": [
      "DataType:\n",
      "\t object\n",
      "Null Values Present = 1146\n",
      "\n",
      "Value Counts:\n"
     ]
    },
    {
     "data": {
      "text/plain": [
       "I know some             0.491289\n",
       "Yes, I know several     0.289199\n",
       "No, I don't know any    0.219512\n",
       "Name: Do you know local or online resources to seek help for a mental health disorder?, dtype: float64"
      ]
     },
     "metadata": {},
     "output_type": "display_data"
    },
    {
     "name": "stdout",
     "output_type": "stream",
     "text": [
      "DataType:\n",
      "\t object\n",
      "Null Values Present = 1146\n",
      "\n",
      "Value Counts:\n"
     ]
    },
    {
     "data": {
      "text/plain": [
       "Not applicable to me                         0.351916\n",
       "No, because it would impact me negatively    0.289199\n",
       "Sometimes, if it comes up                    0.198606\n",
       "No, because it doesn't matter                0.153310\n",
       "Yes, always                                  0.006969\n",
       "Name: If you have been diagnosed or treated for a mental health disorder, do you ever reveal this to clients or business contacts?, dtype: float64"
      ]
     },
     "metadata": {},
     "output_type": "display_data"
    },
    {
     "name": "stdout",
     "output_type": "stream",
     "text": [
      "DataType:\n",
      "\t object\n",
      "Null Values Present = 1289\n",
      "\n",
      "Value Counts:\n"
     ]
    },
    {
     "data": {
      "text/plain": [
       "I'm not sure    0.458333\n",
       "No              0.291667\n",
       "Yes             0.250000\n",
       "Name: If you have revealed a mental health issue to a client or business contact, do you believe this has impacted you negatively?, dtype: float64"
      ]
     },
     "metadata": {},
     "output_type": "display_data"
    },
    {
     "name": "stdout",
     "output_type": "stream",
     "text": [
      "DataType:\n",
      "\t object\n",
      "Null Values Present = 1146\n",
      "\n",
      "Value Counts:\n"
     ]
    },
    {
     "data": {
      "text/plain": [
       "Not applicable to me                         0.386760\n",
       "Sometimes, if it comes up                    0.344948\n",
       "No, because it would impact me negatively    0.177700\n",
       "No, because it doesn't matter                0.052265\n",
       "Yes, always                                  0.038328\n",
       "Name: If you have been diagnosed or treated for a mental health disorder, do you ever reveal this to coworkers or employees?, dtype: float64"
      ]
     },
     "metadata": {},
     "output_type": "display_data"
    },
    {
     "name": "stdout",
     "output_type": "stream",
     "text": [
      "DataType:\n",
      "\t object\n",
      "Null Values Present = 1146\n",
      "\n",
      "Value Counts:\n"
     ]
    },
    {
     "data": {
      "text/plain": [
       "Not applicable to me    0.463415\n",
       "I'm not sure            0.216028\n",
       "No                      0.198606\n",
       "Yes                     0.121951\n",
       "Name: If you have revealed a mental health issue to a coworker or employee, do you believe this has impacted you negatively?, dtype: float64"
      ]
     },
     "metadata": {},
     "output_type": "display_data"
    },
    {
     "name": "stdout",
     "output_type": "stream",
     "text": [
      "DataType:\n",
      "\t object\n",
      "Null Values Present = 1146\n",
      "\n",
      "Value Counts:\n"
     ]
    },
    {
     "data": {
      "text/plain": [
       "Yes                     0.710801\n",
       "Unsure                  0.132404\n",
       "Not applicable to me    0.108014\n",
       "No                      0.048780\n",
       "Name: Do you believe your productivity is ever affected by a mental health issue?, dtype: float64"
      ]
     },
     "metadata": {},
     "output_type": "display_data"
    },
    {
     "name": "stdout",
     "output_type": "stream",
     "text": [
      "DataType:\n",
      "\t object\n",
      "Null Values Present = 1229\n",
      "\n",
      "Value Counts:\n"
     ]
    },
    {
     "data": {
      "text/plain": [
       "1-25%      0.450980\n",
       "26-50%     0.352941\n",
       "51-75%     0.127451\n",
       "76-100%    0.068627\n",
       "Name: If yes, what percentage of your work time (time performing primary or secondary job functions) is affected by a mental health issue?, dtype: float64"
      ]
     },
     "metadata": {},
     "output_type": "display_data"
    },
    {
     "name": "stdout",
     "output_type": "stream",
     "text": [
      "DataType:\n",
      "\t int64\n",
      "Null Values Present = 0\n",
      "\n",
      "Value Counts:\n"
     ]
    },
    {
     "data": {
      "text/plain": [
       "1    0.882066\n",
       "0    0.117934\n",
       "Name: Do you have previous employers?, dtype: float64"
      ]
     },
     "metadata": {},
     "output_type": "display_data"
    },
    {
     "name": "stdout",
     "output_type": "stream",
     "text": [
      "DataType:\n",
      "\t object\n",
      "Null Values Present = 169\n",
      "\n",
      "Value Counts:\n"
     ]
    },
    {
     "data": {
      "text/plain": [
       "Some did             0.309335\n",
       "No, none did         0.294304\n",
       "I don't know         0.247627\n",
       "Yes, they all did    0.148734\n",
       "Name: Have your previous employers provided mental health benefits?, dtype: float64"
      ]
     },
     "metadata": {},
     "output_type": "display_data"
    },
    {
     "name": "stdout",
     "output_type": "stream",
     "text": [
      "DataType:\n",
      "\t object\n",
      "Null Values Present = 169\n",
      "\n",
      "Value Counts:\n"
     ]
    },
    {
     "data": {
      "text/plain": [
       "N/A (not currently aware)          0.460443\n",
       "I was aware of some                0.303797\n",
       "Yes, I was aware of all of them    0.143196\n",
       "No, I only became aware later      0.092563\n",
       "Name: Were you aware of the options for mental health care provided by your previous employers?, dtype: float64"
      ]
     },
     "metadata": {},
     "output_type": "display_data"
    },
    {
     "name": "stdout",
     "output_type": "stream",
     "text": [
      "DataType:\n",
      "\t object\n",
      "Null Values Present = 169\n",
      "\n",
      "Value Counts:\n"
     ]
    },
    {
     "data": {
      "text/plain": [
       "None did             0.704114\n",
       "Some did             0.201741\n",
       "I don't know         0.068038\n",
       "Yes, they all did    0.026108\n",
       "Name: Did your previous employers ever formally discuss mental health (as part of a wellness campaign or other official communication)?, dtype: float64"
      ]
     },
     "metadata": {},
     "output_type": "display_data"
    },
    {
     "name": "stdout",
     "output_type": "stream",
     "text": [
      "DataType:\n",
      "\t object\n",
      "Null Values Present = 169\n",
      "\n",
      "Value Counts:\n"
     ]
    },
    {
     "data": {
      "text/plain": [
       "None did             0.666139\n",
       "Some did             0.293513\n",
       "Yes, they all did    0.040348\n",
       "Name: Did your previous employers provide resources to learn more about mental health issues and how to seek help?, dtype: float64"
      ]
     },
     "metadata": {},
     "output_type": "display_data"
    },
    {
     "name": "stdout",
     "output_type": "stream",
     "text": [
      "DataType:\n",
      "\t object\n",
      "Null Values Present = 169\n",
      "\n",
      "Value Counts:\n"
     ]
    },
    {
     "data": {
      "text/plain": [
       "I don't know    0.680380\n",
       "Yes, always     0.129747\n",
       "No              0.095728\n",
       "Sometimes       0.094146\n",
       "Name: Was your anonymity protected if you chose to take advantage of mental health or substance abuse treatment resources with previous employers?, dtype: float64"
      ]
     },
     "metadata": {},
     "output_type": "display_data"
    },
    {
     "name": "stdout",
     "output_type": "stream",
     "text": [
      "DataType:\n",
      "\t object\n",
      "Null Values Present = 169\n",
      "\n",
      "Value Counts:\n"
     ]
    },
    {
     "data": {
      "text/plain": [
       "Some of them        0.486551\n",
       "I don't know        0.245253\n",
       "Yes, all of them    0.178797\n",
       "None of them        0.089399\n",
       "Name: Do you think that discussing a mental health disorder with previous employers would have negative consequences?, dtype: float64"
      ]
     },
     "metadata": {},
     "output_type": "display_data"
    },
    {
     "name": "stdout",
     "output_type": "stream",
     "text": [
      "DataType:\n",
      "\t object\n",
      "Null Values Present = 169\n",
      "\n",
      "Value Counts:\n"
     ]
    },
    {
     "data": {
      "text/plain": [
       "Some of them        0.499209\n",
       "None of them        0.442247\n",
       "Yes, all of them    0.058544\n",
       "Name: Do you think that discussing a physical health issue with previous employers would have negative consequences?, dtype: float64"
      ]
     },
     "metadata": {},
     "output_type": "display_data"
    },
    {
     "name": "stdout",
     "output_type": "stream",
     "text": [
      "DataType:\n",
      "\t object\n",
      "Null Values Present = 169\n",
      "\n",
      "Value Counts:\n"
     ]
    },
    {
     "data": {
      "text/plain": [
       "Some of my previous employers           0.585443\n",
       "No, at none of my previous employers    0.340190\n",
       "Yes, at all of my previous employers    0.074367\n",
       "Name: Would you have been willing to discuss a mental health issue with your previous co-workers?, dtype: float64"
      ]
     },
     "metadata": {},
     "output_type": "display_data"
    },
    {
     "name": "stdout",
     "output_type": "stream",
     "text": [
      "DataType:\n",
      "\t object\n",
      "Null Values Present = 169\n",
      "\n",
      "Value Counts:\n"
     ]
    },
    {
     "data": {
      "text/plain": [
       "Some of my previous employers           0.517405\n",
       "No, at none of my previous employers    0.329114\n",
       "I don't know                            0.079905\n",
       "Yes, at all of my previous employers    0.073576\n",
       "Name: Would you have been willing to discuss a mental health issue with your direct supervisor(s)?, dtype: float64"
      ]
     },
     "metadata": {},
     "output_type": "display_data"
    },
    {
     "name": "stdout",
     "output_type": "stream",
     "text": [
      "DataType:\n",
      "\t object\n",
      "Null Values Present = 169\n",
      "\n",
      "Value Counts:\n"
     ]
    },
    {
     "data": {
      "text/plain": [
       "None did             0.366297\n",
       "Some did             0.337816\n",
       "I don't know         0.261867\n",
       "Yes, they all did    0.034019\n",
       "Name: Did you feel that your previous employers took mental health as seriously as physical health?, dtype: float64"
      ]
     },
     "metadata": {},
     "output_type": "display_data"
    },
    {
     "name": "stdout",
     "output_type": "stream",
     "text": [
      "DataType:\n",
      "\t object\n",
      "Null Values Present = 169\n",
      "\n",
      "Value Counts:\n"
     ]
    },
    {
     "data": {
      "text/plain": [
       "None of them        0.599684\n",
       "Some of them        0.351266\n",
       "Yes, all of them    0.049051\n",
       "Name: Did you hear of or observe negative consequences for co-workers with mental health issues in your previous workplaces?, dtype: float64"
      ]
     },
     "metadata": {},
     "output_type": "display_data"
    },
    {
     "name": "stdout",
     "output_type": "stream",
     "text": [
      "DataType:\n",
      "\t object\n",
      "Null Values Present = 0\n",
      "\n",
      "Value Counts:\n"
     ]
    },
    {
     "data": {
      "text/plain": [
       "Maybe    0.441731\n",
       "No       0.307746\n",
       "Yes      0.250523\n",
       "Name: Would you be willing to bring up a physical health issue with a potential employer in an interview?, dtype: float64"
      ]
     },
     "metadata": {},
     "output_type": "display_data"
    },
    {
     "name": "stdout",
     "output_type": "stream",
     "text": [
      "DataType:\n",
      "\t object\n",
      "Null Values Present = 338\n",
      "\n",
      "Value Counts:\n"
     ]
    },
    {
     "data": {
      "text/plain": [
       "Not relevant                                                                                                                                                                                                                                             0.002740\n",
       "I don't know                                                                                                                                                                                                                                             0.002740\n",
       "Fear of discrimination                                                                                                                                                                                                                                   0.002740\n",
       "None of their business.                                                                                                                                                                                                                                  0.001826\n",
       "Fear of not getting the job                                                                                                                                                                                                                              0.001826\n",
       "                                                                                                                                                                                                                                                           ...   \n",
       "Weakens my negotiation position.                                                                                                                                                                                                                         0.000913\n",
       "Because I value honesty very much and know that setting expectations in very beneficial for everybody                                                                                                                                                    0.000913\n",
       "Physical health issues are not typically seen as roadblocks to productivity and communication.                                                                                                                                                           0.000913\n",
       "I would be afraid it would reflect poorly on me.                                                                                                                                                                                                         0.000913\n",
       "People take physical illnesses or injuries seriously. You don't have to look a certain way to be believed to have a physical health issue. People can see it so they believe it. They often can't blame you for it or think you're just making it up     0.000913\n",
       "Name: Why or why not?, Length: 1085, dtype: float64"
      ]
     },
     "metadata": {},
     "output_type": "display_data"
    },
    {
     "name": "stdout",
     "output_type": "stream",
     "text": [
      "DataType:\n",
      "\t object\n",
      "Null Values Present = 0\n",
      "\n",
      "Value Counts:\n"
     ]
    },
    {
     "data": {
      "text/plain": [
       "No       0.616190\n",
       "Maybe    0.305652\n",
       "Yes      0.078158\n",
       "Name: Would you bring up a mental health issue with a potential employer in an interview?, dtype: float64"
      ]
     },
     "metadata": {},
     "output_type": "display_data"
    },
    {
     "name": "stdout",
     "output_type": "stream",
     "text": [
      "DataType:\n",
      "\t object\n",
      "Null Values Present = 307\n",
      "\n",
      "Value Counts:\n"
     ]
    },
    {
     "data": {
      "text/plain": [
       "Stigma                                                                                                                                             0.012433\n",
       "Stigma.                                                                                                                                            0.007993\n",
       "Same as above                                                                                                                                      0.006217\n",
       "See above                                                                                                                                          0.003552\n",
       "same as above                                                                                                                                      0.002664\n",
       "                                                                                                                                                     ...   \n",
       "Mental illness is not a protected class from discrimination and disclosing it publicly could affect my immigration status                          0.000888\n",
       "Medical screening process would be more appropriate (even though some of them only ask for diagnosed mental illnesses)                             0.000888\n",
       "I try to give the best impression to my interviewers and I wouldn't bring up a mental health issue that doesn't impact my ability to do my job.    0.000888\n",
       "Would be concerned I wouldn't be considered for the position.                                                                                      0.000888\n",
       "Rather keep it hidden, and come forward later once they had come to know me                                                                        0.000888\n",
       "Name: Why or why not?.1, Length: 1080, dtype: float64"
      ]
     },
     "metadata": {},
     "output_type": "display_data"
    },
    {
     "name": "stdout",
     "output_type": "stream",
     "text": [
      "DataType:\n",
      "\t object\n",
      "Null Values Present = 0\n",
      "\n",
      "Value Counts:\n"
     ]
    },
    {
     "data": {
      "text/plain": [
       "Maybe                         0.410328\n",
       "Yes, I think it would         0.392882\n",
       "No, I don't think it would    0.102582\n",
       "Yes, it has                   0.073273\n",
       "No, it has not                0.020935\n",
       "Name: Do you feel that being identified as a person with a mental health issue would hurt your career?, dtype: float64"
      ]
     },
     "metadata": {},
     "output_type": "display_data"
    },
    {
     "name": "stdout",
     "output_type": "stream",
     "text": [
      "DataType:\n",
      "\t object\n",
      "Null Values Present = 0\n",
      "\n",
      "Value Counts:\n"
     ]
    },
    {
     "data": {
      "text/plain": [
       "Maybe                           0.412421\n",
       "Yes, I think they would         0.281228\n",
       "No, I don't think they would    0.242847\n",
       "No, they do not                 0.034194\n",
       "Yes, they do                    0.029309\n",
       "Name: Do you think that team members/co-workers would view you more negatively if they knew you suffered from a mental health issue?, dtype: float64"
      ]
     },
     "metadata": {},
     "output_type": "display_data"
    },
    {
     "name": "stdout",
     "output_type": "stream",
     "text": [
      "DataType:\n",
      "\t object\n",
      "Null Values Present = 0\n",
      "\n",
      "Value Counts:\n"
     ]
    },
    {
     "data": {
      "text/plain": [
       "Somewhat open                                            0.446615\n",
       "Very open                                                0.175157\n",
       "Somewhat not open                                        0.149337\n",
       "Neutral                                                  0.098395\n",
       "Not applicable to me (I do not have a mental illness)    0.078158\n",
       "Not open at all                                          0.052338\n",
       "Name: How willing would you be to share with friends and family that you have a mental illness?, dtype: float64"
      ]
     },
     "metadata": {},
     "output_type": "display_data"
    },
    {
     "name": "stdout",
     "output_type": "stream",
     "text": [
      "DataType:\n",
      "\t object\n",
      "Null Values Present = 89\n",
      "\n",
      "Value Counts:\n"
     ]
    },
    {
     "data": {
      "text/plain": [
       "No                    0.421875\n",
       "Maybe/Not sure        0.257440\n",
       "Yes, I observed       0.196429\n",
       "Yes, I experienced    0.124256\n",
       "Name: Have you observed or experienced an unsupportive or badly handled response to a mental health issue in your current or previous workplace?, dtype: float64"
      ]
     },
     "metadata": {},
     "output_type": "display_data"
    },
    {
     "name": "stdout",
     "output_type": "stream",
     "text": [
      "DataType:\n",
      "\t object\n",
      "Null Values Present = 776\n",
      "\n",
      "Value Counts:\n"
     ]
    },
    {
     "data": {
      "text/plain": [
       "Yes      0.374429\n",
       "No       0.356164\n",
       "Maybe    0.269406\n",
       "Name: Have your observations of how another individual who discussed a mental health disorder made you less likely to reveal a mental health issue yourself in your current workplace?, dtype: float64"
      ]
     },
     "metadata": {},
     "output_type": "display_data"
    },
    {
     "name": "stdout",
     "output_type": "stream",
     "text": [
      "DataType:\n",
      "\t object\n",
      "Null Values Present = 0\n",
      "\n",
      "Value Counts:\n"
     ]
    },
    {
     "data": {
      "text/plain": [
       "Yes             0.467551\n",
       "No              0.340544\n",
       "I don't know    0.191905\n",
       "Name: Do you have a family history of mental illness?, dtype: float64"
      ]
     },
     "metadata": {},
     "output_type": "display_data"
    },
    {
     "name": "stdout",
     "output_type": "stream",
     "text": [
      "DataType:\n",
      "\t object\n",
      "Null Values Present = 0\n",
      "\n",
      "Value Counts:\n"
     ]
    },
    {
     "data": {
      "text/plain": [
       "Yes      0.513608\n",
       "No       0.314724\n",
       "Maybe    0.171668\n",
       "Name: Have you had a mental health disorder in the past?, dtype: float64"
      ]
     },
     "metadata": {},
     "output_type": "display_data"
    },
    {
     "name": "stdout",
     "output_type": "stream",
     "text": [
      "DataType:\n",
      "\t object\n",
      "Null Values Present = 0\n",
      "\n",
      "Value Counts:\n"
     ]
    },
    {
     "data": {
      "text/plain": [
       "Yes      0.401256\n",
       "No       0.370551\n",
       "Maybe    0.228193\n",
       "Name: Do you currently have a mental health disorder?, dtype: float64"
      ]
     },
     "metadata": {},
     "output_type": "display_data"
    },
    {
     "name": "stdout",
     "output_type": "stream",
     "text": [
      "DataType:\n",
      "\t object\n",
      "Null Values Present = 865\n",
      "\n",
      "Value Counts:\n"
     ]
    },
    {
     "data": {
      "text/plain": [
       "Anxiety Disorder (Generalized, Social, Phobia, etc)|Mood Disorder (Depression, Bipolar Disorder, etc)                                                                                                0.205986\n",
       "Mood Disorder (Depression, Bipolar Disorder, etc)                                                                                                                                                    0.179577\n",
       "Anxiety Disorder (Generalized, Social, Phobia, etc)                                                                                                                                                  0.082746\n",
       "Anxiety Disorder (Generalized, Social, Phobia, etc)|Mood Disorder (Depression, Bipolar Disorder, etc)|Attention Deficit Hyperactivity Disorder                                                       0.045775\n",
       "Mood Disorder (Depression, Bipolar Disorder, etc)|Attention Deficit Hyperactivity Disorder                                                                                                           0.038732\n",
       "                                                                                                                                                                                                       ...   \n",
       "Anxiety Disorder (Generalized, Social, Phobia, etc)|Mood Disorder (Depression, Bipolar Disorder, etc)|Post-traumatic Stress Disorder|Addictive Disorder|Autism                                       0.001761\n",
       "Addictive Disorder                                                                                                                                                                                   0.001761\n",
       "I haven't been formally diagnosed, so I felt uncomfortable answering, but Social Anxiety and Depression.                                                                                             0.001761\n",
       "Seasonal Affective Disorder                                                                                                                                                                          0.001761\n",
       "Anxiety Disorder (Generalized, Social, Phobia, etc)|Mood Disorder (Depression, Bipolar Disorder, etc)|Personality Disorder (Borderline, Antisocial, Paranoid, etc)|Post-traumatic Stress Disorder    0.001761\n",
       "Name: If yes, what condition(s) have you been diagnosed with?, Length: 128, dtype: float64"
      ]
     },
     "metadata": {},
     "output_type": "display_data"
    },
    {
     "name": "stdout",
     "output_type": "stream",
     "text": [
      "DataType:\n",
      "\t object\n",
      "Null Values Present = 1111\n",
      "\n",
      "Value Counts:\n"
     ]
    },
    {
     "data": {
      "text/plain": [
       "Mood Disorder (Depression, Bipolar Disorder, etc)                                                                                                                                                   0.170807\n",
       "Anxiety Disorder (Generalized, Social, Phobia, etc)|Mood Disorder (Depression, Bipolar Disorder, etc)                                                                                               0.152174\n",
       "Anxiety Disorder (Generalized, Social, Phobia, etc)                                                                                                                                                 0.108696\n",
       "Mood Disorder (Depression, Bipolar Disorder, etc)|Attention Deficit Hyperactivity Disorder                                                                                                          0.031056\n",
       "Anxiety Disorder (Generalized, Social, Phobia, etc)|Mood Disorder (Depression, Bipolar Disorder, etc)|Attention Deficit Hyperactivity Disorder                                                      0.031056\n",
       "                                                                                                                                                                                                      ...   \n",
       "Anxiety Disorder (Generalized, Social, Phobia, etc)|Mood Disorder (Depression, Bipolar Disorder, etc)|Personality Disorder (Borderline, Antisocial, Paranoid, etc)|Obsessive-Compulsive Disorder    0.003106\n",
       "Personality Disorder (Borderline, Antisocial, Paranoid, etc)|Substance Use Disorder|Addictive Disorder                                                                                              0.003106\n",
       "Psychotic Disorder (Schizophrenia, Schizoaffective, etc)|Stress Response Syndromes                                                                                                                  0.003106\n",
       "Personality Disorder (Borderline, Antisocial, Paranoid, etc)                                                                                                                                        0.003106\n",
       "Obsessive-Compulsive Disorder|Mood Disorder (Depression, Bipolar Disorder, etc)                                                                                                                     0.003106\n",
       "Name: If maybe, what condition(s) do you believe you have?, Length: 99, dtype: float64"
      ]
     },
     "metadata": {},
     "output_type": "display_data"
    },
    {
     "name": "stdout",
     "output_type": "stream",
     "text": [
      "DataType:\n",
      "\t object\n",
      "Null Values Present = 0\n",
      "\n",
      "Value Counts:\n"
     ]
    },
    {
     "data": {
      "text/plain": [
       "No     0.500349\n",
       "Yes    0.499651\n",
       "Name: Have you been diagnosed with a mental health condition by a medical professional?, dtype: float64"
      ]
     },
     "metadata": {},
     "output_type": "display_data"
    },
    {
     "name": "stdout",
     "output_type": "stream",
     "text": [
      "DataType:\n",
      "\t object\n",
      "Null Values Present = 722\n",
      "\n",
      "Value Counts:\n"
     ]
    },
    {
     "data": {
      "text/plain": [
       "Mood Disorder (Depression, Bipolar Disorder, etc)                                                                                                 0.263010\n",
       "Anxiety Disorder (Generalized, Social, Phobia, etc)|Mood Disorder (Depression, Bipolar Disorder, etc)                                             0.210970\n",
       "Anxiety Disorder (Generalized, Social, Phobia, etc)                                                                                               0.090014\n",
       "Anxiety Disorder (Generalized, Social, Phobia, etc)|Mood Disorder (Depression, Bipolar Disorder, etc)|Attention Deficit Hyperactivity Disorder    0.046414\n",
       "Mood Disorder (Depression, Bipolar Disorder, etc)|Attention Deficit Hyperactivity Disorder                                                        0.040788\n",
       "                                                                                                                                                    ...   \n",
       "Seasonal Affective Disorder                                                                                                                       0.001406\n",
       "Personality Disorder (Borderline, Antisocial, Paranoid, etc)                                                                                      0.001406\n",
       "Anxiety Disorder (Generalized, Social, Phobia, etc)|Obsessive-Compulsive Disorder|Post-traumatic Stress Disorder                                  0.001406\n",
       "Asperger Syndrome                                                                                                                                 0.001406\n",
       "Attention Deficit Hyperactivity Disorder|MCD (when it was diagnosed, the ultra-mega \"disorder\" ADHD didn't exist yet)                             0.001406\n",
       "Name: If so, what condition(s) were you diagnosed with?, Length: 116, dtype: float64"
      ]
     },
     "metadata": {},
     "output_type": "display_data"
    },
    {
     "name": "stdout",
     "output_type": "stream",
     "text": [
      "DataType:\n",
      "\t int64\n",
      "Null Values Present = 0\n",
      "\n",
      "Value Counts:\n"
     ]
    },
    {
     "data": {
      "text/plain": [
       "1    0.585485\n",
       "0    0.414515\n",
       "Name: Have you ever sought treatment for a mental health issue from a mental health professional?, dtype: float64"
      ]
     },
     "metadata": {},
     "output_type": "display_data"
    },
    {
     "name": "stdout",
     "output_type": "stream",
     "text": [
      "DataType:\n",
      "\t object\n",
      "Null Values Present = 0\n",
      "\n",
      "Value Counts:\n"
     ]
    },
    {
     "data": {
      "text/plain": [
       "Not applicable to me    0.388695\n",
       "Sometimes               0.257502\n",
       "Rarely                  0.224703\n",
       "Never                   0.083740\n",
       "Often                   0.045359\n",
       "Name: If you have a mental health issue, do you feel that it interferes with your work when being treated effectively?, dtype: float64"
      ]
     },
     "metadata": {},
     "output_type": "display_data"
    },
    {
     "name": "stdout",
     "output_type": "stream",
     "text": [
      "DataType:\n",
      "\t object\n",
      "Null Values Present = 0\n",
      "\n",
      "Value Counts:\n"
     ]
    },
    {
     "data": {
      "text/plain": [
       "Often                   0.375436\n",
       "Not applicable to me    0.326588\n",
       "Sometimes               0.253315\n",
       "Rarely                  0.036288\n",
       "Never                   0.008374\n",
       "Name: If you have a mental health issue, do you feel that it interferes with your work when NOT being treated effectively?, dtype: float64"
      ]
     },
     "metadata": {},
     "output_type": "display_data"
    },
    {
     "name": "stdout",
     "output_type": "stream",
     "text": [
      "DataType:\n",
      "\t int64\n",
      "Null Values Present = 0\n",
      "\n",
      "Value Counts:\n"
     ]
    },
    {
     "data": {
      "text/plain": [
       "30     0.065597\n",
       "31     0.057223\n",
       "29     0.055129\n",
       "28     0.051640\n",
       "35     0.051640\n",
       "32     0.050244\n",
       "34     0.048151\n",
       "33     0.048151\n",
       "26     0.044662\n",
       "27     0.043964\n",
       "37     0.041172\n",
       "39     0.038381\n",
       "38     0.037683\n",
       "36     0.034892\n",
       "25     0.030705\n",
       "24     0.029309\n",
       "40     0.025122\n",
       "22     0.022331\n",
       "44     0.021633\n",
       "43     0.020935\n",
       "42     0.020237\n",
       "45     0.018842\n",
       "23     0.016748\n",
       "41     0.016748\n",
       "46     0.015352\n",
       "21     0.010468\n",
       "47     0.009770\n",
       "49     0.009072\n",
       "55     0.008374\n",
       "48     0.006281\n",
       "50     0.006281\n",
       "54     0.004885\n",
       "51     0.004885\n",
       "52     0.004885\n",
       "20     0.004187\n",
       "56     0.003489\n",
       "57     0.002791\n",
       "63     0.002791\n",
       "19     0.002791\n",
       "53     0.002094\n",
       "61     0.001396\n",
       "59     0.001396\n",
       "17     0.000698\n",
       "15     0.000698\n",
       "323    0.000698\n",
       "99     0.000698\n",
       "58     0.000698\n",
       "62     0.000698\n",
       "65     0.000698\n",
       "66     0.000698\n",
       "70     0.000698\n",
       "74     0.000698\n",
       "3      0.000698\n",
       "Name: What is your age?, dtype: float64"
      ]
     },
     "metadata": {},
     "output_type": "display_data"
    },
    {
     "name": "stdout",
     "output_type": "stream",
     "text": [
      "DataType:\n",
      "\t object\n",
      "Null Values Present = 3\n",
      "\n",
      "Value Counts:\n"
     ]
    },
    {
     "data": {
      "text/plain": [
       "Male            0.426573\n",
       "male            0.174126\n",
       "Female          0.106993\n",
       "female          0.066434\n",
       "M               0.060140\n",
       "                  ...   \n",
       "Male.           0.000699\n",
       " Female         0.000699\n",
       "Fluid           0.000699\n",
       "cisdude         0.000699\n",
       "nb masculine    0.000699\n",
       "Name: What is your gender?, Length: 70, dtype: float64"
      ]
     },
     "metadata": {},
     "output_type": "display_data"
    },
    {
     "name": "stdout",
     "output_type": "stream",
     "text": [
      "DataType:\n",
      "\t object\n",
      "Null Values Present = 0\n",
      "\n",
      "Value Counts:\n"
     ]
    },
    {
     "data": {
      "text/plain": [
       "United States of America    0.586183\n",
       "United Kingdom              0.125611\n",
       "Canada                      0.054431\n",
       "Germany                     0.040475\n",
       "Netherlands                 0.033496\n",
       "Australia                   0.024424\n",
       "Sweden                      0.013259\n",
       "France                      0.011165\n",
       "Ireland                     0.010468\n",
       "Switzerland                 0.006978\n",
       "Brazil                      0.006978\n",
       "India                       0.006281\n",
       "Russia                      0.006281\n",
       "New Zealand                 0.006281\n",
       "Denmark                     0.004885\n",
       "Bulgaria                    0.004885\n",
       "Finland                     0.004885\n",
       "Belgium                     0.003489\n",
       "Italy                       0.003489\n",
       "Austria                     0.002791\n",
       "Spain                       0.002791\n",
       "Romania                     0.002791\n",
       "Poland                      0.002791\n",
       "South Africa                0.002791\n",
       "Chile                       0.002094\n",
       "Pakistan                    0.002094\n",
       "Czech Republic              0.002094\n",
       "Norway                      0.002094\n",
       "Mexico                      0.001396\n",
       "Estonia                     0.001396\n",
       "Colombia                    0.001396\n",
       "Bosnia and Herzegovina      0.001396\n",
       "Other                       0.001396\n",
       "Japan                       0.001396\n",
       "Afghanistan                 0.001396\n",
       "Lithuania                   0.001396\n",
       "Israel                      0.001396\n",
       "China                       0.000698\n",
       "Algeria                     0.000698\n",
       "Greece                      0.000698\n",
       "Taiwan                      0.000698\n",
       "Argentina                   0.000698\n",
       "Ecuador                     0.000698\n",
       "Guatemala                   0.000698\n",
       "Serbia                      0.000698\n",
       "Venezuela                   0.000698\n",
       "Brunei                      0.000698\n",
       "Vietnam                     0.000698\n",
       "Slovakia                    0.000698\n",
       "Iran                        0.000698\n",
       "Costa Rica                  0.000698\n",
       "Bangladesh                  0.000698\n",
       "Hungary                     0.000698\n",
       "Name: What country do you live in?, dtype: float64"
      ]
     },
     "metadata": {},
     "output_type": "display_data"
    },
    {
     "name": "stdout",
     "output_type": "stream",
     "text": [
      "DataType:\n",
      "\t object\n",
      "Null Values Present = 593\n",
      "\n",
      "Value Counts:\n"
     ]
    },
    {
     "data": {
      "text/plain": [
       "California              0.154762\n",
       "Illinois                0.066667\n",
       "Michigan                0.057143\n",
       "New York                0.053571\n",
       "Texas                   0.051190\n",
       "Washington              0.051190\n",
       "Minnesota               0.050000\n",
       "Oregon                  0.044048\n",
       "Pennsylvania            0.039286\n",
       "Colorado                0.033333\n",
       "Tennessee               0.032143\n",
       "Indiana                 0.029762\n",
       "Ohio                    0.029762\n",
       "Massachusetts           0.027381\n",
       "Florida                 0.025000\n",
       "North Carolina          0.025000\n",
       "Maryland                0.019048\n",
       "Virginia                0.017857\n",
       "Georgia                 0.016667\n",
       "Kansas                  0.016667\n",
       "Oklahoma                0.015476\n",
       "Wisconsin               0.015476\n",
       "Nebraska                0.014286\n",
       "Missouri                0.014286\n",
       "New Jersey              0.008333\n",
       "Utah                    0.007143\n",
       "Connecticut             0.005952\n",
       "Maine                   0.005952\n",
       "Arizona                 0.005952\n",
       "New Hampshire           0.005952\n",
       "Vermont                 0.005952\n",
       "Iowa                    0.005952\n",
       "North Dakota            0.004762\n",
       "Kentucky                0.004762\n",
       "South Dakota            0.004762\n",
       "Alabama                 0.004762\n",
       "New Mexico              0.004762\n",
       "Rhode Island            0.003571\n",
       "Idaho                   0.003571\n",
       "District of Columbia    0.003571\n",
       "Nevada                  0.003571\n",
       "Louisiana               0.002381\n",
       "West Virginia           0.002381\n",
       "Alaska                  0.002381\n",
       "Delaware                0.001190\n",
       "South Carolina          0.001190\n",
       "Montana                 0.001190\n",
       "Name: What US state or territory do you live in?, dtype: float64"
      ]
     },
     "metadata": {},
     "output_type": "display_data"
    },
    {
     "name": "stdout",
     "output_type": "stream",
     "text": [
      "DataType:\n",
      "\t object\n",
      "Null Values Present = 0\n",
      "\n",
      "Value Counts:\n"
     ]
    },
    {
     "data": {
      "text/plain": [
       "United States of America    0.593859\n",
       "United Kingdom              0.127704\n",
       "Canada                      0.051640\n",
       "Germany                     0.040475\n",
       "Netherlands                 0.032798\n",
       "Australia                   0.023726\n",
       "Sweden                      0.013957\n",
       "Ireland                     0.010468\n",
       "France                      0.009770\n",
       "Brazil                      0.006978\n",
       "Switzerland                 0.006978\n",
       "New Zealand                 0.006281\n",
       "Russia                      0.006281\n",
       "India                       0.006281\n",
       "Denmark                     0.004885\n",
       "Bulgaria                    0.004885\n",
       "Finland                     0.004885\n",
       "Belgium                     0.003489\n",
       "Austria                     0.002791\n",
       "Poland                      0.002791\n",
       "South Africa                0.002791\n",
       "Norway                      0.002094\n",
       "Spain                       0.002094\n",
       "Italy                       0.002094\n",
       "Czech Republic              0.002094\n",
       "Chile                       0.002094\n",
       "Romania                     0.002094\n",
       "Bosnia and Herzegovina      0.001396\n",
       "Israel                      0.001396\n",
       "Colombia                    0.001396\n",
       "Mexico                      0.001396\n",
       "Estonia                     0.001396\n",
       "Pakistan                    0.001396\n",
       "Afghanistan                 0.001396\n",
       "Other                       0.001396\n",
       "Japan                       0.000698\n",
       "China                       0.000698\n",
       "Lithuania                   0.000698\n",
       "United Arab Emirates        0.000698\n",
       "Greece                      0.000698\n",
       "Bangladesh                  0.000698\n",
       "Hungary                     0.000698\n",
       "Iran                        0.000698\n",
       "Venezuela                   0.000698\n",
       "Brunei                      0.000698\n",
       "Vietnam                     0.000698\n",
       "Argentina                   0.000698\n",
       "Slovakia                    0.000698\n",
       "Guatemala                   0.000698\n",
       "Costa Rica                  0.000698\n",
       "Serbia                      0.000698\n",
       "Ecuador                     0.000698\n",
       "Turkey                      0.000698\n",
       "Name: What country do you work in?, dtype: float64"
      ]
     },
     "metadata": {},
     "output_type": "display_data"
    },
    {
     "name": "stdout",
     "output_type": "stream",
     "text": [
      "DataType:\n",
      "\t object\n",
      "Null Values Present = 582\n",
      "\n",
      "Value Counts:\n"
     ]
    },
    {
     "data": {
      "text/plain": [
       "California              0.165687\n",
       "Illinois                0.068155\n",
       "New York                0.057579\n",
       "Michigan                0.055229\n",
       "Texas                   0.051704\n",
       "Minnesota               0.050529\n",
       "Washington              0.049354\n",
       "Oregon                  0.039953\n",
       "Pennsylvania            0.037603\n",
       "Tennessee               0.032902\n",
       "Colorado                0.032902\n",
       "Indiana                 0.029377\n",
       "Ohio                    0.029377\n",
       "Massachusetts           0.029377\n",
       "North Carolina          0.024677\n",
       "Florida                 0.022327\n",
       "Oklahoma                0.016451\n",
       "Wisconsin               0.016451\n",
       "Georgia                 0.016451\n",
       "Kansas                  0.016451\n",
       "Maryland                0.016451\n",
       "Virginia                0.015276\n",
       "Nebraska                0.014101\n",
       "Missouri                0.012926\n",
       "New Jersey              0.008226\n",
       "District of Columbia    0.008226\n",
       "Arizona                 0.007051\n",
       "Utah                    0.007051\n",
       "Vermont                 0.005875\n",
       "Connecticut             0.005875\n",
       "Iowa                    0.005875\n",
       "North Dakota            0.004700\n",
       "Alabama                 0.004700\n",
       "Maine                   0.004700\n",
       "Kentucky                0.004700\n",
       "South Dakota            0.004700\n",
       "New Mexico              0.004700\n",
       "New Hampshire           0.003525\n",
       "Nevada                  0.003525\n",
       "Louisiana               0.002350\n",
       "Rhode Island            0.002350\n",
       "Idaho                   0.002350\n",
       "Alaska                  0.002350\n",
       "West Virginia           0.001175\n",
       "Delaware                0.001175\n",
       "Montana                 0.001175\n",
       "South Carolina          0.001175\n",
       "Hawaii                  0.001175\n",
       "Name: What US state or territory do you work in?, dtype: float64"
      ]
     },
     "metadata": {},
     "output_type": "display_data"
    },
    {
     "name": "stdout",
     "output_type": "stream",
     "text": [
      "DataType:\n",
      "\t object\n",
      "Null Values Present = 0\n",
      "\n",
      "Value Counts:\n"
     ]
    },
    {
     "data": {
      "text/plain": [
       "Back-end Developer                                                                                                                          0.183531\n",
       "Front-end Developer                                                                                                                         0.087230\n",
       "Other                                                                                                                                       0.078158\n",
       "Supervisor/Team Lead                                                                                                                        0.047453\n",
       "Back-end Developer|Front-end Developer                                                                                                      0.042568\n",
       "                                                                                                                                              ...   \n",
       "One-person shop|Designer|Front-end Developer|Back-end Developer|Sales|Support                                                               0.000698\n",
       "Front-end Developer|Back-end Developer|Support|DevOps/SysAdmin|Executive Leadership                                                         0.000698\n",
       "One-person shop|Back-end Developer|Other                                                                                                    0.000698\n",
       "Executive Leadership|Supervisor/Team Lead|Back-end Developer                                                                                0.000698\n",
       "One-person shop|Back-end Developer|Sales|Support|DevOps/SysAdmin|Dev Evangelist/Advocate|Supervisor/Team Lead|Executive Leadership|Other    0.000698\n",
       "Name: Which of the following best describes your work position?, Length: 264, dtype: float64"
      ]
     },
     "metadata": {},
     "output_type": "display_data"
    },
    {
     "name": "stdout",
     "output_type": "stream",
     "text": [
      "DataType:\n",
      "\t object\n",
      "Null Values Present = 0\n",
      "\n",
      "Value Counts:\n"
     ]
    },
    {
     "data": {
      "text/plain": [
       "Sometimes    0.528262\n",
       "Always       0.239358\n",
       "Never        0.232380\n",
       "Name: Do you work remotely?, dtype: float64"
      ]
     },
     "metadata": {},
     "output_type": "display_data"
    }
   ],
   "source": [
    "check_column(df,list(df.columns) )"
   ]
  },
  {
   "cell_type": "markdown",
   "metadata": {},
   "source": [
    "## How many people surveyed are diagnosed with a mental health condition?"
   ]
  },
  {
   "cell_type": "code",
   "execution_count": 11,
   "metadata": {},
   "outputs": [
    {
     "data": {
      "text/plain": [
       "<matplotlib.axes._subplots.AxesSubplot at 0x13fc785f8>"
      ]
     },
     "execution_count": 11,
     "metadata": {},
     "output_type": "execute_result"
    },
    {
     "data": {
      "image/png": "[encoded data removed]",
      "text/plain": [
       "<Figure size 576x396 with 1 Axes>"
      ]
     },
     "metadata": {},
     "output_type": "display_data"
    }
   ],
   "source": [
    "sns.countplot(df['Have you been diagnosed with a mental health condition by a medical professional?'])"
   ]
  },
  {
   "cell_type": "code",
   "execution_count": 12,
   "metadata": {},
   "outputs": [
    {
     "data": {
      "text/plain": [
       "<matplotlib.axes._subplots.AxesSubplot at 0x13fcf1588>"
      ]
     },
     "execution_count": 12,
     "metadata": {},
     "output_type": "execute_result"
    },
    {
     "data": {
      "image/png": "[encoded data removed]",
      "text/plain": [
       "<Figure size 576x396 with 1 Axes>"
      ]
     },
     "metadata": {},
     "output_type": "display_data"
    }
   ],
   "source": [
    "df['Have you been diagnosed with a mental health condition by a medical professional?'].value_counts().plot(kind='pie')"
   ]
  },
  {
   "cell_type": "markdown",
   "metadata": {},
   "source": [
    "## To do charts: \n",
    "- big vs small company perceptions\n",
    "- insured vs uninsured\n",
    "- friends and family vs coworkers\n",
    "- company efforts and perception\n",
    "- composite scores of perceptions?"
   ]
  },
  {
   "cell_type": "markdown",
   "metadata": {},
   "source": [
    "## Distribution of age, around 30s is common"
   ]
  },
  {
   "cell_type": "code",
   "execution_count": 13,
   "metadata": {},
   "outputs": [
    {
     "data": {
      "text/plain": [
       "<matplotlib.axes._subplots.AxesSubplot at 0x13fd95550>"
      ]
     },
     "execution_count": 13,
     "metadata": {},
     "output_type": "execute_result"
    },
    {
     "data": {
      "image/png": "[encoded data removed]",
      "text/plain": [
       "<Figure size 576x396 with 1 Axes>"
      ]
     },
     "metadata": {},
     "output_type": "display_data"
    }
   ],
   "source": [
    "sns.distplot(df['What is your age?'], bins=40)#"
   ]
  },
  {
   "cell_type": "markdown",
   "metadata": {},
   "source": [
    "## To do: Fix title"
   ]
  },
  {
   "cell_type": "code",
   "execution_count": 14,
   "metadata": {},
   "outputs": [
    {
     "data": {
      "text/plain": [
       "<matplotlib.axes._subplots.AxesSubplot at 0x13ff06fd0>"
      ]
     },
     "execution_count": 14,
     "metadata": {},
     "output_type": "execute_result"
    },
    {
     "data": {
      "image/png": "[encoded data removed]",
      "text/plain": [
       "<Figure size 576x396 with 1 Axes>"
      ]
     },
     "metadata": {},
     "output_type": "display_data"
    }
   ],
   "source": [
    "sns.countplot(y=df['Do you think that team members/co-workers would view you more negatively if they knew you suffered from a mental health issue?'])"
   ]
  },
  {
   "cell_type": "markdown",
   "metadata": {},
   "source": [
    "## More people than not have sought treatment for a mental health issue from a professional"
   ]
  },
  {
   "cell_type": "code",
   "execution_count": 15,
   "metadata": {},
   "outputs": [
    {
     "data": {
      "text/plain": [
       "<matplotlib.axes._subplots.AxesSubplot at 0x140003dd8>"
      ]
     },
     "execution_count": 15,
     "metadata": {},
     "output_type": "execute_result"
    },
    {
     "data": {
      "image/png": "[encoded data removed]",
      "text/plain": [
       "<Figure size 576x396 with 1 Axes>"
      ]
     },
     "metadata": {},
     "output_type": "display_data"
    }
   ],
   "source": [
    "sns.countplot(df['Have you ever sought treatment for a mental health issue from a mental health professional?'])"
   ]
  },
  {
   "cell_type": "markdown",
   "metadata": {},
   "source": [
    "## Strongly, most people would not bring up a mental health issue to a potential employer"
   ]
  },
  {
   "cell_type": "code",
   "execution_count": 16,
   "metadata": {},
   "outputs": [
    {
     "data": {
      "text/plain": [
       "<matplotlib.axes._subplots.AxesSubplot at 0x1401bc438>"
      ]
     },
     "execution_count": 16,
     "metadata": {},
     "output_type": "execute_result"
    },
    {
     "data": {
      "image/png": "[encoded data removed]",
      "text/plain": [
       "<Figure size 576x396 with 1 Axes>"
      ]
     },
     "metadata": {},
     "output_type": "display_data"
    }
   ],
   "source": [
    "sns.countplot(df[\"Would you bring up a mental health issue with a potential employer in an interview?\"])"
   ]
  },
  {
   "cell_type": "markdown",
   "metadata": {},
   "source": [
    "## Target variable - would it hurt your career to be known as mentally ill?"
   ]
  },
  {
   "cell_type": "markdown",
   "metadata": {},
   "source": [
    "## HOT TAKE: \"Maybe\" feeling able to disclose mental health issues if you wish is not good enough (- variable later is renamed \"hurt_career\")"
   ]
  },
  {
   "cell_type": "code",
   "execution_count": 17,
   "metadata": {},
   "outputs": [
    {
     "data": {
      "text/plain": [
       "Maybe                         588\n",
       "Yes, I think it would         563\n",
       "No, I don't think it would    147\n",
       "Yes, it has                   105\n",
       "No, it has not                 30\n",
       "Name: Do you feel that being identified as a person with a mental health issue would hurt your career?, dtype: int64"
      ]
     },
     "execution_count": 17,
     "metadata": {},
     "output_type": "execute_result"
    }
   ],
   "source": [
    "df[\"Do you feel that being identified as a person with a mental health issue would hurt your career?\"].value_counts(dropna=False)"
   ]
  },
  {
   "cell_type": "code",
   "execution_count": 18,
   "metadata": {},
   "outputs": [
    {
     "data": {
      "text/plain": [
       "<matplotlib.axes._subplots.AxesSubplot at 0x140214898>"
      ]
     },
     "execution_count": 18,
     "metadata": {},
     "output_type": "execute_result"
    },
    {
     "data": {
      "image/png": "[encoded data removed]",
      "text/plain": [
       "<Figure size 576x396 with 1 Axes>"
      ]
     },
     "metadata": {},
     "output_type": "display_data"
    }
   ],
   "source": [
    "sns.countplot(y=df[\"Do you feel that being identified as a person with a mental health issue would hurt your career?\"])"
   ]
  },
  {
   "cell_type": "markdown",
   "metadata": {},
   "source": [
    "## Comparing the answers of the diagnosed and not regarding the target"
   ]
  },
  {
   "cell_type": "code",
   "execution_count": 19,
   "metadata": {},
   "outputs": [
    {
     "data": {
      "text/html": [
       "<div>\n",
       "<style scoped>\n",
       "    .dataframe tbody tr th:only-of-type {\n",
       "        vertical-align: middle;\n",
       "    }\n",
       "\n",
       "    .dataframe tbody tr th {\n",
       "        vertical-align: top;\n",
       "    }\n",
       "\n",
       "    .dataframe thead th {\n",
       "        text-align: right;\n",
       "    }\n",
       "</style>\n",
       "<table border=\"1\" class=\"dataframe\">\n",
       "  <thead>\n",
       "    <tr style=\"text-align: right;\">\n",
       "      <th></th>\n",
       "      <th>Are you self-employed?</th>\n",
       "      <th>How many employees does your company or organization have?</th>\n",
       "      <th>Is your employer primarily a tech company/organization?</th>\n",
       "      <th>Is your primary role within your company related to tech/IT?</th>\n",
       "      <th>Does your employer provide mental health benefits as part of healthcare coverage?</th>\n",
       "      <th>Do you know the options for mental health care available under your employer-provided coverage?</th>\n",
       "      <th>Has your employer ever formally discussed mental health (for example, as part of a wellness campaign or other official communication)?</th>\n",
       "      <th>Does your employer offer resources to learn more about mental health concerns and options for seeking help?</th>\n",
       "      <th>Is your anonymity protected if you choose to take advantage of mental health or substance abuse treatment resources provided by your employer?</th>\n",
       "      <th>If a mental health issue prompted you to request a medical leave from work, asking for that leave would be:</th>\n",
       "      <th>...</th>\n",
       "      <th>If you have a mental health issue, do you feel that it interferes with your work when being treated effectively?</th>\n",
       "      <th>If you have a mental health issue, do you feel that it interferes with your work when NOT being treated effectively?</th>\n",
       "      <th>What is your age?</th>\n",
       "      <th>What is your gender?</th>\n",
       "      <th>What country do you live in?</th>\n",
       "      <th>What US state or territory do you live in?</th>\n",
       "      <th>What country do you work in?</th>\n",
       "      <th>What US state or territory do you work in?</th>\n",
       "      <th>Which of the following best describes your work position?</th>\n",
       "      <th>Do you work remotely?</th>\n",
       "    </tr>\n",
       "  </thead>\n",
       "  <tbody>\n",
       "    <tr>\n",
       "      <td>0</td>\n",
       "      <td>0</td>\n",
       "      <td>26-100</td>\n",
       "      <td>1.0</td>\n",
       "      <td>NaN</td>\n",
       "      <td>Not eligible for coverage / N/A</td>\n",
       "      <td>NaN</td>\n",
       "      <td>No</td>\n",
       "      <td>No</td>\n",
       "      <td>I don't know</td>\n",
       "      <td>Very easy</td>\n",
       "      <td>...</td>\n",
       "      <td>Not applicable to me</td>\n",
       "      <td>Not applicable to me</td>\n",
       "      <td>39</td>\n",
       "      <td>Male</td>\n",
       "      <td>United Kingdom</td>\n",
       "      <td>NaN</td>\n",
       "      <td>United Kingdom</td>\n",
       "      <td>NaN</td>\n",
       "      <td>Back-end Developer</td>\n",
       "      <td>Sometimes</td>\n",
       "    </tr>\n",
       "    <tr>\n",
       "      <td>1</td>\n",
       "      <td>0</td>\n",
       "      <td>6-25</td>\n",
       "      <td>1.0</td>\n",
       "      <td>NaN</td>\n",
       "      <td>No</td>\n",
       "      <td>Yes</td>\n",
       "      <td>Yes</td>\n",
       "      <td>Yes</td>\n",
       "      <td>Yes</td>\n",
       "      <td>Somewhat easy</td>\n",
       "      <td>...</td>\n",
       "      <td>Rarely</td>\n",
       "      <td>Sometimes</td>\n",
       "      <td>29</td>\n",
       "      <td>male</td>\n",
       "      <td>United States of America</td>\n",
       "      <td>Illinois</td>\n",
       "      <td>United States of America</td>\n",
       "      <td>Illinois</td>\n",
       "      <td>Back-end Developer|Front-end Developer</td>\n",
       "      <td>Never</td>\n",
       "    </tr>\n",
       "    <tr>\n",
       "      <td>3</td>\n",
       "      <td>1</td>\n",
       "      <td>NaN</td>\n",
       "      <td>NaN</td>\n",
       "      <td>NaN</td>\n",
       "      <td>NaN</td>\n",
       "      <td>NaN</td>\n",
       "      <td>NaN</td>\n",
       "      <td>NaN</td>\n",
       "      <td>NaN</td>\n",
       "      <td>NaN</td>\n",
       "      <td>...</td>\n",
       "      <td>Sometimes</td>\n",
       "      <td>Sometimes</td>\n",
       "      <td>43</td>\n",
       "      <td>male</td>\n",
       "      <td>United Kingdom</td>\n",
       "      <td>NaN</td>\n",
       "      <td>United Kingdom</td>\n",
       "      <td>NaN</td>\n",
       "      <td>Supervisor/Team Lead</td>\n",
       "      <td>Sometimes</td>\n",
       "    </tr>\n",
       "    <tr>\n",
       "      <td>4</td>\n",
       "      <td>0</td>\n",
       "      <td>6-25</td>\n",
       "      <td>0.0</td>\n",
       "      <td>1.0</td>\n",
       "      <td>Yes</td>\n",
       "      <td>Yes</td>\n",
       "      <td>No</td>\n",
       "      <td>No</td>\n",
       "      <td>No</td>\n",
       "      <td>Neither easy nor difficult</td>\n",
       "      <td>...</td>\n",
       "      <td>Sometimes</td>\n",
       "      <td>Sometimes</td>\n",
       "      <td>43</td>\n",
       "      <td>Female</td>\n",
       "      <td>United States of America</td>\n",
       "      <td>Illinois</td>\n",
       "      <td>United States of America</td>\n",
       "      <td>Illinois</td>\n",
       "      <td>Executive Leadership|Supervisor/Team Lead|Dev ...</td>\n",
       "      <td>Sometimes</td>\n",
       "    </tr>\n",
       "    <tr>\n",
       "      <td>7</td>\n",
       "      <td>0</td>\n",
       "      <td>More than 1000</td>\n",
       "      <td>1.0</td>\n",
       "      <td>NaN</td>\n",
       "      <td>Yes</td>\n",
       "      <td>Yes</td>\n",
       "      <td>No</td>\n",
       "      <td>Yes</td>\n",
       "      <td>Yes</td>\n",
       "      <td>Very easy</td>\n",
       "      <td>...</td>\n",
       "      <td>Sometimes</td>\n",
       "      <td>Often</td>\n",
       "      <td>37</td>\n",
       "      <td>female</td>\n",
       "      <td>United States of America</td>\n",
       "      <td>Virginia</td>\n",
       "      <td>United States of America</td>\n",
       "      <td>Virginia</td>\n",
       "      <td>Dev Evangelist/Advocate|Back-end Developer</td>\n",
       "      <td>Always</td>\n",
       "    </tr>\n",
       "  </tbody>\n",
       "</table>\n",
       "<p>5 rows × 63 columns</p>\n",
       "</div>"
      ],
      "text/plain": [
       "   Are you self-employed?  \\\n",
       "0                       0   \n",
       "1                       0   \n",
       "3                       1   \n",
       "4                       0   \n",
       "7                       0   \n",
       "\n",
       "  How many employees does your company or organization have?  \\\n",
       "0                                             26-100           \n",
       "1                                               6-25           \n",
       "3                                                NaN           \n",
       "4                                               6-25           \n",
       "7                                     More than 1000           \n",
       "\n",
       "   Is your employer primarily a tech company/organization?  \\\n",
       "0                                                1.0         \n",
       "1                                                1.0         \n",
       "3                                                NaN         \n",
       "4                                                0.0         \n",
       "7                                                1.0         \n",
       "\n",
       "   Is your primary role within your company related to tech/IT?  \\\n",
       "0                                                NaN              \n",
       "1                                                NaN              \n",
       "3                                                NaN              \n",
       "4                                                1.0              \n",
       "7                                                NaN              \n",
       "\n",
       "  Does your employer provide mental health benefits as part of healthcare coverage?  \\\n",
       "0                    Not eligible for coverage / N/A                                  \n",
       "1                                                 No                                  \n",
       "3                                                NaN                                  \n",
       "4                                                Yes                                  \n",
       "7                                                Yes                                  \n",
       "\n",
       "  Do you know the options for mental health care available under your employer-provided coverage?  \\\n",
       "0                                                NaN                                                \n",
       "1                                                Yes                                                \n",
       "3                                                NaN                                                \n",
       "4                                                Yes                                                \n",
       "7                                                Yes                                                \n",
       "\n",
       "  Has your employer ever formally discussed mental health (for example, as part of a wellness campaign or other official communication)?  \\\n",
       "0                                                 No                                                                                       \n",
       "1                                                Yes                                                                                       \n",
       "3                                                NaN                                                                                       \n",
       "4                                                 No                                                                                       \n",
       "7                                                 No                                                                                       \n",
       "\n",
       "  Does your employer offer resources to learn more about mental health concerns and options for seeking help?  \\\n",
       "0                                                 No                                                            \n",
       "1                                                Yes                                                            \n",
       "3                                                NaN                                                            \n",
       "4                                                 No                                                            \n",
       "7                                                Yes                                                            \n",
       "\n",
       "  Is your anonymity protected if you choose to take advantage of mental health or substance abuse treatment resources provided by your employer?  \\\n",
       "0                                       I don't know                                                                                               \n",
       "1                                                Yes                                                                                               \n",
       "3                                                NaN                                                                                               \n",
       "4                                                 No                                                                                               \n",
       "7                                                Yes                                                                                               \n",
       "\n",
       "  If a mental health issue prompted you to request a medical leave from work, asking for that leave would be:  \\\n",
       "0                                          Very easy                                                            \n",
       "1                                      Somewhat easy                                                            \n",
       "3                                                NaN                                                            \n",
       "4                         Neither easy nor difficult                                                            \n",
       "7                                          Very easy                                                            \n",
       "\n",
       "   ...  \\\n",
       "0  ...   \n",
       "1  ...   \n",
       "3  ...   \n",
       "4  ...   \n",
       "7  ...   \n",
       "\n",
       "  If you have a mental health issue, do you feel that it interferes with your work when being treated effectively?  \\\n",
       "0                               Not applicable to me                                                                 \n",
       "1                                             Rarely                                                                 \n",
       "3                                          Sometimes                                                                 \n",
       "4                                          Sometimes                                                                 \n",
       "7                                          Sometimes                                                                 \n",
       "\n",
       "  If you have a mental health issue, do you feel that it interferes with your work when NOT being treated effectively?  \\\n",
       "0                               Not applicable to me                                                                     \n",
       "1                                          Sometimes                                                                     \n",
       "3                                          Sometimes                                                                     \n",
       "4                                          Sometimes                                                                     \n",
       "7                                              Often                                                                     \n",
       "\n",
       "  What is your age? What is your gender? What country do you live in?  \\\n",
       "0                39                 Male               United Kingdom   \n",
       "1                29                 male     United States of America   \n",
       "3                43                 male               United Kingdom   \n",
       "4                43               Female     United States of America   \n",
       "7                37               female     United States of America   \n",
       "\n",
       "  What US state or territory do you live in?  What country do you work in?  \\\n",
       "0                                        NaN                United Kingdom   \n",
       "1                                   Illinois      United States of America   \n",
       "3                                        NaN                United Kingdom   \n",
       "4                                   Illinois      United States of America   \n",
       "7                                   Virginia      United States of America   \n",
       "\n",
       "  What US state or territory do you work in?  \\\n",
       "0                                        NaN   \n",
       "1                                   Illinois   \n",
       "3                                        NaN   \n",
       "4                                   Illinois   \n",
       "7                                   Virginia   \n",
       "\n",
       "  Which of the following best describes your work position?  \\\n",
       "0                                 Back-end Developer          \n",
       "1             Back-end Developer|Front-end Developer          \n",
       "3                               Supervisor/Team Lead          \n",
       "4  Executive Leadership|Supervisor/Team Lead|Dev ...          \n",
       "7         Dev Evangelist/Advocate|Back-end Developer          \n",
       "\n",
       "  Do you work remotely?  \n",
       "0             Sometimes  \n",
       "1                 Never  \n",
       "3             Sometimes  \n",
       "4             Sometimes  \n",
       "7                Always  \n",
       "\n",
       "[5 rows x 63 columns]"
      ]
     },
     "execution_count": 19,
     "metadata": {},
     "output_type": "execute_result"
    }
   ],
   "source": [
    "diagnosed_df = df[df[\"Have you been diagnosed with a mental health condition by a medical professional?\"] == \"Yes\"]\n",
    "\n",
    "diagnosed_df.head()"
   ]
  },
  {
   "cell_type": "code",
   "execution_count": 20,
   "metadata": {},
   "outputs": [
    {
     "data": {
      "text/plain": [
       "<matplotlib.axes._subplots.AxesSubplot at 0x1403e0438>"
      ]
     },
     "execution_count": 20,
     "metadata": {},
     "output_type": "execute_result"
    },
    {
     "data": {
      "image/png": "[encoded data removed]",
      "text/plain": [
       "<Figure size 576x396 with 1 Axes>"
      ]
     },
     "metadata": {},
     "output_type": "display_data"
    }
   ],
   "source": [
    "sns.countplot(y=diagnosed_df[\"Do you feel that being identified as a person with a mental health issue would hurt your career?\"])"
   ]
  },
  {
   "cell_type": "code",
   "execution_count": 21,
   "metadata": {},
   "outputs": [
    {
     "data": {
      "text/plain": [
       "<matplotlib.axes._subplots.AxesSubplot at 0x1404961d0>"
      ]
     },
     "execution_count": 21,
     "metadata": {},
     "output_type": "execute_result"
    },
    {
     "data": {
      "image/png": "[encoded data removed]",
      "text/plain": [
       "<Figure size 576x396 with 1 Axes>"
      ]
     },
     "metadata": {},
     "output_type": "display_data"
    }
   ],
   "source": [
    "sns.countplot(y=df[\"Do you feel that being identified as a person with a mental health issue would hurt your career?\"])"
   ]
  },
  {
   "cell_type": "code",
   "execution_count": 22,
   "metadata": {},
   "outputs": [
    {
     "data": {
      "text/plain": [
       "<matplotlib.axes._subplots.AxesSubplot at 0x14060df28>"
      ]
     },
     "execution_count": 22,
     "metadata": {},
     "output_type": "execute_result"
    },
    {
     "data": {
      "image/png": "[encoded data removed]",
      "text/plain": [
       "<Figure size 576x396 with 1 Axes>"
      ]
     },
     "metadata": {},
     "output_type": "display_data"
    }
   ],
   "source": [
    "no_illness_df = diagnosed_df = df[df[\"Have you been diagnosed with a mental health condition by a medical professional?\"] == \"No\"]\n",
    "\n",
    "sns.countplot(y=no_illness_df[\"Do you feel that being identified as a person with a mental health issue would hurt your career?\"])"
   ]
  },
  {
   "cell_type": "markdown",
   "metadata": {},
   "source": [
    "## Answer: Less certitude among the neurotypical"
   ]
  },
  {
   "cell_type": "markdown",
   "metadata": {},
   "source": [
    "# Feature engineering, starting with renaming columns"
   ]
  },
  {
   "cell_type": "code",
   "execution_count": 23,
   "metadata": {},
   "outputs": [
    {
     "name": "stdout",
     "output_type": "stream",
     "text": [
      "['Are you self-employed?', 'How many employees does your company or organization have?', 'Is your employer primarily a tech company/organization?', 'Is your primary role within your company related to tech/IT?', 'Does your employer provide mental health benefits as part of healthcare coverage?', 'Do you know the options for mental health care available under your employer-provided coverage?', 'Has your employer ever formally discussed mental health (for example, as part of a wellness campaign or other official communication)?', 'Does your employer offer resources to learn more about mental health concerns and options for seeking help?', 'Is your anonymity protected if you choose to take advantage of mental health or substance abuse treatment resources provided by your employer?', 'If a mental health issue prompted you to request a medical leave from work, asking for that leave would be:', 'Do you think that discussing a mental health disorder with your employer would have negative consequences?', 'Do you think that discussing a physical health issue with your employer would have negative consequences?', 'Would you feel comfortable discussing a mental health disorder with your coworkers?', 'Would you feel comfortable discussing a mental health disorder with your direct supervisor(s)?', 'Do you feel that your employer takes mental health as seriously as physical health?', 'Have you heard of or observed negative consequences for co-workers who have been open about mental health issues in your workplace?', 'Do you have medical coverage (private insurance or state-provided) which includes treatment of \\xa0mental health issues?', 'Do you know local or online resources to seek help for a mental health disorder?', 'If you have been diagnosed or treated for a mental health disorder, do you ever reveal this to clients or business contacts?', 'If you have revealed a mental health issue to a client or business contact, do you believe this has impacted you negatively?', 'If you have been diagnosed or treated for a mental health disorder, do you ever reveal this to coworkers or employees?', 'If you have revealed a mental health issue to a coworker or employee, do you believe this has impacted you negatively?', 'Do you believe your productivity is ever affected by a mental health issue?', 'If yes, what percentage of your work time (time performing primary or secondary job functions) is affected by a mental health issue?', 'Do you have previous employers?', 'Have your previous employers provided mental health benefits?', 'Were you aware of the options for mental health care provided by your previous employers?', 'Did your previous employers ever formally discuss mental health (as part of a wellness campaign or other official communication)?', 'Did your previous employers provide resources to learn more about mental health issues and how to seek help?', 'Was your anonymity protected if you chose to take advantage of mental health or substance abuse treatment resources with previous employers?', 'Do you think that discussing a mental health disorder with previous employers would have negative consequences?', 'Do you think that discussing a physical health issue with previous employers would have negative consequences?', 'Would you have been willing to discuss a mental health issue with your previous co-workers?', 'Would you have been willing to discuss a mental health issue with your direct supervisor(s)?', 'Did you feel that your previous employers took mental health as seriously as physical health?', 'Did you hear of or observe negative consequences for co-workers with mental health issues in your previous workplaces?', 'Would you be willing to bring up a physical health issue with a potential employer in an interview?', 'Why or why not?', 'Would you bring up a mental health issue with a potential employer in an interview?', 'Why or why not?.1', 'Do you feel that being identified as a person with a mental health issue would hurt your career?', 'Do you think that team members/co-workers would view you more negatively if they knew you suffered from a mental health issue?', 'How willing would you be to share with friends and family that you have a mental illness?', 'Have you observed or experienced an unsupportive or badly handled response to a mental health issue in your current or previous workplace?', 'Have your observations of how another individual who discussed a mental health disorder made you less likely to reveal a mental health issue yourself in your current workplace?', 'Do you have a family history of mental illness?', 'Have you had a mental health disorder in the past?', 'Do you currently have a mental health disorder?', 'If yes, what condition(s) have you been diagnosed with?', 'If maybe, what condition(s) do you believe you have?', 'Have you been diagnosed with a mental health condition by a medical professional?', 'If so, what condition(s) were you diagnosed with?', 'Have you ever sought treatment for a mental health issue from a mental health professional?', 'If you have a mental health issue, do you feel that it interferes with your work when being treated effectively?', 'If you have a mental health issue, do you feel that it interferes with your work when NOT being treated effectively?', 'What is your age?', 'What is your gender?', 'What country do you live in?', 'What US state or territory do you live in?', 'What country do you work in?', 'What US state or territory do you work in?', 'Which of the following best describes your work position?', 'Do you work remotely?']\n"
     ]
    }
   ],
   "source": [
    "print(list(df.columns))"
   ]
  },
  {
   "cell_type": "code",
   "execution_count": 24,
   "metadata": {},
   "outputs": [
    {
     "data": {
      "text/plain": [
       "Index(['self_employed', 'num_employees', 'employer_tech', 'role_tech',\n",
       "       'cep_benefits', 'cep_know_options', 'cep_discuss', 'cep_learn',\n",
       "       'cep_anon', 'cep_mh_leave', 'cep_mh_ncsq', 'cep_ph_ncsq', 'cep_comf_cw',\n",
       "       'cep_comf_sup', 'cep_serious', 'cep_others_ncsq',\n",
       "       'Do you have medical coverage (private insurance or state-provided) which includes treatment of  mental health issues?',\n",
       "       'know_resources', 'mh_reveal_mh_clients', 'mh_neg_impact_reveal_client',\n",
       "       'mh_reveal_coworkers', 'mh_neg_imp_reveal_coworkers',\n",
       "       'mh_productivity_impacted', 'mh_productivity_impacted_percent',\n",
       "       'pep_have', 'pep_benefits', 'pep_know_options', 'pep_discuss',\n",
       "       'pep_learn', 'pep_anon', 'pep_mh_ncsq', 'pep_ph_ncsq', 'pep_comf_cw',\n",
       "       'pep_comf_sup', 'pep_serious', 'pep_others_ncsq', 'fep_ph_willing',\n",
       "       'Why or why not?', 'fep_mh_willing', 'Why or why not?.1', 'hurt_career',\n",
       "       'cw_view_neg', 'comf_ff', 'neg_response', 'mh_observe_less_likely',\n",
       "       'mh_fam_hist', 'mh_hist', 'mh_cur', 'mh_conditions_yes',\n",
       "       'mh_conditions_maybe', 'mh_diag_pro', 'mh_conditions_2', 'sought_treat',\n",
       "       'work_affect_effect', 'work_affect_ineffect', 'age', 'gender',\n",
       "       'live_country', 'live_state', 'work_country', 'work_state',\n",
       "       'work_position', 'work_remote'],\n",
       "      dtype='object')"
      ]
     },
     "execution_count": 24,
     "metadata": {},
     "output_type": "execute_result"
    }
   ],
   "source": [
    "\n",
    "df_rn_dt = {\n",
    "    \"How many employees does your company or organization have?\":\"num_employees\",\n",
    "    \"Does your employer provide mental health benefits as part of healthcare coverage?\":\"cep_benefits\",\n",
    "    \"Do you know the options for mental health care available under your employer-provided coverage?\":\"cep_know_options\",\n",
    "    \"Has your employer ever formally discussed mental health (for example, as part of a wellness campaign or other official communication)?\":\"cep_discuss\",\n",
    "    \"Does your employer offer resources to learn more about mental health concerns and options for seeking help?\":\"cep_learn\",\n",
    "    \"Is your anonymity protected if you choose to take advantage of mental health or substance abuse treatment resources provided by your employer?\":\"cep_anon\",\n",
    "    \"If a mental health issue prompted you to request a medical leave from work, asking for that leave would be:\":\"cep_mh_leave\",\n",
    "    \"Do you think that discussing a mental health disorder with your employer would have negative consequences?\":\"cep_mh_ncsq\",\n",
    "    \"Do you think that discussing a physical health issue with your employer would have negative consequences?\":\"cep_ph_ncsq\",\n",
    "    \"Would you feel comfortable discussing a mental health disorder with your coworkers?\":\"cep_comf_cw\",\n",
    "    \"Would you feel comfortable discussing a mental health disorder with your direct supervisor(s)?\":\"cep_comf_sup\",\n",
    "    \"Do you feel that your employer takes mental health as seriously as physical health?\":\"cep_serious\",\n",
    "    \"Have you heard of or observed negative consequences for co-workers who have been open about mental health issues in your workplace?\":\"cep_others_ncsq\",\n",
    "    \"Do you have previous employers?\":\"pep_have\",\n",
    "    \"Have your previous employers provided mental health benefits?\":\"pep_benefits\",\n",
    "    \"Were you aware of the options for mental health care provided by your previous employers?\":\"pep_know_options\",\n",
    "    \"Did your previous employers ever formally discuss mental health (as part of a wellness campaign or other official communication)?\":\"pep_discuss\",\n",
    "    \"Did your previous employers provide resources to learn more about mental health issues and how to seek help?\":\"pep_learn\",\n",
    "    \"Was your anonymity protected if you chose to take advantage of mental health or substance abuse treatment resources with previous employers?\":\"pep_anon\",\n",
    "    \"Do you think that discussing a mental health disorder with previous employers would have negative consequences?\":\"pep_mh_ncsq\",\n",
    "    \"Do you think that discussing a physical health issue with previous employers would have negative consequences?\":\"pep_ph_ncsq\",\n",
    "    \"Would you have been willing to discuss a mental health issue with your previous co-workers?\":\"pep_comf_cw\",\n",
    "    \"Would you have been willing to discuss a mental health issue with your direct supervisor(s)?\":\"pep_comf_sup\",\n",
    "    \"Did you feel that your previous employers took mental health as seriously as physical health?\":\"pep_serious\",\n",
    "    \"Did you hear of or observe negative consequences for co-workers with mental health issues in your previous workplaces?\":\"pep_others_ncsq\",\n",
    "    \"Would you be willing to bring up a physical health issue with a potential employer in an interview?\":\"fep_ph_willing\",\n",
    "    \"Would you bring up a mental health issue with a potential employer in an interview?\":\"fep_mh_willing\",\n",
    "    \"Do you feel that being identified as a person with a mental health issue would hurt your career?\":\"hurt_career\",\n",
    "    \"Do you think that team members/co-workers would view you more negatively if they knew you suffered from a mental health issue?\":\"cw_view_neg\",\n",
    "    \"How willing would you be to share with friends and family that you have a mental illness?\":\"comf_ff\",\n",
    "    \"Have you observed or experienced an unsupportive or badly handled response to a mental health issue in your current or previous workplace?\":\"neg_response\",\n",
    "    \"Do you have a family history of mental illness?\":\"mh_fam_hist\",\n",
    "    \"Have you had a mental health disorder in the past?\":\"mh_hist\",\n",
    "    \"Do you currently have a mental health disorder?\":\"mh_cur\",\n",
    "    \"Have you been diagnosed with a mental health condition by a medical professional?\":\"mh_diag_pro\",\n",
    "    \"Have you ever sought treatment for a mental health issue from a mental health professional?\":\"sought_treat\",\n",
    "    \"If you have a mental health issue, do you feel that it interferes with your work when being treated effectively?\":\"work_affect_effect\",\n",
    "    \"If you have a mental health issue, do you feel that it interferes with your work when NOT being treated effectively?\":\"work_affect_ineffect\",\n",
    "    \"What is your age?\":\"age\",\n",
    "    \"What is your gender?\":\"gender\",\n",
    "    \"What country do you work in?\":\"work_country\",\n",
    "    \"Do you work remotely?\":\"work_remote\",'Are you self-employed?': \"self_employed\",\n",
    "                  'Is your employer primarily a tech company/organization?':\"employer_tech\",\n",
    "                  'Is your primary role within your company related to tech/IT?': \"role_tech\",\n",
    "       'Do you have medical coverage (private insurance or state-provided) which includes treatment of  mental health issues?': \"medical_coverage\",\n",
    "       'Do you know local or online resources to seek help for a mental health disorder?': \"know_resources\",\n",
    "       'If you have been diagnosed or treated for a mental health disorder, do you ever reveal this to clients or business contacts?': \"mh_reveal_mh_clients\",\n",
    "       'If you have revealed a mental health issue to a client or business contact, do you believe this has impacted you negatively?': \"mh_neg_impact_reveal_client\",\n",
    "       'If you have been diagnosed or treated for a mental health disorder, do you ever reveal this to coworkers or employees?': \"mh_reveal_coworkers\",\n",
    "       'If you have revealed a mental health issue to a coworker or employee, do you believe this has impacted you negatively?':\"mh_neg_imp_reveal_coworkers\",\n",
    "       'Do you believe your productivity is ever affected by a mental health issue?': \"mh_productivity_impacted\",\n",
    "       'If yes, what percentage of your work time (time performing primary or secondary job functions) is affected by a mental health issue?':\"mh_productivity_impacted_percent\",\n",
    "       'Have your observations of how another individual who discussed a mental health disorder made you less likely to reveal a mental health issue yourself in your current workplace?': \"mh_observe_less_likely\",\n",
    "       'If yes, what condition(s) have you been diagnosed with?': \"mh_conditions_yes\",\n",
    "       'If maybe, what condition(s) do you believe you have?': \"mh_conditions_maybe\", \n",
    "       'If so, what condition(s) were you diagnosed with?': \"mh_conditions_2\",\n",
    "       'What country do you live in?': \"live_country\",\n",
    "       'What US state or territory do you live in?':\"live_state\",\n",
    "       'What US state or territory do you work in?': \"work_state\",\n",
    "       'Which of the following best describes your work position?': \"work_position\"\n",
    "}\n",
    "\n",
    "df=df.rename(columns=df_rn_dt)\n",
    "\n",
    "df.columns"
   ]
  },
  {
   "cell_type": "code",
   "execution_count": 25,
   "metadata": {},
   "outputs": [],
   "source": [
    "df = df.drop((df.filter(like='Do you have medical coverage')), axis=1)"
   ]
  },
  {
   "cell_type": "markdown",
   "metadata": {},
   "source": [
    "## TO DO: More plots here with simpler variable names"
   ]
  },
  {
   "cell_type": "markdown",
   "metadata": {},
   "source": [
    "## Comparing employer perception of mental vs. physical health:"
   ]
  },
  {
   "cell_type": "code",
   "execution_count": 26,
   "metadata": {},
   "outputs": [
    {
     "name": "stderr",
     "output_type": "stream",
     "text": [
      "/Users/michael/anaconda3/envs/learn-env/lib/python3.6/site-packages/ipykernel_launcher.py:12: UserWarning: Matplotlib is currently using module://ipykernel.pylab.backend_inline, which is a non-GUI backend, so cannot show the figure.\n",
      "  if sys.path[0] == '':\n"
     ]
    },
    {
     "data": {
      "image/png": "[encoded data removed]",
      "text/plain": [
       "<Figure size 576x396 with 3 Axes>"
      ]
     },
     "metadata": {},
     "output_type": "display_data"
    }
   ],
   "source": [
    "fig, ax =plt.subplots(3,1)\n",
    "sns.countplot(df[\"cep_mh_ncsq\"], ax=ax[0])\n",
    "sns.countplot(df[\"cep_ph_ncsq\"], ax=ax[1])\n",
    "sns.countplot(df[\"cep_serious\"],ax=ax[2])\n",
    "ax[0].set_title(\"Would discussing a mental health issue with employer cause negative consequences?\")\n",
    "ax[0].set_xlabel(\"Answer\")\n",
    "ax[1].set_xlabel(\"Answer\")\n",
    "ax[2].set_xlabel(\"Answer\")\n",
    "ax[1].set_title(\"Would discussing a physical health issue with employer cause negative consequences?\")\n",
    "ax[2].set_title(\"Do you feel your employer takes mental health as seriously as physical health?\")\n",
    "plt.tight_layout()\n",
    "fig.show()"
   ]
  },
  {
   "cell_type": "markdown",
   "metadata": {},
   "source": [
    "## With several columns, the self employed variable being 1 has a link to NaN, so dropping it and then the column"
   ]
  },
  {
   "cell_type": "code",
   "execution_count": 27,
   "metadata": {
    "scrolled": true
   },
   "outputs": [
    {
     "data": {
      "text/plain": [
       "0    1146\n",
       "1     287\n",
       "Name: self_employed, dtype: int64"
      ]
     },
     "execution_count": 27,
     "metadata": {},
     "output_type": "execute_result"
    }
   ],
   "source": [
    "df.self_employed.value_counts(dropna=False)"
   ]
  },
  {
   "cell_type": "code",
   "execution_count": 28,
   "metadata": {
    "scrolled": true
   },
   "outputs": [
    {
     "data": {
      "text/plain": [
       "1.0    883\n",
       "NaN    287\n",
       "0.0    263\n",
       "Name: employer_tech, dtype: int64"
      ]
     },
     "execution_count": 28,
     "metadata": {},
     "output_type": "execute_result"
    }
   ],
   "source": [
    "df.employer_tech.value_counts(dropna=False)"
   ]
  },
  {
   "cell_type": "code",
   "execution_count": 29,
   "metadata": {},
   "outputs": [],
   "source": [
    "df = df[df.self_employed != 1]"
   ]
  },
  {
   "cell_type": "code",
   "execution_count": 30,
   "metadata": {},
   "outputs": [],
   "source": [
    "df.drop('self_employed',axis=1,inplace=True)"
   ]
  },
  {
   "cell_type": "code",
   "execution_count": 31,
   "metadata": {},
   "outputs": [
    {
     "data": {
      "text/plain": [
       "<matplotlib.axes._subplots.AxesSubplot at 0x1403e0048>"
      ]
     },
     "execution_count": 31,
     "metadata": {},
     "output_type": "execute_result"
    },
    {
     "data": {
      "image/png": "[encoded data removed]",
      "text/plain": [
       "<Figure size 576x396 with 1 Axes>"
      ]
     },
     "metadata": {},
     "output_type": "display_data"
    }
   ],
   "source": [
    "sns.heatmap(df.isnull(), cbar=False)"
   ]
  },
  {
   "cell_type": "markdown",
   "metadata": {},
   "source": [
    "## Limiting dataset to only employees of tech companies"
   ]
  },
  {
   "cell_type": "code",
   "execution_count": 32,
   "metadata": {},
   "outputs": [
    {
     "name": "stdout",
     "output_type": "stream",
     "text": [
      "<class 'pandas.core.frame.DataFrame'>\n",
      "Int64Index: 883 entries, 0 to 1432\n",
      "Data columns (total 61 columns):\n",
      "num_employees                       883 non-null object\n",
      "employer_tech                       883 non-null float64\n",
      "role_tech                           0 non-null float64\n",
      "cep_benefits                        883 non-null object\n",
      "cep_know_options                    776 non-null object\n",
      "cep_discuss                         883 non-null object\n",
      "cep_learn                           883 non-null object\n",
      "cep_anon                            883 non-null object\n",
      "cep_mh_leave                        883 non-null object\n",
      "cep_mh_ncsq                         883 non-null object\n",
      "cep_ph_ncsq                         883 non-null object\n",
      "cep_comf_cw                         883 non-null object\n",
      "cep_comf_sup                        883 non-null object\n",
      "cep_serious                         883 non-null object\n",
      "cep_others_ncsq                     883 non-null object\n",
      "know_resources                      0 non-null object\n",
      "mh_reveal_mh_clients                0 non-null object\n",
      "mh_neg_impact_reveal_client         0 non-null object\n",
      "mh_reveal_coworkers                 0 non-null object\n",
      "mh_neg_imp_reveal_coworkers         0 non-null object\n",
      "mh_productivity_impacted            0 non-null object\n",
      "mh_productivity_impacted_percent    0 non-null object\n",
      "pep_have                            883 non-null int64\n",
      "pep_benefits                        788 non-null object\n",
      "pep_know_options                    788 non-null object\n",
      "pep_discuss                         788 non-null object\n",
      "pep_learn                           788 non-null object\n",
      "pep_anon                            788 non-null object\n",
      "pep_mh_ncsq                         788 non-null object\n",
      "pep_ph_ncsq                         788 non-null object\n",
      "pep_comf_cw                         788 non-null object\n",
      "pep_comf_sup                        788 non-null object\n",
      "pep_serious                         788 non-null object\n",
      "pep_others_ncsq                     788 non-null object\n",
      "fep_ph_willing                      883 non-null object\n",
      "Why or why not?                     668 non-null object\n",
      "fep_mh_willing                      883 non-null object\n",
      "Why or why not?.1                   686 non-null object\n",
      "hurt_career                         883 non-null object\n",
      "cw_view_neg                         883 non-null object\n",
      "comf_ff                             883 non-null object\n",
      "neg_response                        848 non-null object\n",
      "mh_observe_less_likely              384 non-null object\n",
      "mh_fam_hist                         883 non-null object\n",
      "mh_hist                             883 non-null object\n",
      "mh_cur                              883 non-null object\n",
      "mh_conditions_yes                   344 non-null object\n",
      "mh_conditions_maybe                 193 non-null object\n",
      "mh_diag_pro                         883 non-null object\n",
      "mh_conditions_2                     432 non-null object\n",
      "sought_treat                        883 non-null int64\n",
      "work_affect_effect                  883 non-null object\n",
      "work_affect_ineffect                883 non-null object\n",
      "age                                 883 non-null int64\n",
      "gender                              882 non-null object\n",
      "live_country                        883 non-null object\n",
      "live_state                          540 non-null object\n",
      "work_country                        883 non-null object\n",
      "work_state                          547 non-null object\n",
      "work_position                       883 non-null object\n",
      "work_remote                         883 non-null object\n",
      "dtypes: float64(2), int64(3), object(56)\n",
      "memory usage: 427.7+ KB\n"
     ]
    }
   ],
   "source": [
    "df = df[df['employer_tech']!=0.0]\n",
    "\n",
    "df.info()"
   ]
  },
  {
   "cell_type": "markdown",
   "metadata": {},
   "source": [
    "## Dropping rows with > 50% NaN and imputing where reasonable"
   ]
  },
  {
   "cell_type": "code",
   "execution_count": 35,
   "metadata": {},
   "outputs": [
    {
     "data": {
      "text/plain": [
       "num_employees                         0.0\n",
       "fep_ph_willing                        0.0\n",
       "fep_mh_willing                        0.0\n",
       "hurt_career                           0.0\n",
       "cw_view_neg                           0.0\n",
       "                                    ...  \n",
       "mh_neg_impact_reveal_client         100.0\n",
       "mh_reveal_mh_clients                100.0\n",
       "mh_reveal_coworkers                 100.0\n",
       "mh_productivity_impacted_percent    100.0\n",
       "mh_neg_imp_reveal_coworkers         100.0\n",
       "Length: 61, dtype: float64"
      ]
     },
     "execution_count": 35,
     "metadata": {},
     "output_type": "execute_result"
    }
   ],
   "source": [
    "def fifty_null(df):\n",
    "    perct_missing_values = df.isnull().sum()*100 / len(df)\n",
    "    return perct_missing_values.sort_values()\n",
    "\n",
    "fifty_null(df)"
   ]
  },
  {
   "cell_type": "code",
   "execution_count": 36,
   "metadata": {
    "scrolled": true
   },
   "outputs": [
    {
     "data": {
      "text/plain": [
       "num_employees            0.000000\n",
       "fep_mh_willing           0.000000\n",
       "hurt_career              0.000000\n",
       "cw_view_neg              0.000000\n",
       "comf_ff                  0.000000\n",
       "mh_fam_hist              0.000000\n",
       "mh_hist                  0.000000\n",
       "fep_ph_willing           0.000000\n",
       "mh_cur                   0.000000\n",
       "sought_treat             0.000000\n",
       "work_affect_effect       0.000000\n",
       "work_affect_ineffect     0.000000\n",
       "age                      0.000000\n",
       "live_country             0.000000\n",
       "work_country             0.000000\n",
       "mh_diag_pro              0.000000\n",
       "work_position            0.000000\n",
       "work_remote              0.000000\n",
       "employer_tech            0.000000\n",
       "cep_benefits             0.000000\n",
       "cep_discuss              0.000000\n",
       "cep_learn                0.000000\n",
       "cep_anon                 0.000000\n",
       "cep_mh_leave             0.000000\n",
       "cep_mh_ncsq              0.000000\n",
       "cep_ph_ncsq              0.000000\n",
       "pep_have                 0.000000\n",
       "cep_comf_cw              0.000000\n",
       "cep_others_ncsq          0.000000\n",
       "cep_serious              0.000000\n",
       "cep_comf_sup             0.000000\n",
       "gender                   0.113250\n",
       "neg_response             3.963760\n",
       "pep_learn               10.758777\n",
       "pep_benefits            10.758777\n",
       "pep_others_ncsq         10.758777\n",
       "pep_know_options        10.758777\n",
       "pep_comf_sup            10.758777\n",
       "pep_comf_cw             10.758777\n",
       "pep_ph_ncsq             10.758777\n",
       "pep_mh_ncsq             10.758777\n",
       "pep_anon                10.758777\n",
       "pep_discuss             10.758777\n",
       "pep_serious             10.758777\n",
       "cep_know_options        12.117780\n",
       "Why or why not?.1       22.310306\n",
       "Why or why not?         24.348811\n",
       "work_state              38.052095\n",
       "live_state              38.844847\n",
       "dtype: float64"
      ]
     },
     "execution_count": 36,
     "metadata": {},
     "output_type": "execute_result"
    }
   ],
   "source": [
    "df = df.loc[:, df.isnull().mean() <= .5]\n",
    "\n",
    "fifty_null(df)"
   ]
  },
  {
   "cell_type": "code",
   "execution_count": null,
   "metadata": {},
   "outputs": [],
   "source": []
  },
  {
   "cell_type": "markdown",
   "metadata": {},
   "source": [
    "## Dropping columns- PROBABLY too many and this is why poor performance:\n",
    "- questions for the self employed as there is no data remaining, as well as \n",
    "- redundant employer_tech and role in tech columns, \n",
    "- the open ended why or why not columns and, \n",
    "- limited data on US states and observing mental health reactions\n",
    "- work country as it is predominately USA\n",
    "- work position due to too many discrete values giving little information \n",
    "- having previous employers is shared by respondents"
   ]
  },
  {
   "cell_type": "code",
   "execution_count": null,
   "metadata": {},
   "outputs": [],
   "source": [
    "df = df.drop(['role_tech','mh_reveal_mh_clients',\n",
    "'mh_neg_impact_reveal_client',  \n",
    "'mh_reveal_coworkers',\n",
    "'mh_neg_imp_reveal_coworkers', \n",
    "'mh_productivity_impacted',\n",
    "'mh_productivity_impacted_percent','know_resources', 'employer_tech','mh_observe_less_likely',\n",
    "'mh_conditions_maybe','live_state', 'work_state', 'live_country', 'work_country', 'work_position', 'pep_have',\n",
    "'Why or why not?','Why or why not?.1'],axis=1)"
   ]
  },
  {
   "cell_type": "markdown",
   "metadata": {},
   "source": [
    "## TO DO: List index out of range on First profile report?"
   ]
  },
  {
   "cell_type": "code",
   "execution_count": null,
   "metadata": {},
   "outputs": [],
   "source": [
    "# profile = ProfileReport(df, title='Pandas Profiling Report', html={'style':{'full_width':True}})\n",
    "# profile.to_widgets()"
   ]
  },
  {
   "cell_type": "markdown",
   "metadata": {},
   "source": [
    "## Filling na with most common"
   ]
  },
  {
   "cell_type": "code",
   "execution_count": null,
   "metadata": {},
   "outputs": [],
   "source": [
    "df.cep_know_options.value_counts(dropna=False)"
   ]
  },
  {
   "cell_type": "code",
   "execution_count": null,
   "metadata": {},
   "outputs": [],
   "source": [
    "df.cep_know_options = df.cep_know_options.fillna(\"No\")\n",
    "\n",
    "df.cep_know_options.value_counts(dropna=False)"
   ]
  },
  {
   "cell_type": "markdown",
   "metadata": {},
   "source": [
    "## Examining gender, lots of values"
   ]
  },
  {
   "cell_type": "code",
   "execution_count": null,
   "metadata": {
    "scrolled": true
   },
   "outputs": [],
   "source": [
    "df.gender.value_counts(dropna=False)"
   ]
  },
  {
   "cell_type": "code",
   "execution_count": null,
   "metadata": {},
   "outputs": [],
   "source": [
    "df = df.dropna(subset=['gender'])"
   ]
  },
  {
   "cell_type": "markdown",
   "metadata": {},
   "source": [
    "## Engineering gender to more specific categories \n",
    "- code from https://www.kaggle.com/kwtzaugust/datavis-randomforestclassifier-90-accuracy"
   ]
  },
  {
   "cell_type": "code",
   "execution_count": null,
   "metadata": {},
   "outputs": [],
   "source": [
    "male_ls = ['Male','male', 'Male ', 'M', 'm', 'man', 'Cis male',\n",
    "           'Male.', 'Male (cis)', 'Man', 'Sex is male',\n",
    "           'cis male', 'Malr', 'Dude', \"I'm a man why didn't you make this a drop down question. You should of asked sex? And I would of answered yes please. Seriously how much text can this take? \",\n",
    "           'mail', 'M|', 'male ', 'Cis Male', 'Male (trans, FtM)',\n",
    "           'cisdude', 'cis man', 'MALE']\n",
    "# FYI: cisgender: describes a person who identifies as the same gender assigned at birth\n",
    "female_ls = ['Female','female', 'I identify as female.', 'female ',\n",
    "             'Female assigned at birth ', 'F', 'Woman', 'fm', 'f',\n",
    "             'Cis female', 'Transitioned, M2F', 'Female or Multi-Gender Femme',\n",
    "             'Female ', 'woman', 'female/woman', 'Cisgender Female', \n",
    "             'mtf', 'fem', 'Female (props for making this a freeform field, though)',\n",
    "             ' Female', 'Cis-woman', 'AFAB', 'Transgender woman',\n",
    "             'Cis female ']\n",
    "# FYI: AFAB: assigned female at birth\n",
    "other_ls = ['Bigender', 'non-binary,', 'Genderfluid (born female)',\n",
    "            'Other/Transfeminine', 'Androgynous', 'male 9:1 female, roughly',\n",
    "            'nb masculine', 'genderqueer', 'Human', 'Genderfluid',\n",
    "            'Enby', 'genderqueer woman', 'Queer', 'Agender', 'Fluid',\n",
    "            'Genderflux demi-girl', 'female-bodied; no feelings about gender',\n",
    "            'non-binary', 'Male/genderqueer', 'Nonbinary', 'Other', 'none of your business',\n",
    "            'Unicorn', 'human', 'Genderqueer']\n",
    "\n",
    "# replace gender values with numberic labels\n",
    "df[\"gender\"] = df[\"gender\"].replace(male_ls,1)\n",
    "df[\"gender\"] = df[\"gender\"].replace(female_ls,2)\n",
    "df[\"gender\"] = df[\"gender\"].replace(other_ls,3)\n",
    "df[\"gender\"] = df[\"gender\"].fillna(3)\n",
    "df[\"gender\"].unique()"
   ]
  },
  {
   "cell_type": "markdown",
   "metadata": {},
   "source": [
    "## To do: charts around gender"
   ]
  },
  {
   "cell_type": "markdown",
   "metadata": {},
   "source": [
    "# Processing columns around mental health conditions of respondents"
   ]
  },
  {
   "cell_type": "markdown",
   "metadata": {},
   "source": [
    "## To do: charts"
   ]
  },
  {
   "cell_type": "code",
   "execution_count": null,
   "metadata": {
    "scrolled": false
   },
   "outputs": [],
   "source": [
    "df.mh_conditions_yes.value_counts(dropna=False)"
   ]
  },
  {
   "cell_type": "code",
   "execution_count": null,
   "metadata": {},
   "outputs": [],
   "source": [
    "df['mh_conditions_yes'] = df.mh_conditions_yes.fillna(\"\")"
   ]
  },
  {
   "cell_type": "code",
   "execution_count": null,
   "metadata": {
    "scrolled": true
   },
   "outputs": [],
   "source": [
    "mh_yes_dict= dict(df['mh_conditions_yes'].value_counts())\n",
    "mh_yes_dict"
   ]
  },
  {
   "cell_type": "markdown",
   "metadata": {},
   "source": [
    "## The splits are by | so splitting on |, turning into a list, refining and turning into a series, also splits inside spilt on ( but that's not implemented yet"
   ]
  },
  {
   "cell_type": "code",
   "execution_count": null,
   "metadata": {},
   "outputs": [],
   "source": [
    "split_keys = [key.split('|') for key in mh_yes_dict.keys()]\n",
    "\n",
    "split_keys"
   ]
  },
  {
   "cell_type": "code",
   "execution_count": null,
   "metadata": {},
   "outputs": [],
   "source": [
    "\n",
    "flat_list = []\n",
    "\n",
    "def fl_keys(keys):\n",
    "    flat_list =[]\n",
    "    for sublist in keys:\n",
    "        for item in sublist:\n",
    "            flat_list.append(item)\n",
    "    return flat_list\n",
    "        \n",
    "flat_list = fl_keys(split_keys)\n",
    "\n",
    "flat_list"
   ]
  },
  {
   "cell_type": "code",
   "execution_count": null,
   "metadata": {
    "scrolled": true
   },
   "outputs": [],
   "source": [
    "diag_series = pd.Series(flat_list)\n",
    "\n",
    "diag_series.value_counts()"
   ]
  },
  {
   "cell_type": "code",
   "execution_count": null,
   "metadata": {},
   "outputs": [],
   "source": [
    "diag_list = list(diag_series.value_counts().index)\n",
    "diag_list"
   ]
  },
  {
   "cell_type": "markdown",
   "metadata": {},
   "source": [
    "## Function for creating binary columns off of presence of disorder"
   ]
  },
  {
   "cell_type": "code",
   "execution_count": null,
   "metadata": {},
   "outputs": [],
   "source": [
    "def disorder_cols(disorders, suffix=\"\"):\n",
    "    for disorder in disorders:\n",
    "        disorder_underscore = disorder.replace(\" \", \"_\") + suffix\n",
    "        df[disorder_underscore] = df['mh_conditions_yes'].str.contains(disorder)\n",
    "        df[disorder_underscore] = df[disorder_underscore].map({True:1, False:0})"
   ]
  },
  {
   "cell_type": "code",
   "execution_count": null,
   "metadata": {},
   "outputs": [],
   "source": [
    "disorder_cols(diag_list, \"_yes\")"
   ]
  },
  {
   "cell_type": "code",
   "execution_count": null,
   "metadata": {},
   "outputs": [],
   "source": [
    "df.drop('_yes', axis=1,inplace=True)"
   ]
  },
  {
   "cell_type": "markdown",
   "metadata": {},
   "source": [
    "## Repeating the key steps for mh_conditions_2"
   ]
  },
  {
   "cell_type": "code",
   "execution_count": null,
   "metadata": {},
   "outputs": [],
   "source": [
    "df['mh_conditions_2'] = df.mh_conditions_yes.fillna(\"\")\n",
    "mh_2_dict= dict(df['mh_conditions_2'].value_counts())\n",
    "split_2_keys = [key.split('|') for key in mh_2_dict.keys()]\n",
    "flat_2 = []\n",
    "flat_2 = fl_keys(split_keys)\n",
    "diag_2_series = pd.Series(flat_2)\n",
    "diag_2_list = list(diag_2_series.value_counts().index)\n",
    "disorder_cols(diag_list, \"_2\")"
   ]
  },
  {
   "cell_type": "code",
   "execution_count": null,
   "metadata": {
    "scrolled": true
   },
   "outputs": [],
   "source": [
    "df.columns"
   ]
  },
  {
   "cell_type": "code",
   "execution_count": null,
   "metadata": {
    "scrolled": false
   },
   "outputs": [],
   "source": [
    "df.drop(\"_2\", inplace=True, axis=1)"
   ]
  },
  {
   "cell_type": "markdown",
   "metadata": {},
   "source": [
    "## Dropping the base mental health condition columns"
   ]
  },
  {
   "cell_type": "code",
   "execution_count": null,
   "metadata": {},
   "outputs": [],
   "source": [
    "df=df.drop(['mh_conditions_yes','mh_conditions_2',],axis=1)"
   ]
  },
  {
   "cell_type": "markdown",
   "metadata": {},
   "source": [
    "## End report"
   ]
  },
  {
   "cell_type": "code",
   "execution_count": null,
   "metadata": {},
   "outputs": [],
   "source": [
    "# profile = ProfileReport(df, title='Pandas Profiling Report', html={'style':{'full_width':True}})\n",
    "# profile.to_widgets()"
   ]
  },
  {
   "cell_type": "markdown",
   "metadata": {},
   "source": [
    "# Segmenting out non-disorder derived columns and working towards encoding categories"
   ]
  },
  {
   "cell_type": "markdown",
   "metadata": {},
   "source": [
    "## To do - where does this become only 1 valued? Either way, it's only 1s, dropping"
   ]
  },
  {
   "cell_type": "code",
   "execution_count": null,
   "metadata": {},
   "outputs": [],
   "source": [
    "df.cep_others_ncsq.value_counts()"
   ]
  },
  {
   "cell_type": "markdown",
   "metadata": {},
   "source": [
    "## To do - move this"
   ]
  },
  {
   "cell_type": "markdown",
   "metadata": {},
   "source": [
    "## Current column status"
   ]
  },
  {
   "cell_type": "code",
   "execution_count": null,
   "metadata": {},
   "outputs": [],
   "source": [
    "df.neg_response =df.neg_response.fillna(\"No\")\n",
    "\n",
    "df.neg_response.value_counts(dropna=False)"
   ]
  },
  {
   "cell_type": "code",
   "execution_count": null,
   "metadata": {
    "scrolled": false
   },
   "outputs": [],
   "source": [
    "check_column(df,['num_employees', 'cep_benefits', 'cep_know_options', 'cep_discuss',\n",
    "       'cep_learn', 'cep_anon', 'cep_mh_leave', 'cep_mh_ncsq', 'cep_ph_ncsq',\n",
    "       'cep_comf_cw', 'cep_comf_sup', 'cep_serious',\n",
    "       'pep_benefits', 'pep_know_options', 'pep_discuss', 'pep_learn',\n",
    "       'pep_anon', 'pep_mh_ncsq', 'pep_ph_ncsq', 'pep_comf_cw', 'pep_comf_sup',\n",
    "       'pep_serious', 'pep_others_ncsq', 'fep_ph_willing', 'fep_mh_willing',\n",
    "       'hurt_career', 'cw_view_neg', 'comf_ff', 'neg_response', 'mh_fam_hist',\n",
    "       'mh_hist', 'mh_cur', 'mh_diag_pro', 'sought_treat',\n",
    "       'work_affect_effect', 'work_affect_ineffect', 'age', 'gender',\n",
    "       'work_remote'] )"
   ]
  },
  {
   "cell_type": "markdown",
   "metadata": {},
   "source": [
    "## dropping age for now - will bin into categories later"
   ]
  },
  {
   "cell_type": "code",
   "execution_count": null,
   "metadata": {},
   "outputs": [],
   "source": [
    "df['age'].value_counts()"
   ]
  },
  {
   "cell_type": "code",
   "execution_count": null,
   "metadata": {},
   "outputs": [],
   "source": [
    "from scipy import stats\n",
    "idx = find_outliers_high(df['age'])\n",
    "df = df.loc[idx==False]\n",
    "\n",
    "idx = find_outliers_low(df['age'])\n",
    "df = df.loc[idx==False]\n",
    "    \n",
    "df.age.value_counts()"
   ]
  },
  {
   "cell_type": "code",
   "execution_count": null,
   "metadata": {},
   "outputs": [],
   "source": [
    "idx = find_outliers_low(df['age'])\n",
    "df = df.loc[idx==False]\n",
    "    \n",
    "df.age.value_counts()"
   ]
  },
  {
   "cell_type": "code",
   "execution_count": null,
   "metadata": {
    "scrolled": true
   },
   "outputs": [],
   "source": [
    "df['mh_diag_pro']"
   ]
  },
  {
   "cell_type": "code",
   "execution_count": null,
   "metadata": {
    "scrolled": true
   },
   "outputs": [],
   "source": [
    "df['mh_diag_pro'] =df['mh_diag_pro'].eq('Yes').mul(1)\n",
    "df['mh_diag_pro']"
   ]
  },
  {
   "cell_type": "markdown",
   "metadata": {},
   "source": [
    "## Finally, mapping target variable. Past experience is weighted the same for yes and no as present perceptions."
   ]
  },
  {
   "cell_type": "code",
   "execution_count": null,
   "metadata": {
    "scrolled": true
   },
   "outputs": [],
   "source": [
    "df['hurt_career'].value_counts(dropna=False)"
   ]
  },
  {
   "cell_type": "markdown",
   "metadata": {},
   "source": [
    "## Mapped to 0 = Maybe, 1 = Yes, 2 = No"
   ]
  },
  {
   "cell_type": "code",
   "execution_count": null,
   "metadata": {},
   "outputs": [],
   "source": [
    "df['hurt_career'] = df['hurt_career'].map({\"Maybe\":0,\"Yes, I think it would\": 1, \"No, I don't think it would\": 2,\n",
    "                                          \"Yes, it has\": 1, \"No, it has not\":2})\n",
    "df['hurt_career'].value_counts(dropna=False)"
   ]
  },
  {
   "cell_type": "markdown",
   "metadata": {},
   "source": [
    "# Choosing a categorical encoder via. pipeline"
   ]
  },
  {
   "cell_type": "markdown",
   "metadata": {},
   "source": [
    "## Profile Report before encoding"
   ]
  },
  {
   "cell_type": "code",
   "execution_count": null,
   "metadata": {
    "scrolled": false
   },
   "outputs": [],
   "source": [
    "# profile = ProfileReport(df, title='Pandas Profiling Report', html={'style':{'full_width':True}})\n",
    "# profile.to_widgets()"
   ]
  },
  {
   "cell_type": "code",
   "execution_count": null,
   "metadata": {},
   "outputs": [],
   "source": [
    "len(df.columns)"
   ]
  },
  {
   "cell_type": "markdown",
   "metadata": {},
   "source": [
    "## deleting all 0 only columns"
   ]
  },
  {
   "cell_type": "code",
   "execution_count": null,
   "metadata": {},
   "outputs": [],
   "source": [
    "df = df.loc[:, (df != 0).any(axis=0)]\n",
    "\n",
    "len(df.columns)"
   ]
  },
  {
   "cell_type": "code",
   "execution_count": null,
   "metadata": {},
   "outputs": [],
   "source": [
    "# deleting _2 of disorders\n",
    "df = df.drop([\n",
    "'Addictive_Disorder_2',\n",
    "'Attention_Deficit_Hyperactivity_Disorder_2',\n",
    "'Autism_Spectrum_Disorder_2',\n",
    "'Dissociative_Disorder_2',\n",
    "'Obsessive-Compulsive_Disorder_2',\n",
    "'Post-traumatic_Stress_Disorder_2',\n",
    "'Seasonal_Affective_Disorder_2',\n",
    "'Sexual_addiction_2',\n",
    "'Sleeping_Disorder_2',\n",
    "'Stress_Response_Syndromes_2',\n",
    "'Substance_Use_Disorder_2'], axis=1)\n",
    "# 'Traumatic_Brain_Injury_2']\n",
    "len(df.columns)"
   ]
  },
  {
   "cell_type": "markdown",
   "metadata": {},
   "source": [
    "## Profile report after sweep based on last"
   ]
  },
  {
   "cell_type": "code",
   "execution_count": null,
   "metadata": {},
   "outputs": [],
   "source": [
    "# profile = ProfileReport(df, title='Pandas Profiling Report', html={'style':{'full_width':True}})\n",
    "# profile.to_widgets()"
   ]
  },
  {
   "cell_type": "markdown",
   "metadata": {},
   "source": [
    "## Should deal with rare variables and rare values"
   ]
  },
  {
   "cell_type": "code",
   "execution_count": null,
   "metadata": {},
   "outputs": [],
   "source": [
    "total_resp = len(df)\n",
    "\n",
    "# for each categorical variable\n",
    "for col in df.columns:\n",
    "\n",
    "    # count the number of houses per category\n",
    "    # and divide by total houses\n",
    "\n",
    "    # aka percentage of houses per category\n",
    "\n",
    "    temp_df = pd.Series(df[col].value_counts() / total_resp)\n",
    "\n",
    "    # make plot with the above percentages\n",
    "    fig = temp_df.sort_values(ascending=False).plot.bar()\n",
    "    fig.set_xlabel(col)\n",
    "\n",
    "    # add a line at 5 % to flag the threshold for rare categories\n",
    "    fig.axhline(y=0.05, color='red')\n",
    "    fig.set_ylabel('Percentage of respondents')\n",
    "    plt.show()"
   ]
  },
  {
   "cell_type": "code",
   "execution_count": null,
   "metadata": {},
   "outputs": [],
   "source": [
    "len(df.columns)"
   ]
  },
  {
   "cell_type": "markdown",
   "metadata": {},
   "source": [
    "## Not sure if I should drop these, they don't seem to contribute much information though, maybe return to engineerin the base mh condition variable"
   ]
  },
  {
   "cell_type": "code",
   "execution_count": null,
   "metadata": {},
   "outputs": [],
   "source": [
    "df = df.drop(['Obsessive-Compulsive_Disorder_yes', 'Substance_Use_Disorder_yes',\n",
    "       'Addictive_Disorder_yes', 'Stress_Response_Syndromes_yes',\n",
    "       'Dissociative_Disorder_yes', 'Sleeping_Disorder_yes',\n",
    "       'Seasonal_Affective_Disorder_yes', \n",
    "       'Sexual_addiction_yes', 'Autism_Spectrum_Disorder_yes'],axis=1)\n",
    "# 'Traumatic_Brain_Injury_yes',\n",
    "len(df.columns)"
   ]
  },
  {
   "cell_type": "code",
   "execution_count": null,
   "metadata": {},
   "outputs": [],
   "source": [
    "df= df.replace({'num_employees' : { '1-5' : 1, '6-25' : 6, '26-100' : 26, '100-500':100,'500-1000':500, \n",
    "                               'More than 1000': 1000 }})\n",
    "\n",
    "df.num_employees.value_counts(dropna=False)"
   ]
  },
  {
   "cell_type": "code",
   "execution_count": null,
   "metadata": {},
   "outputs": [],
   "source": [
    "X = df.drop('hurt_career',axis=1)\n",
    "y = df['hurt_career']"
   ]
  },
  {
   "cell_type": "code",
   "execution_count": null,
   "metadata": {},
   "outputs": [],
   "source": [
    "X_train, X_test, y_train, y_test = train_test_split(X, y, test_size=0.33, random_state=42)"
   ]
  },
  {
   "cell_type": "code",
   "execution_count": null,
   "metadata": {},
   "outputs": [],
   "source": [
    "categorical_features = ['num_employees','cep_benefits', 'cep_know_options', 'cep_discuss',\n",
    "       'cep_learn', 'cep_anon', 'cep_mh_leave', 'cep_mh_ncsq', 'cep_ph_ncsq',\n",
    "       'cep_comf_cw', 'cep_comf_sup', 'cep_serious', 'pep_benefits',\n",
    "       'pep_know_options', 'pep_discuss', 'pep_learn', 'pep_anon',\n",
    "       'pep_mh_ncsq', 'pep_ph_ncsq', 'pep_comf_cw', 'pep_comf_sup',\n",
    "       'pep_serious', 'pep_others_ncsq', 'fep_ph_willing', 'fep_mh_willing',\n",
    "        'cw_view_neg', 'comf_ff', 'neg_response', 'mh_fam_hist',\n",
    "       'mh_hist', 'mh_cur', 'work_affect_effect', 'work_affect_ineffect', 'work_remote',]"
   ]
  },
  {
   "cell_type": "markdown",
   "metadata": {},
   "source": [
    "## Picking an encoder through pipeline - this needs work, currently no multiple clf support and can error out, does show that BaseNE, Binary Hashing, James Stine, One Hot, Polynomial and Target work about as well "
   ]
  },
  {
   "cell_type": "code",
   "execution_count": null,
   "metadata": {},
   "outputs": [],
   "source": [
    "# from sklearn.ensemble import RandomTreesEmbedding\n",
    "# def encode_val(clf):\n",
    "    \n",
    "#     for c in clf:\n",
    "        \n",
    "#         encoder_list = [\n",
    "#                         ce.backward_difference.BackwardDifferenceEncoder, \n",
    "#                        ce.basen.BaseNEncoder,\n",
    "#                        ce.binary.BinaryEncoder,\n",
    "#                         ce.cat_boost.CatBoostEncoder,\n",
    "#                         ce.hashing.HashingEncoder,\n",
    "#                         ce.helmert.HelmertEncoder,\n",
    "#                         ce.james_stein.JamesSteinEncoder,\n",
    "#                         ce.one_hot.OneHotEncoder,\n",
    "#                         ce.leave_one_out.LeaveOneOutEncoder,\n",
    "#                         ce.m_estimate.MEstimateEncoder,\n",
    "#                         ce.ordinal.OrdinalEncoder,\n",
    "#                         ce.polynomial.PolynomialEncoder,\n",
    "#                         ce.sum_coding.SumEncoder,\n",
    "#                         ce.target_encoder.TargetEncoder\n",
    "#                 ]\n",
    "#         for encoder in encoder_list:\n",
    "    \n",
    "#             categorical_transformer = Pipeline(steps=[\n",
    "#             ('imputer', SimpleImputer(strategy='constant', fill_value='missing')),\n",
    "#             ('woe', encoder())])\n",
    "    \n",
    "#             preprocessor = ColumnTransformer(\n",
    "#             transformers=[\n",
    "#             ('cat', categorical_transformer, categorical_features)])\n",
    "    \n",
    "#             pipe = Pipeline(steps=[('preprocessor', preprocessor),\n",
    "#                       ('classifier', c)])\n",
    "# #OneVsRestClassifier(XGBClassifier(n_jobs=-1, max_depth=4))\n",
    "\n",
    "#             model = pipe.fit(X_train, y_train)\n",
    "    \n",
    "#             y_pred = model.predict(X_test)\n",
    "#             print(c)\n",
    "#             print(encoder)\n",
    "#             print(f1_score(y_test, y_pred, average='weighted'))\n",
    "            \n",
    "# classifiers = [OneVsRestClassifier(XGBClassifier(n_jobs=-1, max_depth=4)),OneVsRestClassifier(SVC()), \n",
    "#                RandomForestClassifier()]\n",
    "\n",
    "# encode_val(classifiers)"
   ]
  },
  {
   "cell_type": "code",
   "execution_count": null,
   "metadata": {},
   "outputs": [],
   "source": [
    "X = df.drop('hurt_career',axis=1)\n",
    "y = df['hurt_career']\n"
   ]
  },
  {
   "cell_type": "code",
   "execution_count": null,
   "metadata": {},
   "outputs": [],
   "source": [
    "X.columns"
   ]
  },
  {
   "cell_type": "code",
   "execution_count": null,
   "metadata": {},
   "outputs": [],
   "source": [
    "check_column(X,list(X.columns) )"
   ]
  },
  {
   "cell_type": "markdown",
   "metadata": {},
   "source": [
    "## Chain LEncoder -> OHencoder (used before split, pretty sure this is data leakage inflating performance?)"
   ]
  },
  {
   "cell_type": "code",
   "execution_count": null,
   "metadata": {},
   "outputs": [],
   "source": [
    "from sklearn.preprocessing import OneHotEncoder\n",
    "from sklearn.preprocessing import LabelEncoder"
   ]
  },
  {
   "cell_type": "code",
   "execution_count": null,
   "metadata": {},
   "outputs": [],
   "source": [
    "le = LabelEncoder()\n",
    "ohe = OneHotEncoder()"
   ]
  },
  {
   "cell_type": "code",
   "execution_count": null,
   "metadata": {},
   "outputs": [],
   "source": [
    "for col in X.columns:\n",
    "    X[col] = le.fit_transform(X[col])\n",
    "X= ohe.fit_transform(X)"
   ]
  },
  {
   "cell_type": "markdown",
   "metadata": {},
   "source": [
    "## Base NE Encoding - currently not used in favor of label --> one hot"
   ]
  },
  {
   "cell_type": "code",
   "execution_count": null,
   "metadata": {},
   "outputs": [],
   "source": [
    "# encoder =  ce.basen.BaseNEncoder(cols=categorical_features)\n",
    "# encoder.fit(X, y)\n",
    "# X= encoder.transform(X)"
   ]
  },
  {
   "cell_type": "code",
   "execution_count": null,
   "metadata": {},
   "outputs": [],
   "source": [
    "# total_resp = len(X)\n",
    "\n",
    "# # for each categorical variable\n",
    "# for col in X.columns:\n",
    "\n",
    "#     # count the number of houses per category\n",
    "#     # and divide by total houses\n",
    "\n",
    "#     # aka percentage of houses per category\n",
    "\n",
    "#     temp_df = pd.Series(X[col].value_counts() / total_resp)\n",
    "\n",
    "#     # make plot with the above percentages\n",
    "#     fig = temp_df.sort_values(ascending=False).plot.bar()\n",
    "#     fig.set_xlabel(col)\n",
    "\n",
    "#     # add a line at 5 % to flag the threshold for rare categories\n",
    "#     fig.axhline(y=0.05, color='red')\n",
    "#     fig.set_ylabel('Percentage of respondents')\n",
    "#     plt.show()"
   ]
  },
  {
   "cell_type": "code",
   "execution_count": null,
   "metadata": {},
   "outputs": [],
   "source": [
    "# profile = ProfileReport(X, title='Pandas Profiling Report', html={'style':{'full_width':True}})\n",
    "# profile.to_widgets()"
   ]
  },
  {
   "cell_type": "code",
   "execution_count": null,
   "metadata": {},
   "outputs": [],
   "source": [
    "# from sklearn.preprocessing import PolynomialFeatures\n",
    "# poly = PolynomialFeatures(degree=3, interaction_only=True)\n",
    "# X= poly.fit_transform(X)\n",
    "\n",
    "# X"
   ]
  },
  {
   "cell_type": "markdown",
   "metadata": {},
   "source": [
    "## Random forest embedding- not much in terms of results"
   ]
  },
  {
   "cell_type": "code",
   "execution_count": null,
   "metadata": {},
   "outputs": [],
   "source": [
    "# from sklearn.ensemble import RandomTreesEmbedding, ExtraTreesClassifier\n",
    "# from sklearn.decomposition import TruncatedSVD\n",
    "# hasher = RandomTreesEmbedding(n_estimators=10, random_state=0, max_depth=3)\n",
    "# X_transformed = hasher.fit_transform(X)"
   ]
  },
  {
   "cell_type": "code",
   "execution_count": null,
   "metadata": {},
   "outputs": [],
   "source": [
    "# X = X_transformed"
   ]
  },
  {
   "cell_type": "markdown",
   "metadata": {},
   "source": [
    "## Train test split"
   ]
  },
  {
   "cell_type": "code",
   "execution_count": null,
   "metadata": {},
   "outputs": [],
   "source": [
    "X_train, X_test, y_train, y_test = train_test_split(X, y, test_size=0.33, random_state=42)"
   ]
  },
  {
   "cell_type": "markdown",
   "metadata": {},
   "source": [
    "## Minmax scaling - currently using MaxAbs"
   ]
  },
  {
   "cell_type": "code",
   "execution_count": null,
   "metadata": {},
   "outputs": [],
   "source": [
    "# mm_scaler = preprocessing.MinMaxScaler()\n",
    "# X_train = mm_scaler.fit_transform(X_train)\n",
    "# X_test = mm_scaler.transform(X_test)"
   ]
  },
  {
   "cell_type": "markdown",
   "metadata": {},
   "source": [
    "## MaxAbs for sparse RF embedding/encoded one hots"
   ]
  },
  {
   "cell_type": "code",
   "execution_count": null,
   "metadata": {},
   "outputs": [],
   "source": [
    "ma_scaler = preprocessing.MaxAbsScaler()\n",
    "X_train = ma_scaler.fit_transform(X_train)\n",
    "X_test = ma_scaler.transform(X_test)"
   ]
  },
  {
   "cell_type": "markdown",
   "metadata": {},
   "source": [
    "## Tentative feature selection code, not in use"
   ]
  },
  {
   "cell_type": "code",
   "execution_count": null,
   "metadata": {},
   "outputs": [],
   "source": [
    "# model_all_features = xgb.XGBClassifier(\n",
    "#     nthread=10, max_depth=4, n_estimators=500, learning_rate=0.05)\n",
    " \n",
    "# model_all_features.fit(X_train, y_train)\n",
    " \n",
    "# # calculate the roc-auc in the test set\n",
    "# y_pred_test = model_all_features.predict_proba(X_test)[:, 1]\n",
    "# auc_score_all = roc_auc_score(y_test, y_pred_test)\n",
    "# print('Test all features xgb ROC AUC=%f' % (auc_score_all))"
   ]
  },
  {
   "cell_type": "code",
   "execution_count": null,
   "metadata": {
    "scrolled": true
   },
   "outputs": [],
   "source": [
    "# # select features using the coefficient of a non\n",
    "# # regularised logistic regression\n",
    " \n",
    "# sel_ = SelectFromModel(LogisticRegression(C=1000))\n",
    "# sel_.fit(mm_scaler.transform(X_train), y_train)\n",
    " \n",
    "# # remove features with zero coefficient from dataset\n",
    "# # and parse again as dataframe (output of sklearn is\n",
    "# # numpy array)\n",
    "# X_train_coef = pd.DataFrame(sel_.transform(X_train))\n",
    "# X_test_coef = pd.DataFrame(sel_.transform(X_test))\n",
    " \n",
    "# # add the columns name\n",
    "# X_train_coef.columns = X_train.columns[(sel_.get_support())]\n",
    "# X_test_coef.columns = X_train.columns[(sel_.get_support())]"
   ]
  },
  {
   "cell_type": "markdown",
   "metadata": {},
   "source": [
    "# Modeling and visualizing results"
   ]
  },
  {
   "cell_type": "markdown",
   "metadata": {},
   "source": [
    "## TODO: Write evaluation metric function(s)"
   ]
  },
  {
   "cell_type": "markdown",
   "metadata": {},
   "source": [
    "## TO DO: Models list:"
   ]
  },
  {
   "cell_type": "markdown",
   "metadata": {},
   "source": [
    "## First model - one v. rest SVC"
   ]
  },
  {
   "cell_type": "code",
   "execution_count": null,
   "metadata": {},
   "outputs": [],
   "source": [
    "clf = OneVsRestClassifier(SVC())\n",
    "clf.fit(X_train, y_train)\n",
    "y_pred = clf.predict(X_test)"
   ]
  },
  {
   "cell_type": "code",
   "execution_count": null,
   "metadata": {
    "scrolled": true
   },
   "outputs": [],
   "source": [
    "visualizer = ClassificationReport(clf, classes=[0,1,2,3,4], support=True)\n",
    "\n",
    "visualizer.fit(X_train, y_train)        # Fit the visualizer and the model\n",
    "visualizer.score(X_test, y_test)        # Evaluate the model on the test data\n",
    "visualizer.show()      "
   ]
  },
  {
   "cell_type": "markdown",
   "metadata": {},
   "source": [
    "## Best so far:.67 acc, .64 f1 for one v. rest SVC"
   ]
  },
  {
   "cell_type": "code",
   "execution_count": null,
   "metadata": {
    "scrolled": true
   },
   "outputs": [],
   "source": [
    "visualizer.fit(X_train, y_train)        # Fit the visualizer and the model\n",
    "# predict\n",
    "predictions = visualizer.predict(X_test)\n",
    "y_pred=predictions\n",
    "# accuracy\n",
    "print(\"Accuracy = \",accuracy_score(y_test,y_pred))"
   ]
  },
  {
   "cell_type": "code",
   "execution_count": null,
   "metadata": {},
   "outputs": [],
   "source": [
    "f1_score(y_test, y_pred, average='weighted')"
   ]
  },
  {
   "cell_type": "markdown",
   "metadata": {},
   "source": [
    "## Multinomial NB performs very well for a more 'basic' model without characteristics like gradient boosting, etc."
   ]
  },
  {
   "cell_type": "code",
   "execution_count": null,
   "metadata": {},
   "outputs": [],
   "source": [
    "mnb = MultinomialNB()\n",
    "\n",
    "visualizer = ClassificationReport(mnb, classes=[0,1,2,3,4], support=True)\n",
    "\n",
    "visualizer.fit(X_train, y_train)        # Fit the visualizer and the model\n",
    "visualizer.score(X_test, y_test)        # Evaluate the model on the test data\n",
    "visualizer.show()      "
   ]
  },
  {
   "cell_type": "code",
   "execution_count": null,
   "metadata": {
    "scrolled": true
   },
   "outputs": [],
   "source": [
    "visualizer.fit(X_train, y_train)        # Fit the visualizer and the model\n",
    "# predict\n",
    "predictions = visualizer.predict(X_test)\n",
    "y_pred=predictions\n",
    "# accuracy\n",
    "print(\"Accuracy = \",accuracy_score(y_test,y_pred))"
   ]
  },
  {
   "cell_type": "code",
   "execution_count": null,
   "metadata": {},
   "outputs": [],
   "source": [
    "f1_score(y_test, y_pred, average='weighted')"
   ]
  },
  {
   "cell_type": "markdown",
   "metadata": {},
   "source": [
    "## KNN: Moderate performance, a good baseline"
   ]
  },
  {
   "cell_type": "code",
   "execution_count": null,
   "metadata": {},
   "outputs": [],
   "source": [
    "knn = KNeighborsClassifier(n_neighbors = 7)\n",
    "\n",
    "\n",
    "visualizer = ClassificationReport(knn, classes=[0,1,2,3,4], support=True)\n",
    "\n",
    "visualizer.fit(X_train, y_train)        # Fit the visualizer and the model\n",
    "visualizer.score(X_test, y_test)        # Evaluate the model on the test data\n",
    "visualizer.show()"
   ]
  },
  {
   "cell_type": "code",
   "execution_count": null,
   "metadata": {
    "scrolled": true
   },
   "outputs": [],
   "source": [
    "visualizer.fit(X_train, y_train)        # Fit the visualizer and the model\n",
    "# predict\n",
    "predictions = visualizer.predict(X_test)\n",
    "y_pred=predictions\n",
    "# accuracy\n",
    "print(\"Accuracy = \",accuracy_score(y_test,y_pred))"
   ]
  },
  {
   "cell_type": "code",
   "execution_count": null,
   "metadata": {},
   "outputs": [],
   "source": [
    "f1_score(y_test, y_pred, average='weighted')"
   ]
  },
  {
   "cell_type": "markdown",
   "metadata": {},
   "source": [
    "## Linear SVC"
   ]
  },
  {
   "cell_type": "code",
   "execution_count": null,
   "metadata": {},
   "outputs": [],
   "source": [
    "lsvc = LinearSVC()"
   ]
  },
  {
   "cell_type": "code",
   "execution_count": null,
   "metadata": {},
   "outputs": [],
   "source": [
    "visualizer = ClassificationReport(OneVsRestClassifier(lsvc), classes=[0,1,2,3,4], support=True)\n",
    "visualizer.fit(X_train, y_train)        # Fit the visualizer and the model\n",
    "visualizer.score(X_test, y_test)        # Evaluate the model on the test data\n",
    "visualizer.show()"
   ]
  },
  {
   "cell_type": "code",
   "execution_count": null,
   "metadata": {
    "scrolled": true
   },
   "outputs": [],
   "source": [
    "visualizer.fit(X_train, y_train)        # Fit the visualizer and the model\n",
    "# predict\n",
    "predictions = visualizer.predict(X_test)\n",
    "y_pred=predictions\n",
    "# accuracy\n",
    "print(\"Accuracy = \",accuracy_score(y_test,y_pred))"
   ]
  },
  {
   "cell_type": "code",
   "execution_count": null,
   "metadata": {},
   "outputs": [],
   "source": [
    "f1_score(y_test, y_pred, average='weighted')"
   ]
  },
  {
   "cell_type": "markdown",
   "metadata": {},
   "source": [
    "## XGboost as a one v. rest performs well, shocker!"
   ]
  },
  {
   "cell_type": "code",
   "execution_count": null,
   "metadata": {
    "scrolled": false
   },
   "outputs": [],
   "source": [
    "xgb_clf = OneVsRestClassifier(XGBClassifier(n_jobs=-1, max_depth=4))\n",
    "visualizer = ClassificationReport(xgb_clf, classes=[0,1,2,3,4], support=True)\n",
    "\n",
    "visualizer.fit(X_train, y_train)        # Fit the visualizer and the model\n",
    "visualizer.score(X_test, y_test)        # Evaluate the model on the test data\n",
    "visualizer.show()"
   ]
  },
  {
   "cell_type": "code",
   "execution_count": null,
   "metadata": {
    "scrolled": true
   },
   "outputs": [],
   "source": [
    "visualizer.fit(X_train, y_train)        # Fit the visualizer and the model\n",
    "# predict\n",
    "predictions = visualizer.predict(X_test)\n",
    "y_pred=predictions\n",
    "# accuracy\n",
    "print(\"Accuracy = \",accuracy_score(y_test,y_pred))"
   ]
  },
  {
   "cell_type": "code",
   "execution_count": null,
   "metadata": {},
   "outputs": [],
   "source": [
    "f1_score(y_test, y_pred, average='weighted')"
   ]
  },
  {
   "cell_type": "code",
   "execution_count": null,
   "metadata": {},
   "outputs": [],
   "source": [
    "# XGB parameters\n",
    "xgb_reg_params = {\n",
    "    'learning_rate':    hp.choice('learning_rate',    np.arange(0.05, 0.31, 0.05)),\n",
    "    'max_depth':        hp.choice('max_depth',        np.arange(5, 16, 1, dtype=int)),\n",
    "    'min_child_weight': hp.choice('min_child_weight', np.arange(1, 8, 1, dtype=int)),\n",
    "    'colsample_bytree': hp.choice('colsample_bytree', np.arange(0.3, 0.8, 0.1)),\n",
    "    'subsample':        hp.uniform('subsample', 0.8, 1),\n",
    "    'n_estimators':     100,\n",
    "}\n",
    "xgb_fit_params = {\n",
    "    'eval_metric': 'mlogloss',\n",
    "    'early_stopping_rounds': 10,\n",
    "    'verbose': False\n",
    "}\n",
    "xgb_para = dict()\n",
    "xgb_para['reg_params'] = xgb_reg_params\n",
    "xgb_para['fit_params'] = xgb_fit_params\n",
    "xgb_para['loss_func' ] = lambda y, pred: np.sqrt(mean_squared_error(y, pred))\n"
   ]
  },
  {
   "cell_type": "markdown",
   "metadata": {},
   "source": [
    "# Hyper opt - comment out for faster notebook"
   ]
  },
  {
   "cell_type": "code",
   "execution_count": null,
   "metadata": {},
   "outputs": [],
   "source": [
    "def objective(space):\n",
    "\n",
    "    warnings.filterwarnings(action='ignore', category=DeprecationWarning)\n",
    "    classifier = xgb.XGBClassifier(n_estimators = space['n_estimators'],\n",
    "                            max_depth = int(space['max_depth']),\n",
    "                            learning_rate = space['learning_rate'],\n",
    "                            gamma = space['gamma'],\n",
    "                            min_child_weight = space['min_child_weight'],\n",
    "                            subsample = space['subsample'],\n",
    "                            colsample_bytree = space['colsample_bytree']\n",
    "                            )\n",
    "    \n",
    "    classifier.fit(X_train, y_train)\n",
    "\n",
    "    # Applying k-Fold Cross Validation\n",
    "\n",
    "    accuracies = cross_val_score(estimator = classifier, X = X_train, y = y_train, cv = 10)\n",
    "    CrossValMean = accuracies.mean()\n",
    "\n",
    "    print(\"CrossValMean:\", CrossValMean)\n",
    "\n",
    "    return{'loss':1-CrossValMean, 'status': STATUS_OK }\n",
    "\n",
    "space = {\n",
    "    'max_depth' : hp.choice('max_depth', range(5, 30, 1)),\n",
    "    'learning_rate' : hp.quniform('learning_rate', 0.01, 0.5, 0.01),\n",
    "    'n_estimators' : hp.choice('n_estimators', range(20, 205, 5)),\n",
    "    'gamma' : hp.quniform('gamma', 0, 0.50, 0.01),\n",
    "    'min_child_weight' : hp.quniform('min_child_weight', 1, 10, 1),\n",
    "    'subsample' : hp.quniform('subsample', 0.1, 1, 0.01),\n",
    "    'colsample_bytree' : hp.quniform('colsample_bytree', 0.1, 1.0, 0.01)}\n",
    "\n",
    "trials = Trials()\n",
    "best = fmin(fn=objective,\n",
    "            space=space,\n",
    "            algo=tpe.suggest,\n",
    "            max_evals=50,\n",
    "            trials=trials)\n",
    "\n",
    "print(\"Best: \", best)"
   ]
  },
  {
   "cell_type": "markdown",
   "metadata": {},
   "source": [
    "## Hyper opt XGboost one v rest take 1 - these functions need work"
   ]
  },
  {
   "cell_type": "code",
   "execution_count": null,
   "metadata": {},
   "outputs": [],
   "source": [
    "def show_matrix(visualizer=visualizer,X_train=X_train,y_train=y_train,X_test=X_test,y_test=y_test):\n",
    "    visualizer.fit(X_train, y_train)        # Fit the visualizer and the model\n",
    "    visualizer.score(X_test, y_test)        # Evaluate the model on the test data\n",
    "    visualizer.show()"
   ]
  },
  {
   "cell_type": "code",
   "execution_count": null,
   "metadata": {},
   "outputs": [],
   "source": [
    "def accuracy_f(visualizer=visualizer,X_train=X_train, y_train=y_train,X_test=X_test, y_test=y_test, y_pred=y_pred):\n",
    "    visualizer.fit(X_train, y_train)        # Fit the visualizer and the model\n",
    "    # predict\n",
    "    predictions = visualizer.predict(X_test)\n",
    "    y_pred=predictions\n",
    "    # accuracy\n",
    "    print(\"Accuracy = \",accuracy_score(y_test,y_pred))"
   ]
  },
  {
   "cell_type": "code",
   "execution_count": null,
   "metadata": {},
   "outputs": [],
   "source": [
    "# opt_clf = OneVsRestClassifier(XGBClassifier(colsample_bytree= 0.45, gamma= 0.46, learning_rate= 0.01, \n",
    "#                                             max_depth= 7, min_child_weight= 7.0, n_estimators= 11, \n",
    "#                                             subsample= 0.7000000000000001))\n",
    "#Produces .11,.75,.68 f1"
   ]
  },
  {
   "cell_type": "code",
   "execution_count": null,
   "metadata": {},
   "outputs": [],
   "source": [
    "params = {'colsample_bytree': 0.47000000000000003, 'gamma': 0.38, 'learning_rate': 0.01, 'max_depth': 17, \n",
    "          'min_child_weight': 3.0, 'n_estimators': 11, 'subsample': 0.55}\n",
    "\n",
    "opt_clf = OneVsRestClassifier(XGBClassifier(**params))\n",
    "visualizer = ClassificationReport(opt_clf, classes=[0,1,2,3,4], support=True)\n",
    "\n",
    "visualizer.fit(X_train, y_train)        # Fit the visualizer and the model\n",
    "visualizer.score(X_test, y_test)        # Evaluate the model on the test data\n",
    "visualizer.show()"
   ]
  },
  {
   "cell_type": "code",
   "execution_count": null,
   "metadata": {
    "scrolled": false
   },
   "outputs": [],
   "source": [
    "accuracy_f()"
   ]
  },
  {
   "cell_type": "code",
   "execution_count": null,
   "metadata": {},
   "outputs": [],
   "source": [
    "f1_score(y_test, y_pred, average='weighted')"
   ]
  },
  {
   "cell_type": "markdown",
   "metadata": {},
   "source": [
    "## https://gist.github.com/amueller/4387511"
   ]
  },
  {
   "cell_type": "code",
   "execution_count": null,
   "metadata": {},
   "outputs": [],
   "source": [
    "import pylab as pl\n",
    "from time import time\n",
    "\n",
    "# Import datasets, classifiers and performance metrics\n",
    "from sklearn.kernel_approximation import (RBFSampler,\n",
    "                                          Nystroem)\n",
    "from sklearn.utils import shuffle\n",
    "\n",
    "# Create a classifier: a support vector classifier\n",
    "kernel_svm = SVC(gamma=.031, C=100)\n",
    "linear_svm = LinearSVC(C=100)\n",
    "\n",
    "# create pipeline from kernel approximation\n",
    "# and linear svm\n",
    "feature_map_fourier = RBFSampler(gamma=.031, random_state=1)\n",
    "feature_map_nystroem = Nystroem(gamma=.031, random_state=1)\n",
    "fourier_approx_svm = Pipeline([(\"feature_map\", feature_map_fourier),\n",
    "                                        (\"svm\", LinearSVC(C=100))])\n",
    "\n",
    "nystroem_approx_svm = Pipeline([(\"feature_map\", feature_map_nystroem),\n",
    "                                        (\"svm\", LinearSVC(C=100))])\n",
    "\n",
    "# fit and predict using linear and kernel svm:\n",
    "\n",
    "kernel_svm_time = time()\n",
    "kernel_svm.fit(X_train, y_train)\n",
    "kernel_svm_score = kernel_svm.score(X_test, y_test)\n",
    "kernel_svm_time = time() - kernel_svm_time\n",
    "\n",
    "linear_svm_time = time()\n",
    "linear_svm.fit(X_train, y_train)\n",
    "linear_svm_score = linear_svm.score(X_test, y_test)\n",
    "linear_svm_time = time() - linear_svm_time\n",
    "\n",
    "sample_sizes = 200 * np.arange(1, 10)\n",
    "fourier_scores = []\n",
    "nystroem_scores = []\n",
    "fourier_times = []\n",
    "nystroem_times = []\n",
    "\n",
    "for D in sample_sizes:\n",
    "    fourier_approx_svm.set_params(feature_map__n_components=D)\n",
    "    nystroem_approx_svm.set_params(feature_map__n_components=D)\n",
    "    start = time()\n",
    "    nystroem_approx_svm.fit(X_train, y_train)\n",
    "    nystroem_times.append(time() - start)\n",
    "\n",
    "    start = time()\n",
    "    fourier_approx_svm.fit(X_train, y_train)\n",
    "    fourier_times.append(time() - start)\n",
    "\n",
    "    fourier_score = fourier_approx_svm.score(X_test, y_test)\n",
    "    nystroem_score = nystroem_approx_svm.score(X_test, y_test)\n",
    "    nystroem_scores.append(nystroem_score)\n",
    "    fourier_scores.append(fourier_score)"
   ]
  },
  {
   "cell_type": "markdown",
   "metadata": {},
   "source": [
    "## https://scikit-learn.org/stable/modules/generated/sklearn.kernel_approximation.RBFSampler.html"
   ]
  },
  {
   "cell_type": "code",
   "execution_count": null,
   "metadata": {},
   "outputs": [],
   "source": [
    "# plot the results:\n",
    "pl.figure(figsize=(8, 8))\n",
    "accuracy = pl.subplot(211)\n",
    "# second y axis for timeings\n",
    "timescale = pl.subplot(212)\n",
    "\n",
    "accuracy.plot(sample_sizes, nystroem_scores, label=\"Nystroem approx. kernel\")\n",
    "timescale.plot(sample_sizes, nystroem_times, '--',\n",
    "               label='Nystroem approx. kernel')\n",
    "\n",
    "accuracy.plot(sample_sizes, fourier_scores, label=\"Fourier approx. kernel\")\n",
    "timescale.plot(sample_sizes, fourier_times, '--',\n",
    "               label='Fourier approx. kernel')\n",
    "\n",
    "# horizontal lines for exact rbf and linear kernels:\n",
    "accuracy.plot([sample_sizes[0], sample_sizes[-1]],\n",
    "              [linear_svm_score, linear_svm_score],\n",
    "              label=\"linear svm\")\n",
    "timescale.plot([sample_sizes[0], sample_sizes[-1]],\n",
    "               [linear_svm_time, linear_svm_time], '--',\n",
    "               label='linear svm')\n",
    "\n",
    "accuracy.plot([sample_sizes[0], sample_sizes[-1]],\n",
    "              [kernel_svm_score, kernel_svm_score],\n",
    "              label=\"rbf svm\")\n",
    "timescale.plot([sample_sizes[0], sample_sizes[-1]],\n",
    "               [kernel_svm_time, kernel_svm_time], '--',\n",
    "               label='rbf svm')\n",
    "\n",
    "# vertical line for dataset dimensionality = 64\n",
    "accuracy.plot([64, 64], [0.7, 1], label=\"n_features\")\n",
    "\n",
    "# legends and labels\n",
    "accuracy.set_title(\"Classification accuracy\")\n",
    "timescale.set_title(\"Training times\")\n",
    "accuracy.set_xlim(sample_sizes[0], sample_sizes[-1])\n",
    "accuracy.set_xticks(())\n",
    "accuracy.set_ylim(np.min(fourier_scores), 1)\n",
    "timescale.set_xlabel(\"Sampling steps = transformed feature dimension\")\n",
    "accuracy.set_ylabel(\"Classification accuracy\")\n",
    "timescale.set_ylabel(\"Training time in seconds\")\n",
    "accuracy.legend(loc='best')\n",
    "timescale.legend(loc='best')\n",
    "\n",
    "pl.show()"
   ]
  },
  {
   "cell_type": "markdown",
   "metadata": {},
   "source": [
    "# Class imbalance - SMOTE"
   ]
  },
  {
   "cell_type": "markdown",
   "metadata": {},
   "source": [
    "## To add: \n",
    "- Grid searched Linear SVC One v. Rest, Multinomal NB add grid"
   ]
  },
  {
   "cell_type": "code",
   "execution_count": null,
   "metadata": {},
   "outputs": [],
   "source": [
    "print('Original class distribution: \\n')\n",
    "print(y.value_counts())\n",
    "smote = SMOTE()\n",
    "X_train_resampled, y_train_resampled = smote.fit_sample(X_train, y_train) \n",
    "# Preview synthetic sample class distribution\n",
    "print('-----------------------------------------')\n",
    "print('Synthetic sample class distribution: \\n')\n",
    "print(pd.Series(y_train_resampled).value_counts()) "
   ]
  },
  {
   "cell_type": "markdown",
   "metadata": {},
   "source": [
    "## One v Rest XGBoost SMOTE"
   ]
  },
  {
   "cell_type": "code",
   "execution_count": null,
   "metadata": {
    "scrolled": true
   },
   "outputs": [],
   "source": [
    "opt_clf = OneVsRestClassifier(XGBClassifier(colsample_bytree= 0.45, gamma= 0.46, learning_rate= 0.01, \n",
    "                                            max_depth= 7, min_child_weight= 7.0, n_estimators= 11, \n",
    "                                            subsample= 0.7000000000000001))\n",
    "visualizer = ClassificationReport(opt_clf, classes=[0,1,2,3,4], support=True)\n",
    "\n",
    "visualizer.fit(X_train_resampled, y_train_resampled)        # Fit the visualizer and the model\n",
    "visualizer.score(X_test, y_test)        # Evaluate the model on the test data\n",
    "visualizer.show()"
   ]
  },
  {
   "cell_type": "code",
   "execution_count": null,
   "metadata": {
    "scrolled": true
   },
   "outputs": [],
   "source": [
    "visualizer.fit(X_train_resampled, y_train_resampled)        # Fit the visualizer and the model\n",
    "# predict\n",
    "predictions = visualizer.predict(X_test)\n",
    "y_pred=predictions\n",
    "# accuracy\n",
    "print(\"Accuracy = \",accuracy_score(y_test,y_pred))"
   ]
  },
  {
   "cell_type": "code",
   "execution_count": null,
   "metadata": {},
   "outputs": [],
   "source": [
    "f1_score(y_test, y_pred, average='weighted')"
   ]
  },
  {
   "cell_type": "markdown",
   "metadata": {},
   "source": [
    "## Hyperopt of SMOTE boost - Turn on comment for faster notebook"
   ]
  },
  {
   "cell_type": "code",
   "execution_count": null,
   "metadata": {},
   "outputs": [],
   "source": [
    "def objective(space):\n",
    "\n",
    "    warnings.filterwarnings(action='ignore', category=DeprecationWarning)\n",
    "    classifier = xgb.XGBClassifier(n_estimators = space['n_estimators'],\n",
    "                            max_depth = int(space['max_depth']),\n",
    "                            learning_rate = space['learning_rate'],\n",
    "                            gamma = space['gamma'],\n",
    "                            min_child_weight = space['min_child_weight'],\n",
    "                            subsample = space['subsample'],\n",
    "                            colsample_bytree = space['colsample_bytree']\n",
    "                            )\n",
    "    \n",
    "    classifier.fit(X_train, y_train)\n",
    "\n",
    "    # Applying k-Fold Cross Validation\n",
    "    accuracies = cross_val_score(estimator = classifier, X = X_train_resampled, y = y_train_resampled, cv = 10)\n",
    "    CrossValMean = accuracies.mean()\n",
    "\n",
    "    print(\"CrossValMean:\", CrossValMean)\n",
    "\n",
    "    return{'loss':1-CrossValMean, 'status': STATUS_OK }\n",
    "\n",
    "space = {\n",
    "    'max_depth' : hp.choice('max_depth', range(5, 30, 1)),\n",
    "    'learning_rate' : hp.quniform('learning_rate', 0.01, 0.5, 0.01),\n",
    "    'n_estimators' : hp.choice('n_estimators', range(20, 205, 5)),\n",
    "    'gamma' : hp.quniform('gamma', 0, 0.50, 0.01),\n",
    "    'min_child_weight' : hp.quniform('min_child_weight', 1, 10, 1),\n",
    "    'subsample' : hp.quniform('subsample', 0.1, 1, 0.01),\n",
    "    'colsample_bytree' : hp.quniform('colsample_bytree', 0.1, 1.0, 0.01)}\n",
    "\n",
    "trials = Trials()\n",
    "best = fmin(fn=objective,\n",
    "            space=space,\n",
    "            algo=tpe.suggest,\n",
    "            max_evals=50,\n",
    "            trials=trials)\n",
    "\n",
    "print(\"Best: \", best)"
   ]
  },
  {
   "cell_type": "markdown",
   "metadata": {},
   "source": [
    "## Tuned SMOTE Xgboost one v. rest"
   ]
  },
  {
   "cell_type": "markdown",
   "metadata": {},
   "source": [
    "## .688/.67 accuracy/f1 weighted off Label --> One Hot Encoding with \n",
    "- (colsample_bytree= 0.6, gamma= 0.0, learning_rate= 0.02, \n",
    "- max_depth= 7, min_child_weight= 1.0, n_estimators= 12, \n",
    "- subsample= 0.65)\n",
    "## But hyperparam tuning failed miserably"
   ]
  },
  {
   "cell_type": "code",
   "execution_count": null,
   "metadata": {},
   "outputs": [],
   "source": [
    "smo_xg_par = {'colsample_bytree': 0.8200000000000001, 'gamma': 0.39, 'learning_rate': 0.06, 'max_depth': 21, \n",
    "              'min_child_weight': 3.0, 'n_estimators': 2, 'subsample': 0.64}"
   ]
  },
  {
   "cell_type": "code",
   "execution_count": null,
   "metadata": {},
   "outputs": [],
   "source": [
    "smote_xg = OneVsRestClassifier(XGBClassifier(colsample_bytree= 0.6, gamma= 0.0, learning_rate= 0.02, \n",
    " max_depth= 7, min_child_weight= 1.0, n_estimators= 12, \n",
    " subsample= 0.65))\n",
    "visualizer = ClassificationReport(smote_xg, classes=[0,1,2], support=True)\n",
    "\n",
    "visualizer.fit(X_train_resampled, y_train_resampled)        # Fit the visualizer and the model\n",
    "visualizer.score(X_test, y_test)        # Evaluate the model on the test data\n",
    "visualizer.show()"
   ]
  },
  {
   "cell_type": "code",
   "execution_count": null,
   "metadata": {
    "scrolled": true
   },
   "outputs": [],
   "source": [
    "visualizer.fit(X_train_resampled, y_train_resampled)        # Fit the visualizer and the model\n",
    "# predict\n",
    "predictions = visualizer.predict(X_test)\n",
    "y_pred=predictions\n",
    "# accuracy\n",
    "print(\"Accuracy = \",accuracy_score(y_test,y_pred))"
   ]
  },
  {
   "cell_type": "code",
   "execution_count": null,
   "metadata": {},
   "outputs": [],
   "source": [
    "f1_score(y_test, y_pred, average='weighted')"
   ]
  },
  {
   "cell_type": "markdown",
   "metadata": {},
   "source": [
    "## Multinomial NB take 2"
   ]
  },
  {
   "cell_type": "code",
   "execution_count": null,
   "metadata": {},
   "outputs": [],
   "source": [
    "mnb = MultinomialNB()\n",
    "\n",
    "visualizer = ClassificationReport(mnb, classes=[0,1,2,3,4], support=True)\n",
    "\n",
    "visualizer.fit(X_train_resampled, y_train_resampled)        # Fit the visualizer and the model\n",
    "visualizer.score(X_test, y_test)        # Evaluate the model on the test data\n",
    "visualizer.show()      "
   ]
  },
  {
   "cell_type": "code",
   "execution_count": null,
   "metadata": {
    "scrolled": true
   },
   "outputs": [],
   "source": [
    "visualizer.fit(X_train_resampled, y_train_resampled)        # Fit the visualizer and the model\n",
    "# predict\n",
    "predictions = visualizer.predict(X_test)\n",
    "y_pred=predictions\n",
    "# accuracy\n",
    "print(\"Accuracy = \",accuracy_score(y_test,y_pred))"
   ]
  },
  {
   "cell_type": "code",
   "execution_count": null,
   "metadata": {},
   "outputs": [],
   "source": [
    "f1_score(y_test, y_pred, average='weighted')"
   ]
  },
  {
   "cell_type": "markdown",
   "metadata": {},
   "source": [
    "## One vs. Rest MLPClassifier on SMOTE"
   ]
  },
  {
   "cell_type": "code",
   "execution_count": null,
   "metadata": {},
   "outputs": [],
   "source": [
    "smote_mlp = OneVsRestClassifier(MLPClassifier(hidden_layer_sizes=(100,100,100), max_iter=500, alpha=0.0001,\n",
    "                     solver='sgd', verbose=10,  random_state=21,tol=0.000000001))\n",
    "visualizer = ClassificationReport(smote_mlp, classes=[0,1,2,3,4], support=True)\n",
    "\n",
    "visualizer.fit(X_train_resampled, y_train_resampled)        # Fit the visualizer and the model\n",
    "visualizer.score(X_test, y_test)        # Evaluate the model on the test data\n",
    "visualizer.show()"
   ]
  },
  {
   "cell_type": "markdown",
   "metadata": {},
   "source": [
    "## MLP grid searching: 100-700 iter"
   ]
  },
  {
   "cell_type": "code",
   "execution_count": null,
   "metadata": {},
   "outputs": [],
   "source": [
    "mlp = MLPClassifier(max_iter=700)\n",
    "\n",
    "parameter_space = {\n",
    "    'hidden_layer_sizes': [(50,50,50), (50,100,50), (100,)],\n",
    "    'activation': ['tanh', 'relu'],\n",
    "    'solver': ['sgd', 'adam'],\n",
    "    'alpha': [0.0001, 0.05],\n",
    "    'learning_rate': ['constant','adaptive'],\n",
    "}\n",
    "\n",
    "\n",
    "clf = GridSearchCV(mlp, parameter_space, n_jobs=-1, cv=3)\n",
    "clf.fit(X_train_resampled, y_train_resampled)\n",
    "\n",
    "# Best paramete set\n",
    "print('Best parameters found:\\n', clf.best_params_)\n",
    "\n",
    "# All results\n",
    "means = clf.cv_results_['mean_test_score']\n",
    "stds = clf.cv_results_['std_test_score']\n",
    "for mean, std, params in zip(means, stds, clf.cv_results_['params']):\n",
    "    print(\"%0.3f (+/-%0.03f) for %r\" % (mean, std * 2, params))\n",
    "\n",
    "y_true, y_pred = y_test,clf.predict(X_test)\n",
    "\n",
    "print('Results on the test set:')\n",
    "print(classification_report(y_true, y_pred))"
   ]
  },
  {
   "cell_type": "markdown",
   "metadata": {},
   "source": [
    "## Grid searched MLPCLF on SMOTE"
   ]
  },
  {
   "cell_type": "code",
   "execution_count": null,
   "metadata": {},
   "outputs": [],
   "source": [
    "mlparams= {'activation': 'relu', 'alpha': 0.05, 'hidden_layer_sizes': (50, 50, 50),\n",
    "           'learning_rate': 'constant', 'solver': 'sgd'}\n",
    "\n",
    "mlp = MLPClassifier(max_iter=700,**mlparams)"
   ]
  },
  {
   "cell_type": "code",
   "execution_count": null,
   "metadata": {},
   "outputs": [],
   "source": [
    "visualizer = ClassificationReport(OneVsRestClassifier(mlp), classes=[0,1,2], support=True)\n",
    "\n",
    "visualizer.fit(X_train_resampled, y_train_resampled)        # Fit the visualizer and the model\n",
    "visualizer.score(X_test, y_test)        # Evaluate the model on the test data\n",
    "visualizer.show()"
   ]
  },
  {
   "cell_type": "code",
   "execution_count": null,
   "metadata": {
    "scrolled": true
   },
   "outputs": [],
   "source": [
    "visualizer.fit(X_train_resampled, y_train_resampled)        # Fit the visualizer and the modelmodel\n",
    "# predict\n",
    "predictions = visualizer.predict(X_test)\n",
    "y_pred=predictions\n",
    "# accuracy\n",
    "print(\"Accuracy = \",accuracy_score(y_test,y_pred))"
   ]
  },
  {
   "cell_type": "code",
   "execution_count": null,
   "metadata": {},
   "outputs": [],
   "source": [
    "f1_score(y_test, y_pred, average='weighted')"
   ]
  },
  {
   "cell_type": "markdown",
   "metadata": {},
   "source": [
    "## Are we maxing out performance with just tuning?"
   ]
  },
  {
   "cell_type": "markdown",
   "metadata": {},
   "source": [
    "# Feature selection off of SMOTE- SelectFromModel with LGBM (slightly different results on a rerun)"
   ]
  },
  {
   "cell_type": "markdown",
   "metadata": {},
   "source": [
    "## To add: One v. Rest grid searched cross fold Linear SVC and Multinomal NB"
   ]
  },
  {
   "cell_type": "code",
   "execution_count": null,
   "metadata": {},
   "outputs": [],
   "source": [
    "\n",
    "lgbc=LGBMClassifier(n_estimators=500, learning_rate=0.05, num_leaves=32, colsample_bytree=0.2,\n",
    "            reg_alpha=3, reg_lambda=1, min_split_gain=0.01, min_child_weight=40)\n",
    "\n",
    "embeded_lgb_selector = SelectFromModel(lgbc, max_features=49)\n",
    "embeded_lgb_selector.fit(X_train_resampled, y_train_resampled)\n",
    "\n",
    "embeded_lgb_support = embeded_lgb_selector.get_support()\n",
    "embeded_lgb_feature = X.loc[:,embeded_lgb_support].columns.tolist()\n",
    "print(str(len(embeded_lgb_feature)), 'selected features')"
   ]
  },
  {
   "cell_type": "code",
   "execution_count": null,
   "metadata": {},
   "outputs": [],
   "source": [
    "embeded_lgb_feature"
   ]
  },
  {
   "cell_type": "code",
   "execution_count": null,
   "metadata": {},
   "outputs": [],
   "source": [
    "lgb_features = ['num_employees',\n",
    " 'cep_benefits',\n",
    " 'cep_know_options',\n",
    " 'cep_mh_leave',\n",
    " 'cep_mh_ncsq',\n",
    " 'cep_ph_ncsq',\n",
    " 'cep_comf_cw',\n",
    " 'cep_comf_sup',\n",
    " 'cep_serious',\n",
    " 'pep_know_options',\n",
    " 'pep_learn',\n",
    " 'pep_mh_ncsq',\n",
    " 'pep_comf_cw',\n",
    " 'pep_comf_sup',\n",
    " 'pep_serious',\n",
    " 'fep_ph_willing',\n",
    " 'fep_mh_willing',\n",
    " 'cw_view_neg',\n",
    " 'neg_response',\n",
    " 'mh_cur',\n",
    " 'work_affect_ineffect',\n",
    " 'work_remote']"
   ]
  },
  {
   "cell_type": "markdown",
   "metadata": {},
   "source": [
    "## Second train_test_split with selected features, non-SMOTE"
   ]
  },
  {
   "cell_type": "code",
   "execution_count": null,
   "metadata": {},
   "outputs": [],
   "source": [
    "# X = X[lgb_features]\n",
    "X = X[embeded_lgb_feature]"
   ]
  },
  {
   "cell_type": "code",
   "execution_count": null,
   "metadata": {},
   "outputs": [],
   "source": []
  },
  {
   "cell_type": "code",
   "execution_count": null,
   "metadata": {},
   "outputs": [],
   "source": [
    "# y = df['hurt_career']"
   ]
  },
  {
   "cell_type": "code",
   "execution_count": null,
   "metadata": {},
   "outputs": [],
   "source": [
    "X_train, X_test, y_train, y_test = train_test_split(X, y, test_size=0.33, random_state=42)"
   ]
  },
  {
   "cell_type": "markdown",
   "metadata": {},
   "source": [
    "## KNN performs much better now"
   ]
  },
  {
   "cell_type": "code",
   "execution_count": null,
   "metadata": {},
   "outputs": [],
   "source": [
    "knn = KNeighborsClassifier(n_neighbors = 7)\n",
    "\n",
    "\n",
    "visualizer = ClassificationReport(knn, classes=[0,1,2,3,4], support=True)\n",
    "\n",
    "visualizer.fit(X_train, y_train)        # Fit the visualizer and the model\n",
    "visualizer.score(X_test, y_test)        # Evaluate the model on the test data\n",
    "visualizer.show()"
   ]
  },
  {
   "cell_type": "code",
   "execution_count": null,
   "metadata": {
    "scrolled": true
   },
   "outputs": [],
   "source": [
    "visualizer.fit(X_train, y_train)        # Fit the visualizer and the model\n",
    "# predict\n",
    "predictions = visualizer.predict(X_test)\n",
    "y_pred=predictions\n",
    "# accuracy\n",
    "print(\"Accuracy = \",accuracy_score(y_test,y_pred))"
   ]
  },
  {
   "cell_type": "code",
   "execution_count": null,
   "metadata": {},
   "outputs": [],
   "source": [
    "f1_score(y_test, y_pred, average='weighted')"
   ]
  },
  {
   "cell_type": "markdown",
   "metadata": {},
   "source": [
    "## XGBoost performs well- .67ish"
   ]
  },
  {
   "cell_type": "code",
   "execution_count": null,
   "metadata": {},
   "outputs": [],
   "source": [
    "xgb_clf = OneVsRestClassifier(XGBClassifier(n_jobs=-1, max_depth=4))\n",
    "visualizer = ClassificationReport(xgb_clf, classes=[0,1,2,3,4], support=True)\n",
    "\n",
    "visualizer.fit(X_train, y_train)        # Fit the visualizer and the model\n",
    "visualizer.score(X_test, y_test)        # Evaluate the model on the test data\n",
    "visualizer.show()"
   ]
  },
  {
   "cell_type": "code",
   "execution_count": null,
   "metadata": {
    "scrolled": true
   },
   "outputs": [],
   "source": [
    "visualizer.fit(X_train, y_train)        # Fit the visualizer and the model\n",
    "# predict\n",
    "predictions = visualizer.predict(X_test)\n",
    "y_pred=predictions\n",
    "# accuracy\n",
    "print(\"Accuracy = \",accuracy_score(y_test,y_pred))"
   ]
  },
  {
   "cell_type": "code",
   "execution_count": null,
   "metadata": {},
   "outputs": [],
   "source": [
    "f1_score(y_test, y_pred, average='weighted')"
   ]
  },
  {
   "cell_type": "markdown",
   "metadata": {},
   "source": [
    "## Hyperopt of featured selected xgboost"
   ]
  },
  {
   "cell_type": "code",
   "execution_count": null,
   "metadata": {},
   "outputs": [],
   "source": [
    "def objective(space):\n",
    "\n",
    "    warnings.filterwarnings(action='ignore', category=DeprecationWarning)\n",
    "    classifier = xgb.XGBClassifier(n_estimators = space['n_estimators'],\n",
    "                            max_depth = int(space['max_depth']),\n",
    "                            learning_rate = space['learning_rate'],\n",
    "                            gamma = space['gamma'],\n",
    "                            min_child_weight = space['min_child_weight'],\n",
    "                            subsample = space['subsample'],\n",
    "                            colsample_bytree = space['colsample_bytree']\n",
    "                            )\n",
    "    \n",
    "    classifier.fit(X_train, y_train)\n",
    "\n",
    "    # Applying k-Fold Cross Validation\n",
    "    accuracies = cross_val_score(estimator = classifier, X = X_train, y = y_train, cv = 10)\n",
    "    CrossValMean = accuracies.mean()\n",
    "\n",
    "    print(\"CrossValMean:\", CrossValMean)\n",
    "\n",
    "    return{'loss':1-CrossValMean, 'status': STATUS_OK }\n",
    "\n",
    "space = {\n",
    "    'max_depth' : hp.choice('max_depth', range(5, 30, 1)),\n",
    "    'learning_rate' : hp.quniform('learning_rate', 0.01, 0.5, 0.01),\n",
    "    'n_estimators' : hp.choice('n_estimators', range(20, 205, 5)),\n",
    "    'gamma' : hp.quniform('gamma', 0, 0.50, 0.01),\n",
    "    'min_child_weight' : hp.quniform('min_child_weight', 1, 10, 1),\n",
    "    'subsample' : hp.quniform('subsample', 0.1, 1, 0.01),\n",
    "    'colsample_bytree' : hp.quniform('colsample_bytree', 0.1, 1.0, 0.01)}\n",
    "\n",
    "trials = Trials()\n",
    "best = fmin(fn=objective,\n",
    "            space=space,\n",
    "            algo=tpe.suggest,\n",
    "            max_evals=50,\n",
    "            trials=trials)\n",
    "\n",
    "print(\"Best: \", best)"
   ]
  },
  {
   "cell_type": "markdown",
   "metadata": {},
   "source": [
    "## Tuned, selected one v rest xgboost, has thrown 'no predicted samples' error during tuning"
   ]
  },
  {
   "cell_type": "markdown",
   "metadata": {},
   "source": [
    "## (Original run of hyperopt hyperparams)"
   ]
  },
  {
   "cell_type": "code",
   "execution_count": null,
   "metadata": {},
   "outputs": [],
   "source": [
    "# sel_xg = OneVsRestClassifier(XGBClassifier(colsample_bytree= 0.99, gamma= 0.03, \n",
    "#                                            learning_rate= 0.06,max_depth= 17, min_child_weight= 4.0, \n",
    "#                                            n_estimators= 14, subsample= 0.12))\n",
    "# visualizer = ClassificationReport(sel_xg, classes=[0,1,2,3,4], support=True)\n",
    "\n",
    "# visualizer.fit(X_train, y_train)        # Fit the visualizer and the model\n",
    "# visualizer.score(X_test, y_test)        # Evaluate the model on the test data\n",
    "# visualizer.show()"
   ]
  },
  {
   "cell_type": "markdown",
   "metadata": {},
   "source": [
    "## Tuned XGB: Low f1 on minority class, but good overall "
   ]
  },
  {
   "cell_type": "code",
   "execution_count": null,
   "metadata": {},
   "outputs": [],
   "source": [
    "sel_params = {'colsample_bytree': 0.67, 'gamma': 0.18, 'learning_rate': 0.01, 'max_depth': 20, \n",
    "              'min_child_weight': 2.0, 'n_estimators': 5, 'subsample': 0.49}\n",
    "\n",
    "sel_xg = OneVsRestClassifier(XGBClassifier(**sel_params))\n",
    "visualizer = ClassificationReport(sel_xg, classes=[0,1,2,3,4], support=True)\n",
    "\n",
    "visualizer.fit(X_train, y_train)        # Fit the visualizer and the model\n",
    "visualizer.score(X_test, y_test)        # Evaluate the model on the test data\n",
    "visualizer.show()"
   ]
  },
  {
   "cell_type": "code",
   "execution_count": null,
   "metadata": {
    "scrolled": true
   },
   "outputs": [],
   "source": [
    "visualizer.fit(X_train, y_train)        # Fit the visualizer and the model\n",
    "# predict\n",
    "predictions = visualizer.predict(X_test)\n",
    "y_pred=predictions\n",
    "# accuracy\n",
    "print(\"Accuracy = \",accuracy_score(y_test,y_pred))"
   ]
  },
  {
   "cell_type": "code",
   "execution_count": null,
   "metadata": {},
   "outputs": [],
   "source": [
    "f1_score(y_test, y_pred, average='weighted')"
   ]
  },
  {
   "cell_type": "markdown",
   "metadata": {},
   "source": [
    "## Tuned, selected MLPclf: good, .66"
   ]
  },
  {
   "cell_type": "code",
   "execution_count": null,
   "metadata": {},
   "outputs": [],
   "source": [
    "mlp = MLPClassifier(max_iter=100)\n",
    "\n",
    "parameter_space = {\n",
    "    'hidden_layer_sizes': [(50,50,50), (50,100,50), (100,)],\n",
    "    'activation': ['tanh', 'relu'],\n",
    "    'solver': ['sgd', 'adam'],\n",
    "    'alpha': [0.0001, 0.05],\n",
    "    'learning_rate': ['constant','adaptive'],\n",
    "}\n",
    "\n",
    "clf = GridSearchCV(mlp, parameter_space, n_jobs=-1, cv=3)\n",
    "clf.fit(X_train, y_train)\n",
    "\n",
    "# Best paramete set\n",
    "print('Best parameters found:\\n', clf.best_params_)\n",
    "\n",
    "# All results\n",
    "means = clf.cv_results_['mean_test_score']\n",
    "stds = clf.cv_results_['std_test_score']\n",
    "for mean, std, params in zip(means, stds, clf.cv_results_['params']):\n",
    "    print(\"%0.3f (+/-%0.03f) for %r\" % (mean, std * 2, params))\n",
    "\n",
    "y_true, y_pred = y_test,clf.predict(X_test)\n",
    "print('Results on the test set:')\n",
    "print(classification_report(y_true, y_pred))"
   ]
  },
  {
   "cell_type": "code",
   "execution_count": null,
   "metadata": {},
   "outputs": [],
   "source": [
    "# first run .222, .694, .649 f1 for 2,1, 0\n",
    "# mlp = MLPClassifier(max_iter=100,activation= 'tanh', alpha= 0.0001, hidden_layer_sizes= (50, 100, 50), \n",
    "#                     learning_rate= 'constant', solver= 'sgd')\n",
    "\n",
    "# slightly decreased performance on second run of feature selection\n",
    "\n",
    "mlparam =  {'activation': 'tanh', 'alpha': 0.05, 'hidden_layer_sizes': (50, 50, 50), 'learning_rate': 'adaptive', \n",
    "            'solver': 'adam'}\n",
    "mlp = MLPClassifier(max_iter=700,**mlparam)"
   ]
  },
  {
   "cell_type": "code",
   "execution_count": null,
   "metadata": {},
   "outputs": [],
   "source": [
    "visualizer = ClassificationReport(OneVsRestClassifier(mlp), classes=[0,1,2,3,4], support=True)\n",
    "\n",
    "visualizer.fit(X_train, y_train)        # Fit the visualizer and the model\n",
    "visualizer.score(X_test, y_test)        # Evaluate the model on the test data\n",
    "visualizer.show()"
   ]
  },
  {
   "cell_type": "code",
   "execution_count": null,
   "metadata": {
    "scrolled": true
   },
   "outputs": [],
   "source": [
    "visualizer.fit(X_train, y_train)        # Fit the visualizer and the model\n",
    "# predict\n",
    "predictions = visualizer.predict(X_test)\n",
    "y_pred=predictions\n",
    "# accuracy\n",
    "print(\"Accuracy = \",accuracy_score(y_test,y_pred))"
   ]
  },
  {
   "cell_type": "code",
   "execution_count": null,
   "metadata": {},
   "outputs": [],
   "source": [
    "f1_score(y_test, y_pred, average='weighted')"
   ]
  },
  {
   "cell_type": "markdown",
   "metadata": {},
   "source": [
    "# SMOTE of selected features"
   ]
  },
  {
   "cell_type": "code",
   "execution_count": null,
   "metadata": {},
   "outputs": [],
   "source": [
    "print('Original class distribution: \\n')\n",
    "print(y.value_counts())\n",
    "smote = SMOTE()\n",
    "X_train_smote, y_train_smote = smote.fit_sample(X_train, y_train) \n",
    "# Preview synthetic sample class distribution\n",
    "print('-----------------------------------------')\n",
    "print('Synthetic sample class distribution: \\n')\n",
    "print(pd.Series(y_train_smote).value_counts()) "
   ]
  },
  {
   "cell_type": "markdown",
   "metadata": {},
   "source": [
    "## Grid searched MLP on selected SMOTE: 700 iterations takes a long time"
   ]
  },
  {
   "cell_type": "code",
   "execution_count": null,
   "metadata": {},
   "outputs": [],
   "source": [
    "mlp = MLPClassifier(max_iter=700)\n",
    "\n",
    "parameter_space = {\n",
    "    'hidden_layer_sizes': [(50,50,50), (50,100,50), (100,)],\n",
    "    'activation': ['tanh', 'relu'],\n",
    "    'solver': ['sgd', 'adam'],\n",
    "    'alpha': [0.0001, 0.05],\n",
    "    'learning_rate': ['constant','adaptive'],\n",
    "}\n",
    "\n",
    "\n",
    "clf = GridSearchCV(mlp, parameter_space, n_jobs=-1, cv=3)\n",
    "clf.fit(X_train_smote, y_train_smote)\n",
    "\n",
    "# Best paramete set\n",
    "print('Best parameters found:\\n', clf.best_params_)\n",
    "\n",
    "# All results\n",
    "means = clf.cv_results_['mean_test_score']\n",
    "stds = clf.cv_results_['std_test_score']\n",
    "for mean, std, params in zip(means, stds, clf.cv_results_['params']):\n",
    "    print(\"%0.3f (+/-%0.03f) for %r\" % (mean, std * 2, params))\n",
    "\n",
    "y_true, y_pred = y_test,clf.predict(X_test)\n",
    "\n",
    "print('Results on the test set:')\n",
    "print(classification_report(y_true, y_pred))"
   ]
  },
  {
   "cell_type": "code",
   "execution_count": null,
   "metadata": {},
   "outputs": [],
   "source": [
    "sel_mlpar = {'activation': 'relu', 'alpha': 0.05, 'hidden_layer_sizes': (50, 100, 50), 'learning_rate': 'constant',\n",
    "             'solver': 'adam'}\n",
    "\n",
    "mlp = MLPClassifier(max_iter=700,**sel_mlpar)"
   ]
  },
  {
   "cell_type": "code",
   "execution_count": null,
   "metadata": {
    "scrolled": true
   },
   "outputs": [],
   "source": [
    "visualizer = ClassificationReport(OneVsRestClassifier(mlp), classes=[0,1,2,3,4], support=True)\n",
    "\n",
    "visualizer.fit(X_train_smote, y_train_smote)        # Fit the visualizer and the model\n",
    "visualizer.score(X_test, y_test)        # Evaluate the model on the test data\n",
    "visualizer.show()"
   ]
  },
  {
   "cell_type": "code",
   "execution_count": null,
   "metadata": {
    "scrolled": true
   },
   "outputs": [],
   "source": [
    "visualizer.fit(X_train_smote, y_train_smote)        # Fit the visualizer and the model\n",
    "# predict\n",
    "predictions = visualizer.predict(X_test)\n",
    "y_pred=predictions\n",
    "# accuracy\n",
    "print(\"Accuracy = \",accuracy_score(y_test,y_pred))"
   ]
  },
  {
   "cell_type": "code",
   "execution_count": null,
   "metadata": {},
   "outputs": [],
   "source": [
    "f1_score(y_test, y_pred, average='weighted')"
   ]
  },
  {
   "cell_type": "markdown",
   "metadata": {},
   "source": [
    "## Tuned XGBoost One v. Rest on selected SMOTE features"
   ]
  },
  {
   "cell_type": "markdown",
   "metadata": {},
   "source": [
    "## Hyper opt - comment out for faster notebook "
   ]
  },
  {
   "cell_type": "code",
   "execution_count": null,
   "metadata": {},
   "outputs": [],
   "source": [
    "def objective(space):\n",
    "\n",
    "    warnings.filterwarnings(action='ignore', category=DeprecationWarning)\n",
    "    classifier = xgb.XGBClassifier(n_estimators = space['n_estimators'],\n",
    "                            max_depth = int(space['max_depth']),\n",
    "                            learning_rate = space['learning_rate'],\n",
    "                            gamma = space['gamma'],\n",
    "                            min_child_weight = space['min_child_weight'],\n",
    "                            subsample = space['subsample'],\n",
    "                            colsample_bytree = space['colsample_bytree']\n",
    "                            )\n",
    "    \n",
    "    classifier.fit(X_train_smote, y_train_smote)\n",
    "\n",
    "    # Applying k-Fold Cross Validation\n",
    "    accuracies = cross_val_score(estimator = classifier, X = X_train_smote, y = y_train_smote, cv = 10)\n",
    "    CrossValMean = accuracies.mean()\n",
    "\n",
    "    print(\"CrossValMean:\", CrossValMean)\n",
    "\n",
    "    return{'loss':1-CrossValMean, 'status': STATUS_OK }\n",
    "\n",
    "space = {\n",
    "    'max_depth' : hp.choice('max_depth', range(5, 30, 1)),\n",
    "    'learning_rate' : hp.quniform('learning_rate', 0.01, 0.5, 0.01),\n",
    "    'n_estimators' : hp.choice('n_estimators', range(20, 205, 5)),\n",
    "    'gamma' : hp.quniform('gamma', 0, 0.50, 0.01),\n",
    "    'min_child_weight' : hp.quniform('min_child_weight', 1, 10, 1),\n",
    "    'subsample' : hp.quniform('subsample', 0.1, 1, 0.01),\n",
    "    'colsample_bytree' : hp.quniform('colsample_bytree', 0.1, 1.0, 0.01)}\n",
    "\n",
    "trials = Trials()\n",
    "best = fmin(fn=objective,\n",
    "            space=space,\n",
    "            algo=tpe.suggest,\n",
    "            max_evals=50,\n",
    "            trials=trials)\n",
    "\n",
    "print(\"Best: \", best)"
   ]
  },
  {
   "cell_type": "code",
   "execution_count": null,
   "metadata": {},
   "outputs": [],
   "source": [
    "smo_xg_par = {'colsample_bytree': 0.64, 'gamma': 0.21, 'learning_rate': 0.03, 'max_depth': 22, \n",
    "              'min_child_weight': 1.0, 'n_estimators': 36, 'subsample': 0.77}\n",
    "\n",
    "smote_xg = OneVsRestClassifier(XGBClassifier(**smo_xg_par))\n"
   ]
  },
  {
   "cell_type": "markdown",
   "metadata": {},
   "source": [
    "## XGB off hyperopt on smote selected features"
   ]
  },
  {
   "cell_type": "code",
   "execution_count": null,
   "metadata": {},
   "outputs": [],
   "source": [
    "visualizer = ClassificationReport(OneVsRestClassifier(smote_xg), classes=[0,1,2,3,4], support=True)\n",
    "\n",
    "visualizer.fit(X_train_smote, y_train_smote)        # Fit the visualizer and the model\n",
    "visualizer.score(X_test.values, y_test)        # Evaluate the model on the test data\n",
    "visualizer.show()"
   ]
  },
  {
   "cell_type": "code",
   "execution_count": null,
   "metadata": {},
   "outputs": [],
   "source": [
    "# smote_xg.fit(X_train_smote, y_train_smote)        # Fit the visualizer and the model\n",
    "# y_pred = smote_xg.predict(X_test)\n",
    "# predictions = [round(value) for value in y_pred]\n",
    "# # evaluate predictions\n",
    "# accuracy = accuracy_score(y_test, predictions)\n",
    "# print(\"Accuracy: %.2f%%\" % (accuracy * 100.0))\n",
    "\n",
    "visualizer.fit(X_train_smote, y_train_smote)        # Fit the visualizer and the model\n",
    "# predict\n",
    "predictions = visualizer.predict(X_test.values)\n",
    "y_pred=predictions\n",
    "# accuracy\n",
    "print(\"Accuracy = \",accuracy_score(y_test,y_pred))"
   ]
  },
  {
   "cell_type": "code",
   "execution_count": null,
   "metadata": {},
   "outputs": [],
   "source": [
    "f1_score(y_test, y_pred, average='weighted')"
   ]
  },
  {
   "cell_type": "markdown",
   "metadata": {},
   "source": [
    "## XGB Bayesian optimization \n",
    "- https://www.kaggle.com/btyuhas/bayesian-optimization-with-xgboost"
   ]
  },
  {
   "cell_type": "code",
   "execution_count": null,
   "metadata": {},
   "outputs": [],
   "source": [
    "\n",
    "dtrain = xgb.DMatrix(X_train_smote, label=y_train_smote)\n",
    "# del(X_train_smote)\n",
    "dtest = xgb.DMatrix(X_test.values)"
   ]
  },
  {
   "cell_type": "code",
   "execution_count": null,
   "metadata": {},
   "outputs": [],
   "source": [
    "def xgb_evaluate(max_depth, gamma, colsample_bytree):\n",
    "    params = {'eval_metric': 'rmse',\n",
    "              'max_depth': int(max_depth),\n",
    "              'subsample': 0.8,\n",
    "              'eta': 0.1,\n",
    "              'gamma': gamma,\n",
    "              'colsample_bytree': colsample_bytree}\n",
    "    # Used around 1000 boosting rounds in the full model\n",
    "    cv_result = xgb.cv(params, dtrain, num_boost_round=100, nfold=3)    \n",
    "    \n",
    "    # Bayesian optimization only knows how to maximize, not minimize, so return the negative RMSE\n",
    "    return -1.0 * cv_result['test-rmse-mean'].iloc[-1]"
   ]
  },
  {
   "cell_type": "code",
   "execution_count": null,
   "metadata": {},
   "outputs": [],
   "source": [
    "xgb_bo = BayesianOptimization(xgb_evaluate, {'max_depth': (3, 7), \n",
    "                                             'gamma': (0, 1),\n",
    "                                             'colsample_bytree': (0.3, 0.9)})\n",
    "# Use the expected improvement acquisition function to handle negative numbers\n",
    "# Optimally needs quite a few more initiation points and number of iterations\n",
    "xgb_bo.maximize(init_points=10, n_iter=15, acq='ei')"
   ]
  },
  {
   "cell_type": "code",
   "execution_count": null,
   "metadata": {},
   "outputs": [],
   "source": [
    "params = xgb_bo.max\n",
    "params\n"
   ]
  },
  {
   "cell_type": "code",
   "execution_count": null,
   "metadata": {},
   "outputs": [],
   "source": [
    "# Train a new model with the best parameters from the search\n",
    "model2 = xgb.train(params, dtrain, num_boost_round=250)\n",
    "\n",
    "# Predict on testing and training set\n",
    "y_pred = model2.predict(dtest)\n",
    "y_train_pred = model2.predict(dtrain)\n",
    "\n",
    "# Report testing and training RMSE\n",
    "print(np.sqrt(mean_squared_error(y_test, y_pred)))\n",
    "print(np.sqrt(mean_squared_error(y_train_smote, y_train_pred)))\n"
   ]
  },
  {
   "cell_type": "markdown",
   "metadata": {},
   "source": [
    "## XGBayes one vs rest"
   ]
  },
  {
   "cell_type": "code",
   "execution_count": null,
   "metadata": {
    "scrolled": true
   },
   "outputs": [],
   "source": [
    "visualizer = ClassificationReport(OneVsRestClassifier(XGBClassifier(**params)), classes=[0,1,2,3,4], support=True)\n",
    "\n",
    "visualizer.fit(X_train_smote, y_train_smote)        # Fit the visualizer and the model\n",
    "visualizer.score(X_test.values, y_test)        # Evaluate the model on the test data\n",
    "visualizer.show()"
   ]
  },
  {
   "cell_type": "markdown",
   "metadata": {},
   "source": [
    "## XGBoost accuracy at .6769 with hyperparams:\n",
    "- {'colsample_bytree': 0.3008803931848804,\n",
    "-  'gamma': 0.008555280635251239,\n",
    "-  'max_depth': 6.983284986023435}}"
   ]
  },
  {
   "cell_type": "code",
   "execution_count": null,
   "metadata": {},
   "outputs": [],
   "source": [
    "visualizer.fit(X_train_smote, y_train_smote)        # Fit the visualizer and the model\n",
    "# predict\n",
    "predictions = visualizer.predict(X_test.values)\n",
    "y_pred=predictions\n",
    "# accuracy\n",
    "print(\"Accuracy = \",accuracy_score(y_test,y_pred))"
   ]
  },
  {
   "cell_type": "markdown",
   "metadata": {},
   "source": [
    "## .6746 f1 for XGBayes one vs rest"
   ]
  },
  {
   "cell_type": "code",
   "execution_count": null,
   "metadata": {},
   "outputs": [],
   "source": [
    "f1_score(y_test, y_pred, average='weighted')"
   ]
  },
  {
   "cell_type": "markdown",
   "metadata": {},
   "source": [
    "## Experimenting with graphs and embeddings, currently not working material below:"
   ]
  },
  {
   "cell_type": "code",
   "execution_count": null,
   "metadata": {},
   "outputs": [],
   "source": [
    "# graph_builder = LabelCooccurrenceGraphBuilder(weighted=True, include_self_edges=False)\n",
    "# openne_line_params = dict(batch_size=1000, order=3)\n",
    "# embedder = OpenNetworkEmbedder(\n",
    "#     graph_builder,\n",
    "#     'LINE',\n",
    "#     dimension = 5*y_train_smote..toarray()shape[1],\n",
    "#     aggregation_function = 'add',\n",
    "#     normalize_weights=True,\n",
    "#     param_dict = openne_line_params\n",
    "# )\n",
    "\n",
    "# clf = EmbeddingClassifier(\n",
    "#     embedder,\n",
    "#     RandomForestRegressor(n_estimators=10),\n",
    "#     MLkNN(k=5)\n",
    "# )\n",
    "\n",
    "# clf.fit(X_train_smote, y_train_smote)\n",
    "\n",
    "# predictions = clf.predict(X_test)\n"
   ]
  },
  {
   "cell_type": "markdown",
   "metadata": {},
   "source": [
    "## Multilearn neural network - poor performance"
   ]
  },
  {
   "cell_type": "code",
   "execution_count": null,
   "metadata": {
    "scrolled": true
   },
   "outputs": [],
   "source": [
    "def create_model_single_class(input_dim, output_dim):\n",
    "    # create model\n",
    "    model = Sequential()\n",
    "    model.add(Dense(12, input_dim=input_dim, activation='relu'))\n",
    "    model.add(Dense(8, activation='relu'))\n",
    "    model.add(Dense(output_dim, activation='sigmoid'))\n",
    "    # Compile model\n",
    "    model.compile(loss='binary_crossentropy', optimizer='adam', metrics=['accuracy'])\n",
    "    return model\n",
    "\n",
    "KERAS_PARAMS = dict(epochs=10, batch_size=100, verbose=0)\n",
    "\n",
    "clf = BinaryRelevance(classifier=Keras(create_model_single_class, False, KERAS_PARAMS), require_dense=[True,True])\n",
    "clf.fit(X_train_smote, y_train_smote)\n",
    "result = clf.predict(X_test)"
   ]
  },
  {
   "cell_type": "code",
   "execution_count": null,
   "metadata": {},
   "outputs": [],
   "source": [
    "def create_model_multiclass(input_dim, output_dim):\n",
    "    # create model\n",
    "    model = Sequential()\n",
    "    model.add(Dense(8, input_dim=input_dim, activation='relu'))\n",
    "    model.add(Dense(output_dim, activation='softmax'))\n",
    "    # Compile model\n",
    "    model.compile(loss='categorical_crossentropy', optimizer='adam', metrics=['accuracy'])\n",
    "    return model"
   ]
  },
  {
   "cell_type": "code",
   "execution_count": null,
   "metadata": {},
   "outputs": [],
   "source": [
    "clf = LabelPowerset(classifier=Keras(create_model_multiclass, True, KERAS_PARAMS), require_dense=[True,True])\n",
    "clf.fit(X_train_smote,y_train_smote)\n",
    "y_pred = clf.predict(X_test)\n",
    "y_pred = y_pred.toarray()"
   ]
  },
  {
   "cell_type": "code",
   "execution_count": null,
   "metadata": {},
   "outputs": [],
   "source": [
    "print(\"Accuracy = \",accuracy_score(y_test,y_pred))"
   ]
  },
  {
   "cell_type": "code",
   "execution_count": null,
   "metadata": {},
   "outputs": [],
   "source": [
    "f1_score(y_test, y_pred, average='weighted')"
   ]
  },
  {
   "cell_type": "code",
   "execution_count": null,
   "metadata": {},
   "outputs": [],
   "source": [
    "print('Results on the test set:')\n",
    "print(classification_report(y_true, y_pred))"
   ]
  },
  {
   "cell_type": "markdown",
   "metadata": {},
   "source": [
    "## Binary relevance with Gaussian NB - okay performance"
   ]
  },
  {
   "cell_type": "code",
   "execution_count": null,
   "metadata": {},
   "outputs": [],
   "source": [
    "# initialize binary relevance multi-label classifier\n",
    "# with a gaussian naive bayes base classifier\n",
    "classifier = BinaryRelevance(GaussianNB())\n",
    "# train\n",
    "classifier.fit(X_train_smote, y_train_smote)\n",
    "# predict\n",
    "predictions = classifier.predict(X_test)\n",
    "y_pred=predictions.toarray()\n",
    "# accuracy\n",
    "print(\"Accuracy = \",accuracy_score(y_test,y_pred))"
   ]
  },
  {
   "cell_type": "code",
   "execution_count": null,
   "metadata": {},
   "outputs": [],
   "source": [
    "f1_score(y_test, y_pred, average='weighted')"
   ]
  },
  {
   "cell_type": "markdown",
   "metadata": {},
   "source": [
    "## Classifier Chains - performs pretty well"
   ]
  },
  {
   "cell_type": "code",
   "execution_count": null,
   "metadata": {},
   "outputs": [],
   "source": [
    "\n",
    "# initialize classifier chains multi-label classifier\n",
    "classifier = ClassifierChain(SVC())\n",
    "# Training logistic regression model on train data\n",
    "classifier.fit(X_train_smote, y_train_smote)\n",
    "# predict\n",
    "predictions = classifier.predict(X_test)\n",
    "y_pred = predictions.toarray()\n",
    "# accuracy\n",
    "print(\"Accuracy = \",accuracy_score(y_test,y_pred))\n",
    "print(\"\\n\")"
   ]
  },
  {
   "cell_type": "code",
   "execution_count": null,
   "metadata": {},
   "outputs": [],
   "source": [
    "f1_score(y_test, y_pred, average='weighted')"
   ]
  },
  {
   "cell_type": "markdown",
   "metadata": {},
   "source": [
    "## Using Label Powerset "
   ]
  },
  {
   "cell_type": "code",
   "execution_count": null,
   "metadata": {},
   "outputs": [],
   "source": [
    "\n",
    "# initialize label powerset multi-label classifier\n",
    "classifier = LabelPowerset(SVC())\n",
    "# train\n",
    "classifier.fit(X_train_smote, y_train_smote)\n",
    "# predict\n",
    "predictions = classifier.predict(X_test)\n",
    "y_pred = predictions.toarray()\n",
    "# accuracy\n",
    "print(\"Accuracy = \",accuracy_score(y_test,y_pred))\n",
    "print(\"\\n\")"
   ]
  },
  {
   "cell_type": "code",
   "execution_count": null,
   "metadata": {},
   "outputs": [],
   "source": [
    "f1_score(y_test, y_pred, average='weighted')"
   ]
  },
  {
   "cell_type": "markdown",
   "metadata": {},
   "source": [
    "## MLK-nn - error"
   ]
  },
  {
   "cell_type": "code",
   "execution_count": null,
   "metadata": {},
   "outputs": [],
   "source": [
    "\n",
    "# classifier_new = MLkNN(k=10)\n",
    "# # Note that this classifier can throw up errors when handling sparse matrices.\n",
    "# x_train = lil_matrix(X_train_smote).toarray()\n",
    "# y_train = lil_matrix(y_train_smote).toarray()\n",
    "# x_test = lil_matrix(X_test).toarray()\n",
    "# # train\n",
    "# classifier_new.fit(X_train_smote, y_train_smote)\n",
    "# # predict\n",
    "# predictions_new = classifier_new.predict(X_test)\n",
    "# y_pred = predictions_new.toarray()\n",
    "# # accuracy\n",
    "# print(\"Accuracy = \",accuracy_score(y_test,y_pred))\n",
    "# print(\"\\n\")"
   ]
  },
  {
   "cell_type": "code",
   "execution_count": null,
   "metadata": {},
   "outputs": [],
   "source": [
    "\n",
    "# parameters = {'k': range(1,3), 's': [0.5, 0.7, 1.0]}\n",
    "\n",
    "# clf = GridSearchCV(MLkNN(), parameters, scoring='f1_macro')\n",
    "# clf.fit(X_train_resampled, y_train_resampled)\n",
    "\n",
    "# print (clf.best_params_, clf.best_score_)"
   ]
  },
  {
   "cell_type": "markdown",
   "metadata": {},
   "source": [
    "## Binary relevance with SVC - competes with XGBoost on accuracy"
   ]
  },
  {
   "cell_type": "code",
   "execution_count": null,
   "metadata": {},
   "outputs": [],
   "source": [
    "clf = BinaryRelevance(\n",
    "    classifier=SVC(),\n",
    "    require_dense=[False, True]\n",
    ")\n",
    "clf.fit(X_train_smote, y_train_smote)\n",
    "\n",
    "prediction = clf.predict(X_test)\n",
    "y_pred = prediction.toarray()\n",
    "\n",
    "print(\"Accuracy = \",accuracy_score(y_test,y_pred))\n",
    "print(\"\\n\")\n",
    "# metrics.hamming_loss(y_test, y_pred)\n"
   ]
  },
  {
   "cell_type": "code",
   "execution_count": null,
   "metadata": {},
   "outputs": [],
   "source": [
    "f1_score(y_test, y_pred, average='weighted')"
   ]
  },
  {
   "cell_type": "markdown",
   "metadata": {},
   "source": [
    "## To do: Adding in grid search and comparison to Multinomial"
   ]
  },
  {
   "cell_type": "code",
   "execution_count": null,
   "metadata": {},
   "outputs": [],
   "source": [
    "clf = BinaryRelevance(LinearSVC())\n",
    "clf.fit(X_train_smote, y_train_smote)\n",
    "prediction = clf.predict(X_test)\n",
    "y_pred = prediction.toarray()\n",
    "print(\"Accuracy = \",accuracy_score(y_test,y_pred))\n",
    "print(\"\\n\")"
   ]
  },
  {
   "cell_type": "code",
   "execution_count": null,
   "metadata": {},
   "outputs": [],
   "source": [
    "f1_score(y_test, y_pred, average='weighted')"
   ]
  },
  {
   "cell_type": "markdown",
   "metadata": {},
   "source": [
    "## RakelD"
   ]
  },
  {
   "cell_type": "code",
   "execution_count": null,
   "metadata": {},
   "outputs": [],
   "source": [
    "classifier = RakelD(\n",
    "    base_classifier=(SVC()),\n",
    "    #not sure about require dense\n",
    "    base_classifier_require_dense=[False, True],\n",
    "    labelset_size=3\n",
    ")\n",
    "\n",
    "classifier.fit(X_train_smote, y_train_smote.reshape(-1, 1))\n",
    "prediction = classifier.predict(X_test)\n",
    "y_pred = prediction.toarray()\n",
    "print(\"Accuracy = \",accuracy_score(y_test,y_pred))\n",
    "print(\"\\n\")"
   ]
  },
  {
   "cell_type": "code",
   "execution_count": null,
   "metadata": {},
   "outputs": [],
   "source": [
    "f1_score(y_test, y_pred, average='weighted')"
   ]
  },
  {
   "cell_type": "markdown",
   "metadata": {},
   "source": [
    "# To DO: \n",
    "\n",
    "- more feature engineering(interactions and extractions, hand-encoding) and EDA, \n",
    "    - (selection?) --> label(selection?) --> one hot (embedding?)\n",
    "- more textual commentary(preamble, conclusions, context), \n",
    "- more visuals and stats of results(statistical plots), \n",
    "- Investigate what might be negatively effecting model(likely feature engineering)\n",
    "- Run feature selection AFTER SMOTE not before?\n",
    "- Recursive FElimination vs. SelectFromModel comparison\n",
    "-  and genetic tuning of xgboost\n",
    "- More Grid searching/tuning of other models, trying out values on existing/tweaking process of tuning and optimizing\n",
    "\n",
    "- PCA or t-sne feed to models\n",
    "- Clustering overall\n",
    "\n",
    "- Try new classifiers: ones above, Majority Voting classifier,\"Estimating hyper-parameter k for embedded classifiers\", MEKA, deep learning: http://scikit.ml/multilabeldnn.html especially LSTM shallow and deep nnetworks, HOMER and RF-PCT (http://clus.sourceforge.net/doku.php), MULAN classifiers\n",
    "- https://scikit-learn.org/stable/modules/manifold.html\n",
    "\n",
    "- http://scikit.ml/labelrelations.html  label graphs and clustering\n",
    "- https://github.com/grzegorz700/scikit-multilearn deep dive, get these models working\n",
    "\n",
    "- \"If performance is poor you can manually group correlated labels together, or explore hierarchical or dimensionality reduction methods to further group labels.\"\n",
    "\n",
    "- pipelines for better workflow, functions: get prediction per row, average out or regularize\n",
    "\n",
    "- hamming loss/roc auc visuals/logloss and brier score as metrics\n",
    "\n",
    "- Add new target features"
   ]
  },
  {
   "cell_type": "code",
   "execution_count": null,
   "metadata": {},
   "outputs": [],
   "source": []
  }
 ],
 "metadata": {
  "kernelspec": {
   "display_name": "Python [conda env:learn-env] *",
   "language": "python",
   "name": "conda-env-learn-env-py"
  },
  "language_info": {
   "codemirror_mode": {
    "name": "ipython",
    "version": 3
   },
   "file_extension": ".py",
   "mimetype": "text/x-python",
   "name": "python",
   "nbconvert_exporter": "python",
   "pygments_lexer": "ipython3",
   "version": "3.6.9"
  },
  "toc": {
   "base_numbering": 1,
   "nav_menu": {},
   "number_sections": true,
   "sideBar": true,
   "skip_h1_title": false,
   "title_cell": "Table of Contents",
   "title_sidebar": "Contents",
   "toc_cell": true,
   "toc_position": {},
   "toc_section_display": true,
   "toc_window_display": true
  }
 },
 "nbformat": 4,
 "nbformat_minor": 2
}

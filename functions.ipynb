{
 "cells": [
  {
   "cell_type": "markdown",
   "metadata": {
    "toc": true
   },
   "source": [
    "<h1>Table of Contents<span class=\"tocSkip\"></span></h1>\n",
    "<div class=\"toc\"><ul class=\"toc-item\"></ul></div>"
   ]
  },
  {
   "cell_type": "code",
   "execution_count": 1,
   "metadata": {},
   "outputs": [],
   "source": [
    "def check_column(df, col_names, n_unique=10, numeric=False):\n",
    "    import pandas as pd \n",
    "    import numpy as np \n",
    "    \"\"\"Displays info on null values, datatype, unqiue values\n",
    "    and displays .describe()\n",
    "    Args:\n",
    "        df (df): contains the columns\n",
    "        col_name (str): name of the df column to show\n",
    "        n_unique (int): Number of unique values top show.\n",
    "        numeric (bool): Is the cols numeric?\n",
    "    Return:\n",
    "        ?\n",
    "    \"\"\"\n",
    "    for col_name in col_names:\n",
    "        print('DataType:')\n",
    "        print('\\t',df[col_name].dtypes)\n",
    "        num_nulls = df[col_name].isna().sum()\n",
    "        print(f'Null Values Present = {num_nulls}')\n",
    "        if numeric == True:\n",
    "            display(df[col_name].describe().round(3))\n",
    "        print('\\nValue Counts:')\n",
    "        display(df[col_name].value_counts(n_unique)) \n"
   ]
  },
  {
   "cell_type": "code",
   "execution_count": 2,
   "metadata": {},
   "outputs": [],
   "source": [
    "def report1 (dataframe,n_highest_counts):\n",
    "    ''' Returns a dataframe reporting on the value counts of input frame,\n",
    "    for the top n_highest_counts values'''\n",
    "    \n",
    "    master={}\n",
    "        \n",
    "    for column in dataframe.columns:\n",
    "        \n",
    "        master[column]={}\n",
    "        col_dict = master[column]\n",
    "        col_dict['type'] = str(dataframe[column].dtypes)\n",
    "        col_dict['% empty'] = round(((len(dataframe)-dataframe[column].count())/len(dataframe))*100,2)\n",
    "        col_dict['unique values'] = dataframe[column].nunique()\n",
    "        \n",
    "        x = 1\n",
    "        series1 = dataframe[column].value_counts().head(n_highest_counts)\n",
    "        series1 = round((series1/len(dataframe)) * 100, 2)        \n",
    "        \n",
    "        for index,item in series1.items():\n",
    "            value_prop = str(x) + 'nth_value_%'\n",
    "            value_name = str(x) + 'nth_value'\n",
    "            col_dict[value_name] = index\n",
    "            col_dict[value_prop] = item\n",
    "            x += 1\n",
    "        \n",
    "    df_report=pd.DataFrame.from_dict(master,orient='index')\n",
    "    df_report.sort_values(['1nth_value_%'],ascending=False,inplace=True)\n",
    "        \n",
    "    return df_report"
   ]
  },
  {
   "cell_type": "code",
   "execution_count": 3,
   "metadata": {},
   "outputs": [],
   "source": [
    "\n",
    "def duplicates_list (dataframe,column):\n",
    "    '''Returns list of index labels of duplicate column values - more than 1 one in the column'''\n",
    "    \n",
    "    df_id_Counts = dataframe[column].value_counts()\n",
    "    repeats = df_id_Counts[df_id_Counts > 1]\n",
    "    repeats = list(repeats.index)\n",
    "    \n",
    "    return repeats"
   ]
  },
  {
   "cell_type": "code",
   "execution_count": 4,
   "metadata": {},
   "outputs": [],
   "source": [
    "\n",
    "def high_corr(dataframe,threshold):\n",
    "    '''returns multi indexed series of feature pairs with correlation above specified threshold'''\n",
    "    corr = dataframe.corr()\n",
    "    sign_corr = corr[abs(corr) > threshold]\n",
    "    sign_corr = sign_corr.stack()\n",
    "    sign_corr.drop_duplicates(inplace=True)\n",
    "    sign_corr = sign_corr[sign_corr != 1]\n",
    "\n",
    "\n",
    "    return sign_corr"
   ]
  },
  {
   "cell_type": "code",
   "execution_count": null,
   "metadata": {},
   "outputs": [],
   "source": []
  }
 ],
 "metadata": {
  "kernelspec": {
   "display_name": "Python [conda env:learn-env] *",
   "language": "python",
   "name": "conda-env-learn-env-py"
  },
  "language_info": {
   "codemirror_mode": {
    "name": "ipython",
    "version": 3
   },
   "file_extension": ".py",
   "mimetype": "text/x-python",
   "name": "python",
   "nbconvert_exporter": "python",
   "pygments_lexer": "ipython3",
   "version": "3.6.9"
  },
  "toc": {
   "base_numbering": 1,
   "nav_menu": {},
   "number_sections": true,
   "sideBar": true,
   "skip_h1_title": false,
   "title_cell": "Table of Contents",
   "title_sidebar": "Contents",
   "toc_cell": true,
   "toc_position": {},
   "toc_section_display": true,
   "toc_window_display": true
  }
 },
 "nbformat": 4,
 "nbformat_minor": 2
}
